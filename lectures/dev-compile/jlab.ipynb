{
 "cells": [
  {
   "cell_type": "markdown",
   "metadata": {},
   "source": [
    "<hr style=\"border: solid 1px red; margin-bottom: 2% \">\n",
    "\n",
    "### ARCHER SCIENTIFIC PYTHON COURSE:\n",
    "\n",
    "# C/Fortran Interface\n",
    "\n",
    "<hr style=\"border: solid 1px red; margin-bottom: -1%; \">\n",
    "\n",
    "## Website:  http://www.archer.ac.uk \n",
    "\n",
    "## Helpdesk: support@archer.ac.uk\n",
    "\n",
    "<br>\n",
    "\n",
    "<img src=\"images/epsrclogo.png\" style=\"width: 40%;\">\n",
    "<br>\n",
    "<img src=\"images/nerclogo.png\" style=\"width: 40%;\">\n",
    "\n",
    "<br>\n",
    "<img src=\"images/craylogo.png\" style=\"width: 40%;\">\n",
    "\n",
    "<br>\n",
    "<img src=\"images/epcclogo.png\" style=\"width: 40%;\">\n",
    "\n",
    "<br>\n",
    "<img src=\"images/ediunilogo.png\" style=\"width: 40%\" > \n",
    "\n",
    "<br>\n",
    "<br>"
   ]
  },
  {
   "cell_type": "markdown",
   "metadata": {},
   "source": [
    "<img src=\"images/reusematerial.png\" style=\"width: 90\">\n",
    "<br>\n",
    "<br>"
   ]
  },
  {
   "cell_type": "markdown",
   "metadata": {
    "slideshow": {
     "slide_type": "slide"
    }
   },
   "source": [
    "<br>\n",
    "<hr class=\"top\">\n",
    "\n",
    "# C/Fortran Interface\n",
    "\n",
    "<hr class=\"bot\">\n",
    "<br>\n",
    "\n",
    "## Presenter: Kevin Stratford\n",
    "\n",
    "#### Contributing authors:\n",
    "#### Neelofer Banglawala, Arno Proeme, Kevin Stratford, Andy Turner\n",
    "\n",
    "<br>\n",
    "<br>\n",
    "<br>\n",
    "\n"
   ]
  },
  {
   "cell_type": "markdown",
   "metadata": {
    "slideshow": {
     "slide_type": "slide"
    }
   },
   "source": [
    "<br>\n",
    "<hr class=\"top\">\n",
    "\n",
    "## Why couple python with another language?\n",
    "\n",
    "<hr class=\"bot\">\n",
    "<br>\n",
    "\n",
    "* Provide glue to organise complex tasks\n",
    "\n",
    "  * Handle complex software coordination provided by Python\n",
    "\n",
    "\n",
    "* Combine performance of compiled codes with flexibility of Python\n",
    "\n",
    "  * e.g. incorporate Python analysis and visualisation into existing codebase\n",
    "  * Provide flexible way to extract results from code using Python \n",
    "\n",
    "\n",
    "* Reuse code that you already have\n",
    "\n",
    "  * Gradually introduce new functionality using Python\n",
    "\n",
    "\n",
    "\n",
    "* <p style=\"font-size: 100%\">More info: </p>\n",
    "\n",
    "  * <p style=\"font-size: 100%\"> http://docs.scipy.org/doc/numpy-dev/f2py/ </p>\n",
    "  * <p style=\"font-size: 100%\"> http://scipy-cookbook.readthedocs.org </p>\n",
    "  * <p style=\"font-size: 100%\"> http://www.f2py.com/home/ </p>"
   ]
  },
  {
   "cell_type": "markdown",
   "metadata": {
    "slideshow": {
     "slide_type": "slide"
    }
   },
   "source": [
    "<br>\n",
    "<hr class=\"top\">\n",
    "\n",
    "## Extension modules\n",
    "\n",
    "<hr class=\"bot\">\n",
    "<br>\n",
    "\n",
    "* Basic approach is to compile *extension modules*\n",
    "\n",
    "  * Compiles native langauge source \n",
    "  * Adds a wrapper which provides the interface\n",
    "\n",
    "\n",
    "* Requires\n",
    "\n",
    "  * Appropriate compiler (e.g., `gfortran`, `cc`, `...`)\n",
    "  * A clear understanding of the number of types of any arguments\n",
    "\n",
    "\n",
    "* Will produce\n",
    "\n",
    "  * Extension module (shared library `.so`) loaded at run time\n",
    "  * `import` extension module as usual\n",
    "\n",
    "\n",
    "* Some care may be required with compound/opaque data types\n",
    "<br>\n",
    "<br>"
   ]
  },
  {
   "cell_type": "markdown",
   "metadata": {
    "slideshow": {
     "slide_type": "slide"
    }
   },
   "source": [
    "<br>\n",
    "<hr class=\"top\">\n",
    "\n",
    "## Different approaches\n",
    "\n",
    "<hr class=\"bot\">\n",
    "<br>\n",
    "\n",
    "* Fortran\n",
    "\n",
    "    * `f2py` is part of Numpy will handle external subroutines\n",
    "    * Modern Fortran requires, e.g., `f90wrap`\n",
    "\n",
    "\n",
    "* C (more choice)\n",
    "\n",
    "  * `f2py` can be used (a kludge)\n",
    "  * C native interface\n",
    "  * Cython\n",
    "  * Swig\n",
    "  * ctypes/CFFI\n",
    "\n",
    "\n",
    "* Various other approaches\n",
    "\n",
    "   * Weave, Numba\n",
    "   \n",
    "<br>\n",
    "<br>"
   ]
  },
  {
   "cell_type": "markdown",
   "metadata": {
    "slideshow": {
     "slide_type": "slide"
    }
   },
   "source": [
    "<br>\n",
    "<hr class=\"top\">\n",
    "## Fortran and python via `f2py`\n",
    "<hr class=\"bot\">\n",
    "<br>\n",
    "\n",
    "* You need to provide `f2py` with:\n",
    "\n",
    "  * Fortran source code\n",
    "  * A *signature file*: a file describing the external function and its arguments\n",
    "  * (`f2py` can help you generate a signature file)\n",
    "\n",
    "\n",
    "* Also need access to a Fortran compiler\n",
    "\n",
    "\n",
    "* `f2py` can:\n",
    "\n",
    "  * Create a signature file containing argument attributes (e.g., `optional`) that define the Fortran interface\n",
    "  * Wrap Fortran code in an extension module that can be imported from within Python"
   ]
  },
  {
   "cell_type": "markdown",
   "metadata": {
    "slideshow": {
     "slide_type": "slide"
    }
   },
   "source": [
    "<br>\n",
    "<br>\n",
    "<hr class=\"top\">\n",
    "## General recipe\n",
    "<hr class=\"bot\">\n",
    "<br>\n",
    "\n",
    "* Create a signature file \n",
    "  * Use \n",
    "  \n",
    "```python\n",
    "f2py <source> -m <extension_module> -h <signature>.pyf\n",
    "```\n",
    "\n",
    "* Typically the signature filename stub is the same as the source filename\n",
    "\n",
    "\n",
    "* Check the signature file for correctness\n",
    "  * Sequence and types of arguments to be passed from Python to Fortran function\n",
    "  * Argument attributes, such as `depend`\n",
    "\n",
    "\n",
    "* Produce the final extension module\n",
    "  * `f2py -c <signature_file>.pyf <source_file>.f90`\n",
    "\n",
    "\n",
    "* Import module into Python and use the external Fortran function!\n",
    "\n",
    "```python\n",
    "    import extension_module_name\n",
    "    extension_module_name.function(args)\n",
    "```\n",
    "\n",
    "* The source filename may not be the same as the function name\n"
   ]
  },
  {
   "cell_type": "markdown",
   "metadata": {
    "slideshow": {
     "slide_type": "slide"
    }
   },
   "source": [
    "<br>\n",
    "<hr class=\"top\">\n",
    "## Example : `farray_sqrt.f90`\n",
    "<hr class=\"bot\">\n",
    "<br>\n",
    "\n",
    "#### Consider:\n",
    "`array_sqrt()` is an external subroutine\n",
    "\n",
    "```fortran\n",
    "subroutine array_sqrt(n, a_in, a_out)\n",
    "  implicit none\n",
    "  integer, intent(in) :: n\n",
    "  real, dimension(n), intent(in)  :: a_in\n",
    "  real, dimension(n), intent(out) :: a_out\n",
    "  \n",
    "  integer :: i\n",
    "  \n",
    "  do i = 1, n\n",
    "    a_out(i) = sqrt(a_in(i))\n",
    "  end do\n",
    "  \n",
    "  return\n",
    "end subroutine array_sqrt\n",
    "```\n"
   ]
  },
  {
   "cell_type": "markdown",
   "metadata": {
    "slideshow": {
     "slide_type": "slide"
    }
   },
   "source": [
    "<br>\n",
    "<hr class=\"top\">\n",
    "## Create a signature file\n",
    "<hr class=\"bot\">\n",
    "<br>\n",
    "\n",
    "* `f2py` can try to create the signature file (`farray_sqrt.pyf`) automatically\n",
    "   \n",
    "   * From a terminal, issue the command:\n",
    "\n",
    "```bash\n",
    "f2py farray_sqrt.f90 -m farray -h farray_sqrt.pyf\n",
    "```\n",
    "\n",
    "* The Python extension module will be called: `farray`\n",
    "\n",
    "   * use the `-m` option\n",
    "\n",
    "\n",
    "* Signature in text file called: `farray_sqrt.pyf`\n",
    " \n",
    "  * use the `-h` option\n",
    "  \n",
    "  * Note: will not overwrite an existing signature file:\n",
    "    Use `--overwrite-signature` to overwrite.\n"
   ]
  },
  {
   "cell_type": "code",
   "execution_count": 1,
   "metadata": {
    "scrolled": true,
    "slideshow": {
     "slide_type": "notes"
    }
   },
   "outputs": [
    {
     "name": "stdout",
     "output_type": "stream",
     "text": [
      "Reading fortran codes...\r\n",
      "\tReading file 'farray_sqrt.f90' (format:free)\r\n",
      "Post-processing...\r\n",
      "\tBlock: farray\r\n",
      "\t\t\tBlock: array_sqrt\r\n",
      "Post-processing (stage 2)...\r\n",
      "Saving signatures to file \"./farray_sqrt.pyf\"\r\n"
     ]
    }
   ],
   "source": [
    "# Call from within Python to save exiting notebook...\n",
    "\n",
    "!f2py farray_sqrt.f90 -m farray -h farray_sqrt.pyf"
   ]
  },
  {
   "cell_type": "markdown",
   "metadata": {
    "slideshow": {
     "slide_type": "slide"
    }
   },
   "source": [
    "<br>\n",
    "<hr style=\"border: solid 1px red; margin-bottom: 2% \">\n",
    "## Check signature file\n",
    "<hr style=\"border: solid 1px red; margin-bottom: -1%; \">\n",
    "<br>\n",
    "\n",
    "Attributes such as <b>optional</b>, <b>intent</b> and <b>depend</b> specify the visibility, purpose and dependencies of the arguments.\n"
   ]
  },
  {
   "cell_type": "code",
   "execution_count": 2,
   "metadata": {},
   "outputs": [
    {
     "name": "stdout",
     "output_type": "stream",
     "text": [
      "!    -*- f90 -*-\r\n",
      "! Note: the context of this file is case sensitive.\r\n",
      "\r\n",
      "python module farray ! in \r\n",
      "    interface  ! in :farray\r\n",
      "        subroutine array_sqrt(n,a_in,a_out) ! in :farray:farray_sqrt.f90\r\n",
      "            integer, optional,intent(in),check(len(a_in)>=n),depend(a_in) :: n=len(a_in)\r\n",
      "            real dimension(n),intent(in) :: a_in\r\n",
      "            real dimension(n),intent(out),depend(n) :: a_out\r\n",
      "        end subroutine array_sqrt\r\n",
      "    end interface \r\n",
      "end python module farray\r\n",
      "\r\n",
      "! This file was auto-generated with f2py (version:2).\r\n",
      "! See http://cens.ioc.ee/projects/f2py2e/\r\n"
     ]
    }
   ],
   "source": [
    "!cat farray_sqrt.pyf"
   ]
  },
  {
   "cell_type": "markdown",
   "metadata": {},
   "source": [
    "Note: exact result can depend on version of `numpy`, so it is worth checking"
   ]
  },
  {
   "cell_type": "markdown",
   "metadata": {
    "slideshow": {
     "slide_type": "slide"
    }
   },
   "source": [
    "<br>\n",
    "<hr class=\"top\">\n",
    "## Compile extension module\n",
    "<hr class=\"bot\">\n",
    "<br>\n",
    "\n",
    "Once you have verified that the signature file is correct\n",
    "\n",
    "* Use `f2py` to compile a module file that can be imported into Python\n",
    "\n",
    "```bash\n",
    "f2py -c farray_sqrt.pyf farray_sqrt.f90\n",
    "```\n",
    "\n",
    "This should produce a shared library file called: `farray.so`"
   ]
  },
  {
   "cell_type": "code",
   "execution_count": 3,
   "metadata": {
    "slideshow": {
     "slide_type": "notes"
    }
   },
   "outputs": [
    {
     "name": "stdout",
     "output_type": "stream",
     "text": [
      "\u001b[39mrunning build\u001b[0m\n",
      "\u001b[39mrunning config_cc\u001b[0m\n",
      "\u001b[39munifing config_cc, config, build_clib, build_ext, build commands --compiler options\u001b[0m\n",
      "\u001b[39mrunning config_fc\u001b[0m\n",
      "\u001b[39munifing config_fc, config, build_clib, build_ext, build commands --fcompiler options\u001b[0m\n",
      "\u001b[39mrunning build_src\u001b[0m\n",
      "\u001b[39mbuild_src\u001b[0m\n",
      "\u001b[39mbuilding extension \"farray\" sources\u001b[0m\n",
      "\u001b[39mcreating /var/folders/97/w5_3cn_13t39q7pwkjc6hds00000gq/T/tmpi6souv3b/src.macosx-10.6-x86_64-3.5\u001b[0m\n",
      "\u001b[39mf2py options: []\u001b[0m\n",
      "\u001b[39mf2py: farray_sqrt.pyf\u001b[0m\n",
      "Reading fortran codes...\n",
      "\tReading file 'farray_sqrt.pyf' (format:free)\n",
      "Post-processing...\n",
      "\tBlock: farray\n",
      "\t\t\tBlock: array_sqrt\n",
      "Post-processing (stage 2)...\n",
      "Building modules...\n",
      "\tBuilding module \"farray\"...\n",
      "\t\tConstructing wrapper function \"array_sqrt\"...\n",
      "\t\t  a_out = array_sqrt(a_in,[n])\n",
      "\tWrote C/API module \"farray\" to file \"/var/folders/97/w5_3cn_13t39q7pwkjc6hds00000gq/T/tmpi6souv3b/src.macosx-10.6-x86_64-3.5/farraymodule.c\"\n",
      "\u001b[39m  adding '/var/folders/97/w5_3cn_13t39q7pwkjc6hds00000gq/T/tmpi6souv3b/src.macosx-10.6-x86_64-3.5/fortranobject.c' to sources.\u001b[0m\n",
      "\u001b[39m  adding '/var/folders/97/w5_3cn_13t39q7pwkjc6hds00000gq/T/tmpi6souv3b/src.macosx-10.6-x86_64-3.5' to include_dirs.\u001b[0m\n",
      "\u001b[39mcopying /Users/kevin/anaconda/envs/python35/lib/python3.5/site-packages/numpy/f2py/src/fortranobject.c -> /var/folders/97/w5_3cn_13t39q7pwkjc6hds00000gq/T/tmpi6souv3b/src.macosx-10.6-x86_64-3.5\u001b[0m\n",
      "\u001b[39mcopying /Users/kevin/anaconda/envs/python35/lib/python3.5/site-packages/numpy/f2py/src/fortranobject.h -> /var/folders/97/w5_3cn_13t39q7pwkjc6hds00000gq/T/tmpi6souv3b/src.macosx-10.6-x86_64-3.5\u001b[0m\n",
      "\u001b[39mbuild_src: building npy-pkg config files\u001b[0m\n",
      "\u001b[39mrunning build_ext\u001b[0m\n",
      "\u001b[39mcustomize UnixCCompiler\u001b[0m\n",
      "\u001b[39mcustomize UnixCCompiler using build_ext\u001b[0m\n",
      "\u001b[39mcustomize Gnu95FCompiler\u001b[0m\n",
      "\u001b[39mFound executable /usr/local/bin/gfortran\u001b[0m\n",
      "\u001b[39mcustomize Gnu95FCompiler\u001b[0m\n",
      "\u001b[39mcustomize Gnu95FCompiler using build_ext\u001b[0m\n",
      "\u001b[39mbuilding 'farray' extension\u001b[0m\n",
      "\u001b[39mcompiling C sources\u001b[0m\n",
      "\u001b[39mC compiler: /usr/bin/clang -Wno-unused-result -Wsign-compare -Wunreachable-code -DNDEBUG -g -fwrapv -O3 -Wall -Wstrict-prototypes -I/Users/kevin/anaconda/envs/python35/include -arch x86_64 -I/Users/kevin/anaconda/envs/python35/include -arch x86_64\n",
      "\u001b[0m\n",
      "\u001b[39mcreating /var/folders/97/w5_3cn_13t39q7pwkjc6hds00000gq/T/tmpi6souv3b/var\u001b[0m\n",
      "\u001b[39mcreating /var/folders/97/w5_3cn_13t39q7pwkjc6hds00000gq/T/tmpi6souv3b/var/folders\u001b[0m\n",
      "\u001b[39mcreating /var/folders/97/w5_3cn_13t39q7pwkjc6hds00000gq/T/tmpi6souv3b/var/folders/97\u001b[0m\n",
      "\u001b[39mcreating /var/folders/97/w5_3cn_13t39q7pwkjc6hds00000gq/T/tmpi6souv3b/var/folders/97/w5_3cn_13t39q7pwkjc6hds00000gq\u001b[0m\n",
      "\u001b[39mcreating /var/folders/97/w5_3cn_13t39q7pwkjc6hds00000gq/T/tmpi6souv3b/var/folders/97/w5_3cn_13t39q7pwkjc6hds00000gq/T\u001b[0m\n",
      "\u001b[39mcreating /var/folders/97/w5_3cn_13t39q7pwkjc6hds00000gq/T/tmpi6souv3b/var/folders/97/w5_3cn_13t39q7pwkjc6hds00000gq/T/tmpi6souv3b\u001b[0m\n",
      "\u001b[39mcreating /var/folders/97/w5_3cn_13t39q7pwkjc6hds00000gq/T/tmpi6souv3b/var/folders/97/w5_3cn_13t39q7pwkjc6hds00000gq/T/tmpi6souv3b/src.macosx-10.6-x86_64-3.5\u001b[0m\n",
      "\u001b[39mcompile options: '-I/var/folders/97/w5_3cn_13t39q7pwkjc6hds00000gq/T/tmpi6souv3b/src.macosx-10.6-x86_64-3.5 -I/Users/kevin/anaconda/envs/python35/lib/python3.5/site-packages/numpy/core/include -I/Users/kevin/anaconda/envs/python35/include/python3.5m -c'\u001b[0m\n",
      "\u001b[39mclang: /var/folders/97/w5_3cn_13t39q7pwkjc6hds00000gq/T/tmpi6souv3b/src.macosx-10.6-x86_64-3.5/fortranobject.c\u001b[0m\n",
      "In file included from /var/folders/97/w5_3cn_13t39q7pwkjc6hds00000gq/T/tmpi6souv3b/src.macosx-10.6-x86_64-3.5/fortranobject.c:2:\n",
      "In file included from /var/folders/97/w5_3cn_13t39q7pwkjc6hds00000gq/T/tmpi6souv3b/src.macosx-10.6-x86_64-3.5/fortranobject.h:13:\n",
      "In file included from /Users/kevin/anaconda/envs/python35/lib/python3.5/site-packages/numpy/core/include/numpy/arrayobject.h:4:\n",
      "In file included from /Users/kevin/anaconda/envs/python35/lib/python3.5/site-packages/numpy/core/include/numpy/ndarrayobject.h:18:\n",
      "In file included from /Users/kevin/anaconda/envs/python35/lib/python3.5/site-packages/numpy/core/include/numpy/ndarraytypes.h:1777:\n",
      "/Users/kevin/anaconda/envs/python35/lib/python3.5/site-packages/numpy/core/include/numpy/npy_1_7_deprecated_api.h:15:2: warning: \"Using deprecated NumPy API, disable it by \"          \"#defining NPY_NO_DEPRECATED_API NPY_1_7_API_VERSION\" [-W#warnings]\n",
      "#warning \"Using deprecated NumPy API, disable it by \" \\\n",
      " ^\n",
      "/var/folders/97/w5_3cn_13t39q7pwkjc6hds00000gq/T/tmpi6souv3b/src.macosx-10.6-x86_64-3.5/fortranobject.c:139:18: warning: comparison of integers of different signs: 'Py_ssize_t' (aka 'long') and 'unsigned long' [-Wsign-compare]\n",
      "        if (size < sizeof(notalloc)) {\n",
      "            ~~~~ ^ ~~~~~~~~~~~~~~~~\n",
      "2 warnings generated.\n",
      "\u001b[39mclang: /var/folders/97/w5_3cn_13t39q7pwkjc6hds00000gq/T/tmpi6souv3b/src.macosx-10.6-x86_64-3.5/farraymodule.c\u001b[0m\n",
      "In file included from /var/folders/97/w5_3cn_13t39q7pwkjc6hds00000gq/T/tmpi6souv3b/src.macosx-10.6-x86_64-3.5/farraymodule.c:19:\n",
      "In file included from /var/folders/97/w5_3cn_13t39q7pwkjc6hds00000gq/T/tmpi6souv3b/src.macosx-10.6-x86_64-3.5/fortranobject.h:13:\n",
      "In file included from /Users/kevin/anaconda/envs/python35/lib/python3.5/site-packages/numpy/core/include/numpy/arrayobject.h:4:\n",
      "In file included from /Users/kevin/anaconda/envs/python35/lib/python3.5/site-packages/numpy/core/include/numpy/ndarrayobject.h:18:\n",
      "In file included from /Users/kevin/anaconda/envs/python35/lib/python3.5/site-packages/numpy/core/include/numpy/ndarraytypes.h:1777:\n",
      "/Users/kevin/anaconda/envs/python35/lib/python3.5/site-packages/numpy/core/include/numpy/npy_1_7_deprecated_api.h:15:2: warning: \"Using deprecated NumPy API, disable it by \"          \"#defining NPY_NO_DEPRECATED_API NPY_1_7_API_VERSION\" [-W#warnings]\n",
      "#warning \"Using deprecated NumPy API, disable it by \" \\\n",
      " ^\n",
      "/var/folders/97/w5_3cn_13t39q7pwkjc6hds00000gq/T/tmpi6souv3b/src.macosx-10.6-x86_64-3.5/farraymodule.c:112:12: warning: unused function 'f2py_size' [-Wunused-function]\n",
      "static int f2py_size(PyArrayObject* var, ...)\n",
      "           ^\n",
      "2 warnings generated.\n",
      "\u001b[39mcompiling Fortran sources\u001b[0m\n",
      "\u001b[39mFortran f77 compiler: /usr/local/bin/gfortran -Wall -g -ffixed-form -fno-second-underscore -arch x86_64 -fPIC -O3 -funroll-loops\n",
      "Fortran f90 compiler: /usr/local/bin/gfortran -Wall -g -fno-second-underscore -arch x86_64 -fPIC -O3 -funroll-loops\n",
      "Fortran fix compiler: /usr/local/bin/gfortran -Wall -g -ffixed-form -fno-second-underscore -Wall -g -fno-second-underscore -arch x86_64 -fPIC -O3 -funroll-loops\u001b[0m\n",
      "\u001b[39mcompile options: '-I/var/folders/97/w5_3cn_13t39q7pwkjc6hds00000gq/T/tmpi6souv3b/src.macosx-10.6-x86_64-3.5 -I/Users/kevin/anaconda/envs/python35/lib/python3.5/site-packages/numpy/core/include -I/Users/kevin/anaconda/envs/python35/include/python3.5m -c'\u001b[0m\n",
      "\u001b[39mgfortran:f90: farray_sqrt.f90\u001b[0m\n",
      "\u001b[39m/usr/local/bin/gfortran -Wall -g -arch x86_64 -Wall -g -undefined dynamic_lookup -bundle /var/folders/97/w5_3cn_13t39q7pwkjc6hds00000gq/T/tmpi6souv3b/var/folders/97/w5_3cn_13t39q7pwkjc6hds00000gq/T/tmpi6souv3b/src.macosx-10.6-x86_64-3.5/farraymodule.o /var/folders/97/w5_3cn_13t39q7pwkjc6hds00000gq/T/tmpi6souv3b/var/folders/97/w5_3cn_13t39q7pwkjc6hds00000gq/T/tmpi6souv3b/src.macosx-10.6-x86_64-3.5/fortranobject.o /var/folders/97/w5_3cn_13t39q7pwkjc6hds00000gq/T/tmpi6souv3b/farray_sqrt.o -L/usr/local/lib/gcc/x86_64-apple-darwin15.6.0/6.2.0 -L/Users/kevin/anaconda/envs/python35/lib -lgfortran -o ./farray.cpython-35m-darwin.so\u001b[0m\n",
      "Removing build directory /var/folders/97/w5_3cn_13t39q7pwkjc6hds00000gq/T/tmpi6souv3b\n"
     ]
    }
   ],
   "source": [
    "# Run f2py command from within notebook\n",
    "# If you don't want to see the output, try \"msg = !f2py ...\"\n",
    "\n",
    "!f2py -c farray_sqrt.pyf farray_sqrt.f90"
   ]
  },
  {
   "cell_type": "code",
   "execution_count": 4,
   "metadata": {},
   "outputs": [
    {
     "name": "stdout",
     "output_type": "stream",
     "text": [
      "Untitled.ipynb               fibonacci.c\r\n",
      "c_sqrt.c                     fibonacci.f90\r\n",
      "cfortran.ipynb               iarray_sqrt.f90\r\n",
      "\u001b[31mfarray.cpython-35m-darwin.so\u001b[m\u001b[m \u001b[35mimages\u001b[m\u001b[m\r\n",
      "farray_sqrt.f90              my_library.c\r\n",
      "farray_sqrt.pyf\r\n"
     ]
    }
   ],
   "source": [
    "# Check we have the farray.so\n",
    "!ls"
   ]
  },
  {
   "cell_type": "markdown",
   "metadata": {
    "slideshow": {
     "slide_type": "slide"
    }
   },
   "source": [
    "<br>\n",
    "<hr class=\"top\">\n",
    "## Call external function from Python\n",
    "<hr class=\"bot\">\n",
    "<br>"
   ]
  },
  {
   "cell_type": "code",
   "execution_count": 5,
   "metadata": {
    "slideshow": {
     "slide_type": "-"
    }
   },
   "outputs": [],
   "source": [
    "# import the extension module\n",
    "import numpy as np\n",
    "from farray import array_sqrt"
   ]
  },
  {
   "cell_type": "code",
   "execution_count": 6,
   "metadata": {
    "slideshow": {
     "slide_type": "-"
    }
   },
   "outputs": [],
   "source": [
    "# view docsting of function (automatically produced)\n",
    "array_sqrt?"
   ]
  },
  {
   "cell_type": "code",
   "execution_count": 7,
   "metadata": {
    "slideshow": {
     "slide_type": "-"
    }
   },
   "outputs": [
    {
     "name": "stdout",
     "output_type": "stream",
     "text": [
      "[  1.   4.   9.  16.   2.]\n",
      "[ 1.          2.          3.          4.          1.41421354]\n"
     ]
    }
   ],
   "source": [
    "# let's try to use the function\n",
    "\n",
    "ain = np.array([1.0, 4.0, 9.0, 16.0, 2.0], np.double)\n",
    "print(ain)\n",
    "aout = array_sqrt(ain)\n",
    "print(aout)"
   ]
  },
  {
   "cell_type": "markdown",
   "metadata": {},
   "source": [
    "<br>\n",
    "<hr class=\"top\">\n",
    "## Python and C via `ctypes`\n",
    "<hr class=\"bot\">\n",
    "<br>\n",
    "\n",
    "* Uses only python (no additional interface file or mixed-language intermediate code)\n",
    "```python\n",
    "    import ctypes\n",
    "```\n",
    "\n",
    "* Must load the library (`.so`) file explicitly\n",
    "\n",
    "```python\n",
    "    lib = ctypes.cdll.LoadLibrary(\"./my_library.so\")\n",
    "```\n",
    "\n",
    "\n",
    "* Must specify the prototype for the C function\n",
    "\n",
    "```python\n",
    "    lib.my_c_function.restype = ctypes.c_int\n",
    "    lib.my_c_function.argtypes = [ctypes.c_double]\n",
    "```"
   ]
  },
  {
   "cell_type": "markdown",
   "metadata": {},
   "source": [
    "<br>\n",
    "<hr class=\"top\">\n",
    "## Example: C side\n",
    "<hr class=\"bot\">\n",
    "<br>\n",
    "\n",
    "Consider the simple function:\n",
    "```c\n",
    "int my_c_function(double val) {\n",
    "\n",
    "    return (int) (val + 1.0);\n",
    "}\n",
    "```\n",
    "\n",
    "We need to compile an extension module:\n"
   ]
  },
  {
   "cell_type": "code",
   "execution_count": 8,
   "metadata": {},
   "outputs": [
    {
     "name": "stdout",
     "output_type": "stream",
     "text": [
      "Untitled.ipynb               fibonacci.f90\r\n",
      "c_sqrt.c                     iarray_sqrt.f90\r\n",
      "cfortran.ipynb               \u001b[35mimages\u001b[m\u001b[m\r\n",
      "\u001b[31mfarray.cpython-35m-darwin.so\u001b[m\u001b[m my_library.c\r\n",
      "farray_sqrt.f90              my_library.o\r\n",
      "farray_sqrt.pyf              \u001b[31mmy_library.so\u001b[m\u001b[m\r\n",
      "fibonacci.c\r\n"
     ]
    }
   ],
   "source": [
    "!gcc -c -fPIC my_library.c\n",
    "!gcc -shared -o my_library.so my_library.o\n",
    "!ls"
   ]
  },
  {
   "cell_type": "markdown",
   "metadata": {},
   "source": [
    "<br>\n",
    "<hr class=\"top\">\n",
    "## Example: python side\n",
    "<hr class=\"bot\">\n",
    "<br>\n",
    "\n",
    "Now:\n",
    "\n"
   ]
  },
  {
   "cell_type": "code",
   "execution_count": 9,
   "metadata": {},
   "outputs": [
    {
     "name": "stdout",
     "output_type": "stream",
     "text": [
      "24 <class 'int'>\n"
     ]
    }
   ],
   "source": [
    "import ctypes\n",
    "\n",
    "lib = ctypes.cdll.LoadLibrary(\"./my_library.so\")\n",
    "\n",
    "lib.my_c_function.restype = ctypes.c_int\n",
    "lib.my_c_function.argtypes = [ctypes.c_double]\n",
    "\n",
    "x = float(23)\n",
    "result = lib.my_c_function(x)\n",
    "print(result, type(result))"
   ]
  },
  {
   "cell_type": "markdown",
   "metadata": {},
   "source": [
    "\n",
    "<br>\n",
    "<hr class=\"top\">\n",
    "## `ctypes` and `numpy.ndarray`\n",
    "<hr class=\"bot\">\n",
    "<br>\n",
    "\n",
    "\n",
    "Consider again the square root example, this time in C:\n",
    "    \n",
    "```c\n",
    "#include <math.h>\n",
    "\n",
    "void array_sqrt(int n, double * a_in, double * a_out) {\n",
    "\n",
    "  int i;\n",
    "\n",
    "  for (i = 0; i < n; i++) {\n",
    "    a_out[i] = sqrt(a_in[i]);\n",
    "  }\n",
    "\n",
    "  return;\n",
    "}\n",
    "```\n",
    "\n"
   ]
  },
  {
   "cell_type": "code",
   "execution_count": 5,
   "metadata": {},
   "outputs": [],
   "source": [
    "!gcc -c -fPIC c_sqrt.c\n",
    "!gcc -shared -o c_sqrt.so c_sqrt.o"
   ]
  },
  {
   "cell_type": "markdown",
   "metadata": {},
   "source": [
    "<br>\n",
    "<br>\n",
    "<hr class=\"top\">\n",
    "\n",
    "## Using bare ctypes\n",
    "\n",
    "<hr class=\"bot\">\n",
    "<br>\n"
   ]
  },
  {
   "cell_type": "code",
   "execution_count": 17,
   "metadata": {},
   "outputs": [],
   "source": [
    "# We need a pointer type p_double\n",
    "\n",
    "import ctypes\n",
    "\n",
    "c_int = ctypes.c_int\n",
    "c_double = ctypes.c_double\n",
    "p_double = ctypes.POINTER(c_double)\n",
    "\n",
    "# Define some test data\n",
    "\n",
    "a_in = np.array([16.0, 25.0, 36.0, 49.0])\n",
    "a_out = np.empty(4, np.double)\n"
   ]
  },
  {
   "cell_type": "code",
   "execution_count": 18,
   "metadata": {},
   "outputs": [
    {
     "name": "stdout",
     "output_type": "stream",
     "text": [
      "[4. 5. 6. 7.]\n"
     ]
    }
   ],
   "source": [
    "# Load library, declare the interface\n",
    "\n",
    "liba = ctypes.cdll.LoadLibrary(\"./c_sqrt.so\")\n",
    "\n",
    "liba.array_sqrt.restype = None\n",
    "liba.array_sqrt.argtypes = [c_int, p_double, p_double]\n",
    "\n",
    "# Then we need to pass pointers to actual data\n",
    "pin  =  a_in.ctypes.data_as(p_double)\n",
    "pout = a_out.ctypes.data_as(p_double)\n",
    "\n",
    "liba.array_sqrt(4, pin, pout)\n",
    "print(a_out)"
   ]
  },
  {
   "cell_type": "markdown",
   "metadata": {},
   "source": [
    "<br>\n",
    "<br>\n",
    "<hr class=\"top\">\n",
    "\n",
    "## Using `numpy.ctypeslib`\n",
    "\n",
    "<hr class=\"bot\">\n",
    "<br>\n",
    "Couldn't we just pass the numpy `ndarray` as it is? "
   ]
  },
  {
   "cell_type": "code",
   "execution_count": 22,
   "metadata": {},
   "outputs": [
    {
     "name": "stdout",
     "output_type": "stream",
     "text": [
      "<class '_ctypes.PyCSimpleType'>\n",
      "[4. 5. 6. 7.]\n"
     ]
    }
   ],
   "source": [
    "from numpy.ctypeslib import ndpointer\n",
    "\n",
    "libb = ctypes.cdll.LoadLibrary(\"./c_sqrt.so\")\n",
    "\n",
    "# Describe a_in, a_out\n",
    "ndarg = ndpointer(ctypes.c_double, flags = \"C_CONTIGUOUS\")\n",
    "\n",
    "libb.array_sqrt.restype = None\n",
    "libb.array_sqrt.argtypes = [c_int, ndarg, ndarg]\n",
    "\n",
    "a_out = numpy.empty(4, np.double)\n",
    "\n",
    "libb.array_sqrt(4, a_in, a_out)\n",
    "print(a_out)"
   ]
  },
  {
   "cell_type": "markdown",
   "metadata": {},
   "source": [
    "<br>\n",
    "<br>\n",
    "<hr class=\"top\">\n",
    "\n",
    "## Using numba\n",
    "\n",
    "<hr class=\"bot\">\n",
    "<br>\n",
    "TEST ME"
   ]
  },
  {
   "cell_type": "code",
   "execution_count": 25,
   "metadata": {},
   "outputs": [
    {
     "ename": "TypingError",
     "evalue": "Failed at nopython (nopython frontend)\n\u001b[1mUntyped global name 'accident':\u001b[0m \u001b[1m\u001b[1mcannot determine Numba type of <class 'object'>\u001b[0m\n\u001b[1m\nFile \"<ipython-input-25-41215d291acb>\", line 9:\u001b[0m\n\u001b[1mdef array_sqrt(n, ain, aout):\n    <source elided>\n        \n\u001b[1m    accident\n\u001b[0m    \u001b[1m^\u001b[0m\u001b[0m\n\u001b[0m\nThis is not usually a problem with Numba itself but instead often caused by\nthe use of unsupported features or an issue in resolving types.\n\nTo see Python/NumPy features supported by the latest release of Numba visit:\nhttp://numba.pydata.org/numba-doc/dev/reference/pysupported.html\nand\nhttp://numba.pydata.org/numba-doc/dev/reference/numpysupported.html\n\nFor more information about typing errors and how to debug them visit:\nhttp://numba.pydata.org/numba-doc/latest/user/troubleshoot.html#my-code-doesn-t-compile\n\nIf you think your code should work with Numba, please report the error message\nand traceback, along with a minimal reproducer at:\nhttps://github.com/numba/numba/issues/new\n",
     "output_type": "error",
     "traceback": [
      "\u001b[0;31m---------------------------------------------------------------------------\u001b[0m",
      "\u001b[0;31mTypingError\u001b[0m                               Traceback (most recent call last)",
      "\u001b[0;32m<ipython-input-25-41215d291acb>\u001b[0m in \u001b[0;36m<module>\u001b[0;34m()\u001b[0m\n\u001b[1;32m     10\u001b[0m \u001b[0;34m\u001b[0m\u001b[0m\n\u001b[1;32m     11\u001b[0m \u001b[0ma_out\u001b[0m \u001b[0;34m=\u001b[0m \u001b[0mnp\u001b[0m\u001b[0;34m.\u001b[0m\u001b[0mempty\u001b[0m\u001b[0;34m(\u001b[0m\u001b[0;36m4\u001b[0m\u001b[0;34m,\u001b[0m \u001b[0mnp\u001b[0m\u001b[0;34m.\u001b[0m\u001b[0mdouble\u001b[0m\u001b[0;34m)\u001b[0m\u001b[0;34m\u001b[0m\u001b[0m\n\u001b[0;32m---> 12\u001b[0;31m \u001b[0marray_sqrt\u001b[0m\u001b[0;34m(\u001b[0m\u001b[0;36m4\u001b[0m\u001b[0;34m,\u001b[0m \u001b[0ma_in\u001b[0m\u001b[0;34m,\u001b[0m \u001b[0ma_out\u001b[0m\u001b[0;34m)\u001b[0m\u001b[0;34m\u001b[0m\u001b[0m\n\u001b[0m\u001b[1;32m     13\u001b[0m \u001b[0mprint\u001b[0m\u001b[0;34m(\u001b[0m\u001b[0ma_out\u001b[0m\u001b[0;34m)\u001b[0m\u001b[0;34m\u001b[0m\u001b[0m\n",
      "\u001b[0;32m~/anaconda/envs/python37/lib/python3.7/site-packages/numba/dispatcher.py\u001b[0m in \u001b[0;36m_compile_for_args\u001b[0;34m(self, *args, **kws)\u001b[0m\n\u001b[1;32m    347\u001b[0m                 \u001b[0me\u001b[0m\u001b[0;34m.\u001b[0m\u001b[0mpatch_message\u001b[0m\u001b[0;34m(\u001b[0m\u001b[0mmsg\u001b[0m\u001b[0;34m)\u001b[0m\u001b[0;34m\u001b[0m\u001b[0m\n\u001b[1;32m    348\u001b[0m \u001b[0;34m\u001b[0m\u001b[0m\n\u001b[0;32m--> 349\u001b[0;31m             \u001b[0merror_rewrite\u001b[0m\u001b[0;34m(\u001b[0m\u001b[0me\u001b[0m\u001b[0;34m,\u001b[0m \u001b[0;34m'typing'\u001b[0m\u001b[0;34m)\u001b[0m\u001b[0;34m\u001b[0m\u001b[0m\n\u001b[0m\u001b[1;32m    350\u001b[0m         \u001b[0;32mexcept\u001b[0m \u001b[0merrors\u001b[0m\u001b[0;34m.\u001b[0m\u001b[0mUnsupportedError\u001b[0m \u001b[0;32mas\u001b[0m \u001b[0me\u001b[0m\u001b[0;34m:\u001b[0m\u001b[0;34m\u001b[0m\u001b[0m\n\u001b[1;32m    351\u001b[0m             \u001b[0;31m# Something unsupported is present in the user code, add help info\u001b[0m\u001b[0;34m\u001b[0m\u001b[0;34m\u001b[0m\u001b[0m\n",
      "\u001b[0;32m~/anaconda/envs/python37/lib/python3.7/site-packages/numba/dispatcher.py\u001b[0m in \u001b[0;36merror_rewrite\u001b[0;34m(e, issue_type)\u001b[0m\n\u001b[1;32m    314\u001b[0m                 \u001b[0;32mraise\u001b[0m \u001b[0me\u001b[0m\u001b[0;34m\u001b[0m\u001b[0m\n\u001b[1;32m    315\u001b[0m             \u001b[0;32melse\u001b[0m\u001b[0;34m:\u001b[0m\u001b[0;34m\u001b[0m\u001b[0m\n\u001b[0;32m--> 316\u001b[0;31m                 \u001b[0mreraise\u001b[0m\u001b[0;34m(\u001b[0m\u001b[0mtype\u001b[0m\u001b[0;34m(\u001b[0m\u001b[0me\u001b[0m\u001b[0;34m)\u001b[0m\u001b[0;34m,\u001b[0m \u001b[0me\u001b[0m\u001b[0;34m,\u001b[0m \u001b[0;32mNone\u001b[0m\u001b[0;34m)\u001b[0m\u001b[0;34m\u001b[0m\u001b[0m\n\u001b[0m\u001b[1;32m    317\u001b[0m \u001b[0;34m\u001b[0m\u001b[0m\n\u001b[1;32m    318\u001b[0m         \u001b[0margtypes\u001b[0m \u001b[0;34m=\u001b[0m \u001b[0;34m[\u001b[0m\u001b[0;34m]\u001b[0m\u001b[0;34m\u001b[0m\u001b[0m\n",
      "\u001b[0;32m~/anaconda/envs/python37/lib/python3.7/site-packages/numba/six.py\u001b[0m in \u001b[0;36mreraise\u001b[0;34m(tp, value, tb)\u001b[0m\n\u001b[1;32m    656\u001b[0m             \u001b[0mvalue\u001b[0m \u001b[0;34m=\u001b[0m \u001b[0mtp\u001b[0m\u001b[0;34m(\u001b[0m\u001b[0;34m)\u001b[0m\u001b[0;34m\u001b[0m\u001b[0m\n\u001b[1;32m    657\u001b[0m         \u001b[0;32mif\u001b[0m \u001b[0mvalue\u001b[0m\u001b[0;34m.\u001b[0m\u001b[0m__traceback__\u001b[0m \u001b[0;32mis\u001b[0m \u001b[0;32mnot\u001b[0m \u001b[0mtb\u001b[0m\u001b[0;34m:\u001b[0m\u001b[0;34m\u001b[0m\u001b[0m\n\u001b[0;32m--> 658\u001b[0;31m             \u001b[0;32mraise\u001b[0m \u001b[0mvalue\u001b[0m\u001b[0;34m.\u001b[0m\u001b[0mwith_traceback\u001b[0m\u001b[0;34m(\u001b[0m\u001b[0mtb\u001b[0m\u001b[0;34m)\u001b[0m\u001b[0;34m\u001b[0m\u001b[0m\n\u001b[0m\u001b[1;32m    659\u001b[0m         \u001b[0;32mraise\u001b[0m \u001b[0mvalue\u001b[0m\u001b[0;34m\u001b[0m\u001b[0m\n\u001b[1;32m    660\u001b[0m \u001b[0;34m\u001b[0m\u001b[0m\n",
      "\u001b[0;31mTypingError\u001b[0m: Failed at nopython (nopython frontend)\n\u001b[1mUntyped global name 'accident':\u001b[0m \u001b[1m\u001b[1mcannot determine Numba type of <class 'object'>\u001b[0m\n\u001b[1m\nFile \"<ipython-input-25-41215d291acb>\", line 9:\u001b[0m\n\u001b[1mdef array_sqrt(n, ain, aout):\n    <source elided>\n        \n\u001b[1m    accident\n\u001b[0m    \u001b[1m^\u001b[0m\u001b[0m\n\u001b[0m\nThis is not usually a problem with Numba itself but instead often caused by\nthe use of unsupported features or an issue in resolving types.\n\nTo see Python/NumPy features supported by the latest release of Numba visit:\nhttp://numba.pydata.org/numba-doc/dev/reference/pysupported.html\nand\nhttp://numba.pydata.org/numba-doc/dev/reference/numpysupported.html\n\nFor more information about typing errors and how to debug them visit:\nhttp://numba.pydata.org/numba-doc/latest/user/troubleshoot.html#my-code-doesn-t-compile\n\nIf you think your code should work with Numba, please report the error message\nand traceback, along with a minimal reproducer at:\nhttps://github.com/numba/numba/issues/new\n"
     ]
    }
   ],
   "source": [
    "from numba import jit\n",
    "\n",
    "@jit (nopython = True)\n",
    "def array_sqrt(n, ain, aout):\n",
    "    \n",
    "    for i in range(n):\n",
    "        aout[n] = np.sqrt(ain[n])\n",
    "\n",
    "\n",
    "a_out = np.empty(4, np.double)\n",
    "array_sqrt(4, a_in, a_out)\n",
    "print(a_out)"
   ]
  },
  {
   "cell_type": "markdown",
   "metadata": {
    "slideshow": {
     "slide_type": "slide"
    }
   },
   "source": [
    "<br>\n",
    "<hr class=\"top\">\n",
    "## Alternatives\n",
    "<hr class=\"bot\">\n",
    "<br>\n",
    "\n",
    "* <p style=\"font-size: 100%\"><b>Native Python interface</b></p>\n",
    "\n",
    "  * <p style=\"font-size: 100%\">Fully-flexible and portable</p>\n",
    "  * <p style=\"font-size: 100%\">Complex and verbose</p>\n",
    "  * <p style=\"font-size: 100%\">Option if you are interfacing a large amount of code and/or have a large software development project</p>\n",
    "\n",
    "\n",
    "* <p style=\"font-size: 100%\"><b>Cython</b> : converts Python-like code into a C library which can call other C libraries</p>\n",
    "\n",
    "  * <p style=\"font-size: 100%\">Standard C-like Python (or Python-like C)</p>\n",
    "  \n",
    "  \n",
    "* <p style=\"font-size: 100%\"> <b>SWIG</b> (or <b>S</b>implified <b>W</b>rapper and <b>I</b>nterface <b>G</b>enerator) : reads header files and generates a library Python can load </p>\n",
    "\n",
    "  * <p style=\"font-size: 100%\">Very generic and feature-rich</p>\n",
    "  * <p style=\"font-size: 100%\">Supports multiple languages other than Python (e.g. Perl, Ruby)</p>\n",
    "  \n",
    "\n",
    "  \n",
    "  \n",
    "    \n",
    "\n",
    "\n"
   ]
  },
  {
   "cell_type": "markdown",
   "metadata": {
    "slideshow": {
     "slide_type": "slide"
    }
   },
   "source": [
    "<br>\n",
    "<hr class=\"top\">\n",
    "## Alternatives contd ...\n",
    "<hr class=\"bot\">\n",
    "<br>\n",
    "  \n",
    "* <p style=\"font-size: 100%\"><b>ctypes</b>, <b>cffi</b> (C Foreign Function Interface for Python) : both provide \"foreign function interfaces\", or lightweight APIs, for calling C libraries from within Python</p> \n",
    "\n",
    "\n",
    "  * <p style=\"font-size: 100%\">The goal is to provide a convenient and reliable way to call compiled C code from Python using interface declarations written in C</p>\n",
    " \n",
    "  \n",
    "* <p style=\"font-size: 100%\"><b>Weave</b> : includes C/C++ code within Python code and compiles it transparently</p>\n",
    "\n",
    "\n",
    "* <p style=\"font-size: 100%\"><b>Boost.python</b> : helps write C++ libraries that Python can load and use easily  </p>\n",
    "  \n",
    "  \n",
    "* <p style=\"font-size: 100%\"><b>PyCUDA</b> : allows you to include NVIDIA CUDA code within Python.\n",
    "    You can also write C code by hand, that can be called by Python.</p>\n",
    "  \n",
    "  \n",
    "    \n",
    "\n",
    "\n"
   ]
  },
  {
   "cell_type": "markdown",
   "metadata": {
    "slideshow": {
     "slide_type": "slide"
    }
   },
   "source": [
    "<br>\n",
    "<hr class=\"top\">\n",
    "## Summary\n",
    "<hr class=\"bot\">\n",
    "<br>\n",
    "\n",
    "* Calling C/Fortran allows code re-use\n",
    "\n",
    "\n",
    "* Fortran/C can give better performance than Python\n",
    "\n",
    "\n",
    "* `f2py` is a simple way to call Fortran code from Python\n",
    "\n",
    "\n",
    "* Modern Fortran users should consider `f90wrap`\n",
    "\n",
    "\n",
    "* Other options more appropriate for C\n",
    "\n",
    "<br>\n",
    "<br>\n",
    "\n",
    "https://github.com/jameskermode/f90wrap\n",
    "\n",
    "<br>\n",
    "<br>\n",
    "<br>"
   ]
  },
  {
   "cell_type": "code",
   "execution_count": null,
   "metadata": {},
   "outputs": [],
   "source": [
    "help(ctypes)"
   ]
  },
  {
   "cell_type": "markdown",
   "metadata": {
    "slideshow": {
     "slide_type": "slide"
    }
   },
   "source": [
    "<br>\n",
    "<hr class=\"top\">\n",
    "## Exercise: `fibonacci.f90`\n",
    "<hr class=\"bot\">\n",
    "<br>\n",
    "\n",
    "Use `f2py` to create an extension module for function `fibonacci()` and test it in Python.\n",
    "\n",
    "`fibonacci()` computes the first `n` Fibonacci numbers: 0, 1, 1, 2, 3, 5, 8, 13,...\n",
    "and stores the results in the array provided.\n",
    "\n",
    "```fortran\n",
    "subroutine fibonacci(n, a_out)\n",
    "  implicit none\n",
    "  integer, intent(in) :: n\n",
    "  real*8, dimension(n) :: a_out\n",
    "\n",
    "  integer :: i\n",
    "  \n",
    "  do i = 1, n\n",
    "    if (i.eq.1) then\n",
    "      a_out(i) = 0.0\n",
    "    else if (i.eq.2) then\n",
    "      a_out(i) = 1.0\n",
    "    else\n",
    "      a_out(i) = a_out(i-1) + a_out(i-2)\n",
    "    end if\n",
    "  end do\n",
    "end subroutine fibonacci\n",
    "```\n",
    "\n",
    "You can try this on your laptop, or on ARCHER."
   ]
  },
  {
   "cell_type": "code",
   "execution_count": null,
   "metadata": {},
   "outputs": [],
   "source": [
    "!ls"
   ]
  },
  {
   "cell_type": "markdown",
   "metadata": {},
   "source": [
    "<br>\n",
    "<hr class=\"top\">\n",
    "## Archer\n",
    "<hr class=\"bot\">\n",
    "<br>\n",
    "\n",
    "Consult the sheet with your guest account details to login.\n",
    "\n",
    "```\n",
    "$ cd /work/y14/y14/guestNNN\n",
    "$ wget https://www.archer.ac.uk/training/course-material/2018/09/scipy-durham/sci-py-archer-course.tar.gz\n",
    "$ tar zxvf sci-py-archer-course.tar.gz\n",
    "\n",
    "```\n",
    "and\n",
    "\n",
    "```\n",
    "$ cd sci-py-archer-course/lectures/lecture05-couple\n",
    "```\n",
    "You will need an editor to edit files."
   ]
  },
  {
   "cell_type": "markdown",
   "metadata": {
    "slideshow": {
     "slide_type": "slide"
    }
   },
   "source": [
    "<br>\n",
    "<hr class=\"top\">\n",
    "## Archer \n",
    "<hr class=\"bot\">\n",
    "<br>\n",
    "\n",
    "From the command line\n",
    "```bash\n",
    "bash> module swap PrgEnv-cray PrgEnv-gnu\n",
    "bash> module swap gcc gcc/4.9.3\n",
    "bash> module load anaconda\n",
    "```\n",
    "\n",
    "Use the commands from the cells above on the command line.\n",
    "\n",
    "Create a script or use the ipython shell to run on the front end\n",
    "<br>\n",
    "<br>"
   ]
  },
  {
   "cell_type": "markdown",
   "metadata": {},
   "source": [
    "<br>\n",
    "<hr class=\"top\">\n",
    "## C Exercise\n",
    "<hr class=\"bot\">\n",
    "<br>\n",
    "\n",
    "An equivalent C function is available to compute a Fibonacci series: `fibonacci.c`\n",
    "\n",
    "Try using `ctypes` to call this function ither using your laptop, or Archer.\n",
    "\n",
    "If you are using your laptop, your will need a C compiler; on Archer, use `cc`.\n",
    "\n",
    "<hr class=\"top\">\n",
    "<hr class=\"bot\">\n"
   ]
  },
  {
   "cell_type": "code",
   "execution_count": 1,
   "metadata": {},
   "outputs": [
    {
     "data": {
      "text/html": [
       "\n",
       "<style>\n",
       "\n",
       ".container {\n",
       "  width:75% !important;\n",
       "}\n",
       "\n",
       "\n",
       "\n",
       "hr.top {\n",
       "  border: solid 1px black;\n",
       "  margin-bottom: 2%;\n",
       "  margin-top: 2cm;\n",
       "}\n",
       "\n",
       "hr.bot {\n",
       "  border: solid 1px black;\n",
       "}\n",
       "\n",
       "div.warn {\n",
       "  background-color: mistyrose;\n",
       "  border-color: red;\n",
       "  border-left: 5px solid red;\n",
       "  padding: 0.5em;\n",
       "}\n",
       "</style>\n"
      ],
      "text/plain": [
       "<IPython.core.display.HTML object>"
      ]
     },
     "metadata": {},
     "output_type": "display_data"
    }
   ],
   "source": [
    "# This cell is for the presenter\n",
    "from IPython.core.display import display, HTML\n",
    "\n",
    "styles = open(\"../style.css\", \"r\").read()\n",
    "display(HTML(styles))"
   ]
  }
 ],
 "metadata": {
  "anaconda-cloud": {},
  "celltoolbar": "Raw Cell Format",
  "kernelspec": {
   "display_name": "Python 3",
   "language": "python",
   "name": "python3"
  },
  "language_info": {
   "codemirror_mode": {
    "name": "ipython",
    "version": 3
   },
   "file_extension": ".py",
   "mimetype": "text/x-python",
   "name": "python",
   "nbconvert_exporter": "python",
   "pygments_lexer": "ipython3",
   "version": "3.7.0"
  }
 },
 "nbformat": 4,
 "nbformat_minor": 1
}
