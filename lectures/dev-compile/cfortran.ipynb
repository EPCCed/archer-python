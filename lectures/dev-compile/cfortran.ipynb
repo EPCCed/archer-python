{
 "cells": [
  {
   "cell_type": "markdown",
   "metadata": {},
   "source": [
    "<hr style=\"border: solid 1px red; margin-bottom: 2% \">\n",
    "\n",
    "### ARCHER SCIENTIFIC PYTHON COURSE:\n",
    "\n",
    "# C/Fortran Interface\n",
    "\n",
    "<hr style=\"border: solid 1px red; margin-bottom: -1%; \">\n",
    "\n",
    "## Website:  http://www.archer.ac.uk \n",
    "\n",
    "## Helpdesk: support@archer.ac.uk\n",
    "\n",
    "<br>\n",
    "\n",
    "<img src=\"../images/epsrclogo.png\" style=\"width: 40%;\">\n",
    "<br>\n",
    "<img src=\"../images/nerclogo.png\" style=\"width: 40%;\">\n",
    "\n",
    "<br>\n",
    "<img src=\"../images/craylogo.png\" style=\"width: 40%;\">\n",
    "\n",
    "<br>\n",
    "<img src=\"../images/epcclogo.png\" style=\"width: 40%;\">\n",
    "\n",
    "<br>\n",
    "<img src=\"../images/ediunilogo.png\" style=\"width: 40%\" > \n",
    "\n",
    "<br>\n",
    "<br>"
   ]
  },
  {
   "cell_type": "markdown",
   "metadata": {},
   "source": [
    "<img src=\"../images/reusematerial.png\" style=\"width: 90\">\n",
    "<br>\n",
    "<br>"
   ]
  },
  {
   "cell_type": "markdown",
   "metadata": {
    "slideshow": {
     "slide_type": "slide"
    }
   },
   "source": [
    "<br>\n",
    "<hr class=\"top\">\n",
    "\n",
    "# C/Fortran Interface\n",
    "\n",
    "<hr class=\"bot\">\n",
    "<br>\n",
    "\n",
    "## Presenter: Adrian Jackson\n",
    "\n",
    "#### Contributing authors:\n",
    "#### Adrian Jackson, Neelofer Banglawala, Arno Proeme, Kevin Stratford, Andy Turner\n",
    "\n",
    "<br>\n",
    "<br>\n",
    "<br>\n",
    "\n"
   ]
  },
  {
   "cell_type": "markdown",
   "metadata": {
    "slideshow": {
     "slide_type": "slide"
    }
   },
   "source": [
    "<br>\n",
    "<hr class=\"top\">\n",
    "\n",
    "## Why couple python with another language?\n",
    "\n",
    "<hr class=\"bot\">\n",
    "<br>\n",
    "\n",
    "* Combine performance of compiled codes with flexibility of Python\n",
    "\n",
    "  * Accelerate code where python is slow\n",
    "  * Incorporate Python analysis and visualisation into existing codebase\n",
    "  * Provide flexible way to extract results from code using Python \n",
    "\n",
    "\n",
    "* Reuse code that you already have\n",
    "\n",
    "  * Gradually introduce new functionality using Python\n",
    "\n",
    "\n",
    "* There are a number of ways to do this (quite a large number)\n",
    "\n",
    "  * One way or another might suit your needs\n",
    "  * All doing essentially the same thing"
   ]
  },
  {
   "cell_type": "markdown",
   "metadata": {
    "slideshow": {
     "slide_type": "slide"
    }
   },
   "source": [
    "<br>\n",
    "<br>\n",
    "\n",
    "## Importing modules from shared libraries\n",
    "\n",
    "\n",
    "* Basic approach is to compile *a shared library*\n",
    "\n",
    "  * Compiles native langauge source \n",
    "  * Describe the interface to python\n",
    "\n",
    "\n",
    "* Requires\n",
    "\n",
    "  * Appropriate compiler (e.g., `gfortran`, `cc`, `...`)\n",
    "  * Usually `-fPIC` Position Independent Code\n",
    "\n",
    "\n",
    "* Will produce\n",
    "\n",
    "  * A shared library (`.so` in Unix; DLLs in Windows) to be loaded at run time\n",
    "  * Some approaches `import` module as usual\n",
    "\n",
    "\n",
    "* Some care may be required with compound/opaque data types\n",
    "  * A clear picture of the number of types of any arguments\n",
    "  \n",
    "<br>\n",
    "<br>"
   ]
  },
  {
   "cell_type": "markdown",
   "metadata": {},
   "source": [
    "\n",
    "## Python and C via `ctypes`\n",
    "\n",
    "\n",
    "* `ctypes` is a python standard library module\n",
    "\n",
    "    * Provides utilities to describe C-compatible data types\n",
    "    * Manipulation of shared libraries/DLLs\n",
    "    * Uses only python (no additional files/mixed-language intermediate code)\n",
    "\n",
    "```python\n",
    "    import ctypes\n",
    "```\n",
    "\n",
    "\n",
    "* Must load the library (`.so`) file explicitly\n",
    "\n",
    "```python\n",
    "    lib = ctypes.cdll.LoadLibrary(\"./my_library.so\")\n",
    "```\n",
    "\n",
    "\n",
    "* Must specify the prototype for the C function, e.g.,\n",
    "\n",
    "```python\n",
    "    # Result type\n",
    "    lib.my_c_function.restype = ctypes.c_int\n",
    "    # Argument list\n",
    "    lib.my_c_function.argtypes = [ctypes.c_double]\n",
    "```\n",
    "\n",
    "* Potentially error-prone\n",
    "\n",
    "<br>\n",
    "<br>"
   ]
  },
  {
   "cell_type": "markdown",
   "metadata": {},
   "source": [
    "\n",
    "## ctypes example: C side\n",
    "\n",
    "Consider the simple function:\n",
    "```c\n",
    "int my_c_function(double val) {\n",
    "\n",
    "    return (int) (val + 1.0);\n",
    "}\n",
    "```\n",
    "\n",
    "We need to compile a shared library:\n",
    "\n",
    "<br>"
   ]
  },
  {
   "cell_type": "code",
   "execution_count": null,
   "metadata": {},
   "outputs": [],
   "source": [
    "\n",
    "# Issue the appropriate compilation commands\n",
    "# and check the library exists...\n",
    "\n",
    "! gcc -c -fPIC my_library.c\n",
    "! gcc -shared -o my_library.so my_library.o\n",
    "! ls -l my_library.so\n"
   ]
  },
  {
   "cell_type": "markdown",
   "metadata": {},
   "source": [
    "\n",
    "<br>\n",
    "<br>\n",
    "\n",
    "\n",
    "## ctypes example: python side\n",
    "\n",
    "Once we have the shared library:\n",
    "\n"
   ]
  },
  {
   "cell_type": "code",
   "execution_count": null,
   "metadata": {},
   "outputs": [],
   "source": [
    "\n",
    "import ctypes\n",
    "\n",
    "lib = ctypes.cdll.LoadLibrary(\"./my_library.so\")\n",
    "\n",
    "# Define return type ...\n",
    "lib.my_c_function.restype = ctypes.c_int\n",
    "\n",
    "# ...and the argument list\n",
    "lib.my_c_function.argtypes = [ctypes.c_double]\n",
    "\n",
    "x = float(23)\n",
    "result = lib.my_c_function(x)\n",
    "print(result, type(result))\n"
   ]
  },
  {
   "cell_type": "markdown",
   "metadata": {},
   "source": [
    "\n",
    "<br>\n",
    "<br>\n",
    "\n",
    "## Arrays\n",
    "\n",
    "\n",
    "Consider the following example in C with two pointer arguments:\n",
    "    \n",
    "```c\n",
    "#include <math.h>\n",
    "\n",
    "void array_sqrt(int n, double * a_in, double * a_out) {\n",
    "\n",
    "  int i;\n",
    "\n",
    "  for (i = 0; i < n; i++) {\n",
    "    a_out[i] = sqrt(a_in[i]);\n",
    "  }\n",
    "\n",
    "  return;\n",
    "}\n",
    "```\n",
    "\n"
   ]
  },
  {
   "cell_type": "code",
   "execution_count": null,
   "metadata": {},
   "outputs": [],
   "source": [
    "\n",
    "# Generate the shared library as before\n",
    "! gcc -c -fPIC c_sqrt.c\n",
    "! gcc -shared -o c_sqrt.so c_sqrt.o\n",
    "! ls -l c_sqrt.so\n"
   ]
  },
  {
   "cell_type": "markdown",
   "metadata": {},
   "source": [
    "<br>\n",
    "<br>\n",
    "\n",
    "## Using ctypes\n",
    "\n"
   ]
  },
  {
   "cell_type": "code",
   "execution_count": null,
   "metadata": {},
   "outputs": [],
   "source": [
    "# We need a pointer type p_double\n",
    "# Use ctypes utility function POINTER()\n",
    "\n",
    "import ctypes\n",
    "\n",
    "c_int = ctypes.c_int\n",
    "c_double = ctypes.c_double\n",
    "p_double = ctypes.POINTER(c_double)\n",
    "\n",
    "liba = ctypes.cdll.LoadLibrary(\"./c_sqrt.so\")\n",
    "\n",
    "liba.array_sqrt.restype = None\n",
    "liba.array_sqrt.argtypes = [c_int, p_double, p_double]\n"
   ]
  },
  {
   "cell_type": "markdown",
   "metadata": {},
   "source": [
    "\n",
    "<br>\n",
    "<br>\n",
    "\n",
    "How do we extract something that looks like a C pointer from a numpy array?\n"
   ]
  },
  {
   "cell_type": "code",
   "execution_count": null,
   "metadata": {},
   "outputs": [],
   "source": [
    "\n",
    "import numpy as np\n",
    "\n",
    "# Define some test data as numpy arrays\n",
    "\n",
    "a_in = np.array([16.0, 25.0, 36.0, 49.0])\n",
    "a_out = np.zeros(4, np.double)\n",
    "\n",
    "# Then we need to pass pointers to actual data\n",
    "pin  =  a_in.ctypes.data_as(p_double)\n",
    "pout = a_out.ctypes.data_as(p_double)\n",
    "\n",
    "liba.array_sqrt(4, pin, pout)\n",
    "print(a_out)\n"
   ]
  },
  {
   "cell_type": "markdown",
   "metadata": {},
   "source": [
    "<br>\n",
    "<br>\n",
    "\n",
    "\n",
    "## Using `numpy.ctypeslib`\n",
    "\n",
    "\n",
    "<br>\n",
    "\n",
    "Couldn't we just pass the numpy `ndarray` as it is? "
   ]
  },
  {
   "cell_type": "code",
   "execution_count": null,
   "metadata": {},
   "outputs": [],
   "source": [
    "\n",
    "from numpy.ctypeslib import ndpointer\n",
    "\n",
    "libb = ctypes.cdll.LoadLibrary(\"./c_sqrt.so\")\n",
    "\n",
    "# Describe a_in, a_out\n",
    "ndarg = ndpointer(ctypes.c_double, flags = \"C_CONTIGUOUS\")\n",
    "\n",
    "libb.array_sqrt.restype = None\n",
    "libb.array_sqrt.argtypes = [c_int, ndarg, ndarg]\n",
    "\n",
    "# A new output array\n",
    "a_out = np.zeros(4, np.double, order = 'C')\n",
    "\n",
    "libb.array_sqrt(4, a_in, a_out)\n",
    "print(a_out)\n"
   ]
  },
  {
   "cell_type": "markdown",
   "metadata": {},
   "source": [
    "\n",
    "<br>\n",
    "<br>\n",
    "\n",
    "## Fortran via ctypes\n",
    "\n",
    "It is possible to call external Fortran procedures using a ctypes description.\n",
    "\n",
    "Consider an analogue of the square root routine\n",
    "```fortran\n",
    "subroutine array_sqrt(n, ain, aout)\n",
    "\n",
    "  implicit none\n",
    "  integer, intent(in)  :: n\n",
    "  real,    intent(in)  :: ain(n)   ! Note default real\n",
    "  real,    intent(out) :: aout(n)  ! Ditto\n",
    "  \n",
    "  integer :: i\n",
    "  \n",
    "  do i = 1, n\n",
    "    aout(n) = ain(n)**0.5\n",
    "  end do\n",
    "  \n",
    "  return\n",
    "end subroutine array_sqrt\n",
    "\n",
    "```\n",
    "\n",
    "<br>\n",
    "<br>"
   ]
  },
  {
   "cell_type": "code",
   "execution_count": null,
   "metadata": {},
   "outputs": [],
   "source": [
    "\n",
    "# Compile a shared library\n",
    "! gfortran -c -fPIC farray_sqrt.f90\n",
    "! gfortran -shared -fPIC -o farray_sqrt.so farray_sqrt.o\n",
    "! ls -l farray_sqrt.so\n"
   ]
  },
  {
   "cell_type": "code",
   "execution_count": null,
   "metadata": {},
   "outputs": [],
   "source": [
    "\n",
    "# Python\n",
    "\n",
    "import ctypes\n",
    "\n",
    "libf = ctypes.cdll.LoadLibrary(\"farray_sqrt.so\")\n",
    "\n",
    "# p_int is required for call by reference\n",
    "# p_float is required\n",
    "\n",
    "c_int = ctypes.c_int\n",
    "c_float = ctypes.c_float\n",
    "\n",
    "p_int = ctypes.POINTER(c_int)\n",
    "p_float = ctypes.POINTER(c_float)\n",
    "\n",
    "# Note \"name mangling\" additional underscore\n",
    "\n",
    "libf.array_sqrt_.restype = None\n",
    "libf.array_sqrt_.argtypes = [p_int, p_float, p_float]\n"
   ]
  },
  {
   "cell_type": "code",
   "execution_count": null,
   "metadata": {},
   "outputs": [],
   "source": [
    "\n",
    "import numpy as np\n",
    "\n",
    "# generate some numpy test data\n",
    "ain  = np.array([4.0, 9.0, 16.0, 25.0, 2.0], dtype = np.float32,\n",
    "                order = 'F')\n",
    "aout = np.zeros(ain.size, dtype = np.float32, order = 'F')\n",
    "\n",
    "# Identify the ctypes pointer descriptions\n",
    "pin  = ain.ctypes.data_as(p_float)\n",
    "pout = aout.ctypes.data_as(p_float)\n",
    "\n",
    "n = ctypes.c_int(ain.size)\n",
    "libf.array_sqrt_(ctypes.byref(n), pin, pout)\n",
    "\n",
    "print(aout)\n"
   ]
  },
  {
   "cell_type": "markdown",
   "metadata": {},
   "source": [
    "\n",
    "<br>\n",
    "<br>\n",
    "\n",
    "### Note on development\n",
    "\n",
    "Once loaded, there is no easy way to \"re-load\" a shared library\n",
    "in a running process.\n",
    "\n",
    "For the notebook, this means if the library is re-compiled, the only\n",
    "way to re-load the new library in a reliable fashion is to restart\n",
    "the kernel. This can be slightly tedious, so dealing with shared\n",
    "libraries is perhaps better handled via command line and a script\n",
    "which automatically means you have a new process each time.\n",
    "\n",
    "<br>\n",
    "<br>\n",
    "\n",
    "## Using CFFI\n",
    "\n",
    "* C foreign function interface is standard library module\n",
    "\n",
    "    * Can load shared library directly (\"ABI\")\n",
    "    * Can deal with code (\"API\")\n",
    "\n",
    "\n",
    "* Application binary interface\n",
    "\n",
    "    * Load shared library\n",
    "    * Describe function prototypes\n",
    "\n",
    "\n",
    "* Application programming interface\n",
    "\n",
    "    * Provide prototype and source code\n",
    "    * Compile from python\n",
    "    * `import` resultant module\n",
    "    \n",
    "    \n",
    "<br>\n",
    "<br>\n",
    "\n",
    "\n",
    "## cffi ABI (Application Binary Interface)\n",
    "\n",
    "This is simliar to the ctypes approach:\n",
    "\n"
   ]
  },
  {
   "cell_type": "code",
   "execution_count": null,
   "metadata": {},
   "outputs": [],
   "source": [
    "# Use C c_sqrt.so compiled above\n",
    "\n",
    "import cffi\n",
    "\n",
    "# The prototype must be provided\n",
    "ffi = cffi.FFI()\n",
    "ffi.cdef(\"void array_sqrt(int n, double * a_in, double * a_out);\")\n",
    "\n",
    "libc3 = ffi.dlopen(\"./c_sqrt.so\")\n",
    "\n",
    "# Provide test data\n",
    "ain  = np.array([1.0, 2.0, 3.0, 4.0])\n",
    "aout = np.zeros(ain.size)\n",
    "\n",
    "pin  = ffi.cast(\"double *\", ain.ctypes.data)\n",
    "pout = ffi.cast(\"double *\", aout.ctypes.data)\n",
    "\n",
    "libc3.array_sqrt(4, pin, pout)\n",
    "\n",
    "print(aout)\n"
   ]
  },
  {
   "cell_type": "markdown",
   "metadata": {},
   "source": [
    "\n",
    "<br>\n",
    "<br>\n",
    "\n",
    "## cffi API (Application Programming Inferface)\n",
    "\n",
    "This avoids explicit maniplulation of shared libraries:"
   ]
  },
  {
   "cell_type": "code",
   "execution_count": null,
   "metadata": {},
   "outputs": [],
   "source": [
    "\n",
    "import cffi\n",
    "\n",
    "# Provide prototype and code!\n",
    "ffi = cffi.FFI()\n",
    "ffi.cdef(\"void array_sqrt(int n, double * a_in, double * a_out);\")\n",
    "\n",
    "with open(\"./c_sqrt.c\", \"r\") as srcfile:\n",
    "    src = srcfile.read()\n",
    "\n",
    "# Define a module name and compile\n",
    "# Note: do not supply same name as original source file\n",
    "#       or it will be overwritten\n",
    "\n",
    "ffi.set_source(\"c_sqrt_ffi\", src)\n",
    "ffi.compile(verbose = True)\n"
   ]
  },
  {
   "cell_type": "code",
   "execution_count": null,
   "metadata": {},
   "outputs": [],
   "source": [
    "\n",
    "# Import the library object of the new module\n",
    "\n",
    "from c_sqrt_ffi import lib\n",
    "\n",
    "ain  = np.array([2.0, 81.0])\n",
    "aout = np.zeros(ain.size)\n",
    "\n",
    "pin  = ffi.cast(\"double *\", ain.ctypes.data)\n",
    "pout = ffi.cast(\"double *\", aout.ctypes.data)\n",
    "\n",
    "lib.array_sqrt(ain.size, pin, pout)\n",
    "\n",
    "print(aout)\n"
   ]
  },
  {
   "cell_type": "markdown",
   "metadata": {},
   "source": [
    "<br>\n",
    "<br>\n",
    "\n",
    "\n",
    "## Using numba\n",
    "\n",
    "The cffi approach might ease some portability issues, but looks much like\n",
    "ctypes behind the scenes.\n",
    "\n",
    "* The numba project uses a slightly different approach\n",
    "\n",
    "    * Just-in-time compilation\n",
    "    * In-built version of LLVM so no calls to external compiler/loading libraries\n",
    "\n",
    "```python\n",
    "from numba import jit\n",
    "```\n",
    "\n",
    "* Use `@jit` decorator to indicate functions for compilation\n",
    "\n",
    "    * @jit (nopython = True)\n"
   ]
  },
  {
   "cell_type": "code",
   "execution_count": null,
   "metadata": {},
   "outputs": [],
   "source": [
    "\n",
    "import numpy as np\n",
    "from numba import jit\n",
    "\n",
    "@jit (nopython = True)\n",
    "def array_sqrt(n, ain, aout):\n",
    "\n",
    "    for i in range(n):\n",
    "        aout[i] = np.sqrt(ain[i])\n",
    "\n",
    "\n",
    "a_in  = np.array([4.0, 9.0, 16.0, 25.0], np.double)\n",
    "a_out = np.zeros(4, np.double)\n",
    "\n",
    "array_sqrt(a_in.size, a_in, a_out)\n",
    "\n",
    "print(a_out)\n"
   ]
  },
  {
   "cell_type": "markdown",
   "metadata": {
    "slideshow": {
     "slide_type": "slide"
    }
   },
   "source": [
    "<br>\n",
    "\n",
    "## Alternatives\n",
    "\n",
    "<br>\n",
    "\n",
    "* <p style=\"font-size: 100%\"><b>Native Python interface</b></p>\n",
    "\n",
    "  * <p style=\"font-size: 100%\">Fully-flexible and portable</p>\n",
    "  * <p style=\"font-size: 100%\">Complex and verbose</p>\n",
    "  * <p style=\"font-size: 100%\">Option if you are interfacing a large amount of code and/or have a large software development project</p>\n",
    "\n",
    "\n",
    "* <p style=\"font-size: 100%\"><b>Cython</b> : converts Python-like code into a C library which can call other C libraries</p>\n",
    "\n",
    "  * <p style=\"font-size: 100%\">Standard C-like Python (or Python-like C)</p>\n",
    "  \n",
    "  \n",
    "* <p style=\"font-size: 100%\"> <b>SWIG</b> (or <b>S</b>implified <b>W</b>rapper and <b>I</b>nterface <b>G</b>enerator) : reads header files and generates a library Python can load </p>\n",
    "\n",
    "  * <p style=\"font-size: 100%\">Very generic and feature-rich</p>\n",
    "  * <p style=\"font-size: 100%\">Supports multiple languages other than Python (e.g. Perl, Ruby)</p>\n",
    "  \n",
    "\n",
    "  \n",
    "  \n",
    "    \n",
    "\n",
    "\n"
   ]
  },
  {
   "cell_type": "markdown",
   "metadata": {
    "slideshow": {
     "slide_type": "slide"
    }
   },
   "source": [
    "\n",
    "* **Boost.python** : helps write C++ libraries that Python can load and use easily\n",
    "  \n",
    "\n",
    "  \n",
    "    \n",
    "\n",
    "\n"
   ]
  },
  {
   "cell_type": "markdown",
   "metadata": {
    "slideshow": {
     "slide_type": "slide"
    }
   },
   "source": [
    "<br>\n",
    "\n",
    "## Summary\n",
    "\n",
    "* Calling C/Fortran allows code re-use\n",
    "\n",
    "\n",
    "* Fortran/C can give better performance than Python\n",
    "\n",
    "* Modern Fortran users should consider `f90wrap`\n",
    "\n",
    "<br>\n",
    "<br>\n",
    "\n",
    "https://github.com/jameskermode/f90wrap\n",
    "\n",
    "<br>\n",
    "<br>\n",
    "<br>"
   ]
  },
  {
   "cell_type": "markdown",
   "metadata": {
    "slideshow": {
     "slide_type": "slide"
    }
   },
   "source": [
    "<br>\n",
    "\n",
    "## Exercise: `fibonacci.f90`\n",
    "\n",
    "A C version is also available.\n",
    "<br>\n",
    "\n",
    "Using a method or methods of your choice, try to call\n",
    "the following code from python.\n",
    "\n",
    "`fibonacci()` computes the first `n` Fibonacci numbers: 0, 1, 1, 2, 3, 5, 8, 13,...\n",
    "and stores the results in the array provided.\n",
    "\n",
    "```fortran\n",
    "subroutine fibonacci(n, a_out)\n",
    "  implicit none\n",
    "  integer, intent(in) :: n\n",
    "  real*8, dimension(n) :: a_out\n",
    "\n",
    "  integer :: i\n",
    "  \n",
    "  do i = 1, n\n",
    "    if (i.eq.1) then\n",
    "      a_out(i) = 0.0\n",
    "    else if (i.eq.2) then\n",
    "      a_out(i) = 1.0\n",
    "    else\n",
    "      a_out(i) = a_out(i-1) + a_out(i-2)\n",
    "    end if\n",
    "  end do\n",
    "end subroutine fibonacci\n",
    "```\n",
    "\n",
    "You can try this on your laptop, or on ARCHER."
   ]
  },
  {
   "cell_type": "markdown",
   "metadata": {},
   "source": [
    "<br>\n",
    "\n",
    "## Archer\n",
    "\n",
    "<br>\n",
    "\n",
    "Consult the sheet with your guest account details to login.\n",
    "\n",
    "```\n",
    "$ cd /work/y14/y14/guestNNN\n",
    "$ git clone https://github.com/adrianjhpc/archer-python.git\n",
    "```\n",
    "and\n",
    "\n",
    "```\n",
    "$ cd archer-python/lectures/dev-compile\n",
    "```\n",
    "You will need an editor to edit files."
   ]
  },
  {
   "cell_type": "markdown",
   "metadata": {
    "slideshow": {
     "slide_type": "slide"
    }
   },
   "source": [
    "\n",
    "\n",
    "From the command line\n",
    "```bash\n",
    "bash> module swap PrgEnv-cray PrgEnv-gnu\n",
    "bash> module swap gcc gcc/4.9.3\n",
    "bash> module load anaconda\n",
    "```\n",
    "\n",
    "Use the commands from the cells above on the command line.\n",
    "\n",
    "Create a script or use the ipython shell to run on the front end\n",
    "<br>\n",
    "<br>"
   ]
  },
  {
   "cell_type": "markdown",
   "metadata": {},
   "source": [
    "<br>\n",
    "\n",
    "## C Exercise\n",
    "\n",
    "<br>\n",
    "\n",
    "An equivalent C function is available to compute a Fibonacci series: `fibonacci.c`\n",
    "\n",
    "Try using `ctypes` to call this function either using your laptop, or Archer.\n",
    "\n",
    "If you are using your laptop, your will need a C compiler; on Archer, use `cc`.\n",
    "\n",
    "<hr class=\"top\">\n",
    "<hr class=\"bot\">\n"
   ]
  },
  {
   "cell_type": "code",
   "execution_count": null,
   "metadata": {},
   "outputs": [],
   "source": []
  }
 ],
 "metadata": {
  "anaconda-cloud": {},
  "celltoolbar": "Raw Cell Format",
  "kernelspec": {
   "display_name": "Python 3",
   "language": "python",
   "name": "python3"
  },
  "language_info": {
   "codemirror_mode": {
    "name": "ipython",
    "version": 3
   },
   "file_extension": ".py",
   "mimetype": "text/x-python",
   "name": "python",
   "nbconvert_exporter": "python",
   "pygments_lexer": "ipython3",
   "version": "3.7.1"
  }
 },
 "nbformat": 4,
 "nbformat_minor": 2
}
