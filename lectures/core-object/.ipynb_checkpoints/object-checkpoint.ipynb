{
 "cells": [
  {
   "cell_type": "markdown",
   "metadata": {},
   "source": [
    "<hr style=\"border: solid 1px red; margin-bottom: 2% \">\n",
    "## ARCHER COURSE\n",
    "# SCIENTIFIC PYTHON\n",
    "<hr style=\"border: solid 1px red; margin-bottom: -1%; \">\n",
    "<br>\n",
    "## Website:  http://www.archer.ac.uk \n",
    "\n",
    "## Helpdesk: support@archer.ac.uk\n",
    "\n",
    "<br>\n",
    "\n",
    "<img src=\"images/epsrclogo.png\" style=\"width: 50%;\">\n",
    "<br>\n",
    "<img src=\"images/nerclogo.png\" style=\"width: 50%;\">\n",
    "\n",
    "<br>\n",
    "<img src=\"images/craylogo.png\" style=\"width: 50%;\">\n",
    "\n",
    "<br>\n",
    "<img src=\"images/epcclogo.png\" style=\"width: 50%;\">\n",
    "\n",
    "<br>\n",
    "<img src=\"images/ediunilogo.png\"> \n",
    "\n",
    "<br>\n",
    "<br>\n",
    "\n"
   ]
  },
  {
   "cell_type": "markdown",
   "metadata": {},
   "source": [
    "<img src=\"./images/reusematerial.png\" style=\"width: 90%;\">\n",
    "<br>"
   ]
  },
  {
   "cell_type": "markdown",
   "metadata": {
    "slideshow": {
     "slide_type": "slide"
    }
   },
   "source": [
    "<br>\n",
    "<hr class=\"top\">\n",
    "# Scientific Computing with Python: Classes, Objects, and All That...\n",
    "<hr class=\"bot\">\n",
    "\n",
    "\n",
    "## Presenter: Kevin Stratford\n",
    "\n",
    "#### Contributing authors:\n",
    "#### Kevin Stratford\n",
    "<br>\n",
    "<br>"
   ]
  },
  {
   "cell_type": "markdown",
   "metadata": {
    "slideshow": {
     "slide_type": "slide"
    }
   },
   "source": [
    "\n",
    "<hr class=\"top\">\n",
    "## Overview \n",
    "<hr class=\"bot\">\n",
    "\n",
    "* Many of the things we have used so far are objects:\n",
    "    - i.e., instances of a particlar class\n",
    "    - `file`, `numpy.ndarray`, `matplotlib.figure.Figure`\n",
    "\n",
    "\n",
    "* We have skirted the issue of objects\n",
    "    - You can make progress with such an approach\n",
    "\n",
    "\n",
    "* Useful to understand the basics of class use in python\n",
    "    - Ultimately a very powerful model\n",
    "\n"
   ]
  },
  {
   "cell_type": "markdown",
   "metadata": {
    "slideshow": {
     "slide_type": "slide"
    }
   },
   "source": [
    "<hr class=\"top\">\n",
    "## A class\n",
    "<hr class=\"bot\">\n",
    "\n",
    "* Broadly, an organised collection of data (_attributes_), and methods (_functions_) which manipulate those data\n",
    "\n",
    "\n",
    "* E.g., standard library `file` object (or _type_)\n",
    "https://docs.python.org/2/library/stdtypes.html#bltin-file-objects\n",
    "\n",
    "\n",
    "- the built-in function `open()` provides a way to create a `file` object\n"
   ]
  },
  {
   "cell_type": "code",
   "execution_count": 1,
   "metadata": {},
   "outputs": [
    {
     "name": "stdout",
     "output_type": "stream",
     "text": [
      "<class '_io.TextIOWrapper'>\n"
     ]
    }
   ],
   "source": [
    "myfile = open(\"newfile.txt\", mode=\"w\")\n",
    "print(type(myfile))"
   ]
  },
  {
   "cell_type": "markdown",
   "metadata": {
    "slideshow": {
     "slide_type": "slide"
    }
   },
   "source": [
    "<hr class=\"top\">\n",
    "## Methods\n",
    "<hr class=\"bot\">\n",
    "\n",
    "Methods related to given class or type allow\n",
    "useful operations to be performed:\n"
   ]
  },
  {
   "cell_type": "code",
   "execution_count": null,
   "metadata": {},
   "outputs": [],
   "source": [
    "# Using myfile from the previous cell...\n",
    "\n",
    "myfile.write(\"Send this line to the file\")\n",
    "myfile.close()\n"
   ]
  },
  {
   "cell_type": "markdown",
   "metadata": {},
   "source": [
    "The user does not know (or care) about the internal workings of the `file` object. Only the function calls (the API).\n",
    "\n",
    "Sometimes referred to as encapsulation or data hiding."
   ]
  },
  {
   "cell_type": "markdown",
   "metadata": {
    "collapsed": true,
    "slideshow": {
     "slide_type": "slide"
    }
   },
   "source": [
    "<br>\n",
    "<hr class=\"top\">\n",
    "## Defining our own class \n",
    "<hr class=\"bot\">\n",
    "\n",
    "### Specifying a new class\n",
    "\n",
    "Let's say we want to create a class to represent a complex number.\n",
    "```python\n",
    "# We introduce a class with the class keyword;\n",
    "# the name of the class is often capitalised\n",
    "\n",
    "class MyComplex(object):\n",
    "\n",
    "    # Contents are determined by indentation\n",
    "    ...\n",
    "```\n",
    "* The argument appearing in the definition `(object)` is the superclass from which we inherit (more later)"
   ]
  },
  {
   "cell_type": "markdown",
   "metadata": {},
   "source": [
    "### Initialisation\n",
    "\n",
    "A complex number should have real and imaginary parts.\n",
    "\n",
    "To initialise, use the special method `__init__()`:"
   ]
  },
  {
   "cell_type": "code",
   "execution_count": null,
   "metadata": {},
   "outputs": [],
   "source": [
    "class MyComplex(object):\n",
    "\n",
    "    def __init__(self, re, im):\n",
    "\n",
    "        \"\"\"Complex number with real and imaginary\n",
    "        parts\"\"\"\n",
    "\n",
    "        self.re = re\n",
    "        self.im = im"
   ]
  },
  {
   "cell_type": "markdown",
   "metadata": {},
   "source": [
    "<br>\n",
    "<br>\n"
   ]
  },
  {
   "cell_type": "code",
   "execution_count": null,
   "metadata": {},
   "outputs": [],
   "source": [
    "# Create one object of the new type...\n",
    "# Note there is no 'self' argument here:\n",
    "i = MyComplex(0.0, 1.0)\n",
    "\n",
    "# Find out type using the inbuilt type function...\n",
    "\n",
    "print(type(i))\n",
    "\n",
    "# Examine the values of the attributes\n",
    "print(\"Real part is\", i.re)\n",
    "print(\"Imag part is\", i.im)"
   ]
  },
  {
   "cell_type": "markdown",
   "metadata": {},
   "source": [
    "<br>\n",
    "* Note no attempt at data-hiding"
   ]
  },
  {
   "cell_type": "markdown",
   "metadata": {},
   "source": [
    "<br>\n",
    "\n",
    "<hr class=\"top\">\n",
    "## An instance method\n",
    "<hr class=\"bot\">\n",
    "\n",
    "Using the code above as a template, we can use a simple instance method to add complex numbers:"
   ]
  },
  {
   "cell_type": "code",
   "execution_count": null,
   "metadata": {},
   "outputs": [],
   "source": [
    "class MyComplex(object):\n",
    "\n",
    "    def __init__(self, re, im):\n",
    "\n",
    "        self.re = re\n",
    "        self.im = im\n",
    "    \n",
    "    def add(self, c):\n",
    "        \"\"\"Add c to self\"\"\"\n",
    "\n",
    "        self.re += c.re\n",
    "        self.im += c.im"
   ]
  },
  {
   "cell_type": "markdown",
   "metadata": {},
   "source": [
    "<br>\n"
   ]
  },
  {
   "cell_type": "code",
   "execution_count": null,
   "metadata": {},
   "outputs": [],
   "source": [
    "i = MyComplex(0.0, 1.0)\n",
    "j = MyComplex(1.0, 0.0)\n",
    "\n",
    "# Instance method applied to i\n",
    "i.add(j)\n",
    "\n",
    "print(\"Real part is\", i.re)\n",
    "print(\"Imag part is\", i.im)"
   ]
  },
  {
   "cell_type": "markdown",
   "metadata": {
    "collapsed": true,
    "slideshow": {
     "slide_type": "slide"
    }
   },
   "source": [
    "\n",
    "<hr class=\"top\">\n",
    "## Exercise\n",
    "<hr class=\"bot\">\n",
    "\n",
    "Using the template above, or in a separate file,\n",
    "add an instance method to compute the product of\n",
    "one complex number with another.\n",
    "\n",
    "The method should be invoked as, e.g.:\n",
    "```python\n",
    "a.multiplyBy(b)\n",
    "```\n",
    "`a` is then the product, and `b` is unchanged.\n",
    "\n",
    "Check your result, e.g.,\n",
    "$(1 + 2i)(3 + 4i) = -5 +10i$\n",
    "<br>\n",
    "<br>\n",
    "\n",
    "Recall that for two complex numbers $a_r + a_i i$ and $b_r + b_i i$, the\n",
    "product is $(a_r b_r - a_i b_i) + (a_r b_i + a_i b_r )i$.\n",
    "<br>\n",
    "<br>"
   ]
  },
  {
   "cell_type": "code",
   "execution_count": null,
   "metadata": {},
   "outputs": [],
   "source": [
    "# Add extra method to the cell\n",
    "# containing MyComplex above\n",
    "\n",
    "# Multiply the two complex numbers \n",
    "a = MyComplex(1.0, 2.0)\n",
    "b = MyComplex(3.0, 4.0)"
   ]
  },
  {
   "cell_type": "code",
   "execution_count": null,
   "metadata": {},
   "outputs": [],
   "source": [
    "# To see a solution uncomment the following and execute...\n",
    "# %load exercise1.py\n"
   ]
  },
  {
   "cell_type": "markdown",
   "metadata": {
    "collapsed": true,
    "slideshow": {
     "slide_type": "slide"
    }
   },
   "source": [
    "<hr class=\"top\">\n",
    "## A static method\n",
    "<hr class=\"bot\">\n",
    "\n",
    "A class may include methods which do not act on particular instances.\n",
    "\n"
   ]
  },
  {
   "cell_type": "code",
   "execution_count": null,
   "metadata": {},
   "outputs": [],
   "source": [
    "class MyComplex(object):\n",
    "    \n",
    "    def __init__(self, re, im):\n",
    "        self.re = re\n",
    "        self.im = im\n",
    "        \n",
    "    @staticmethod\n",
    "    def add(a, b):\n",
    "        \"\"\"Return a new complex number which is the\n",
    "        sum\"\"\"\n",
    "        return MyComplex(a.re + b.re, a.im + b.im)"
   ]
  },
  {
   "cell_type": "markdown",
   "metadata": {},
   "source": [
    "<br>\n",
    "The `@staticmethod` is an example of a _decorator_, which modifies the properties of the function.\n",
    "\n",
    "Note there is also `@classmethod`, which is slightly different in python (having the class as an implicit argument cf. `self`).\n",
    "<br>\n",
    "<br>"
   ]
  },
  {
   "cell_type": "code",
   "execution_count": null,
   "metadata": {},
   "outputs": [],
   "source": [
    "i = MyComplex(0.0, 1.0)\n",
    "j = MyComplex(-1.0, 0.0)\n",
    "\n",
    "# The static method is invoked via the class name\n",
    "k = MyComplex.add(i, j)\n",
    "print(\"Result is \", k.re, k.im)"
   ]
  },
  {
   "cell_type": "markdown",
   "metadata": {
    "collapsed": true,
    "slideshow": {
     "slide_type": "slide"
    }
   },
   "source": [
    "\n",
    "<hr class=\"top\">\n",
    "## Another special method: `__str__()`\n",
    "<hr class=\"bot\">\n",
    "\n",
    "There is a close relationship between many operations in python and special class methods. Consider:"
   ]
  },
  {
   "cell_type": "code",
   "execution_count": null,
   "metadata": {},
   "outputs": [],
   "source": [
    "class MyComplex(object):\n",
    "    \n",
    "    def __init__(self, re, im):\n",
    "        self.re = re\n",
    "        self.im = im\n",
    "\n",
    "    def __str__(self):\n",
    "        return \"({}, {})\".format(self.re, self.im)"
   ]
  },
  {
   "cell_type": "code",
   "execution_count": null,
   "metadata": {},
   "outputs": [],
   "source": [
    "i = MyComplex(0.0, 1.0)\n",
    "print(str(i))"
   ]
  },
  {
   "cell_type": "markdown",
   "metadata": {},
   "source": [
    "There are many special methods, including those corresponding to inbuilt functions.\n",
    "\n",
    "E.g., `__add__()` etc perform _operator overloading_."
   ]
  },
  {
   "cell_type": "markdown",
   "metadata": {},
   "source": [
    "<hr class=\"top\">\n",
    "## Context managers\n",
    "<hr class=\"bot\">\n",
    "\n",
    "The `file` object implements two special methods which allow it to be used as a _context manager_\n",
    "\n",
    "You may often see code like:"
   ]
  },
  {
   "cell_type": "code",
   "execution_count": null,
   "metadata": {},
   "outputs": [],
   "source": [
    "with open(\"newfile.txt\", \"r\") as f:\n",
    "    line = f.readline()\n",
    "    print(line)"
   ]
  },
  {
   "cell_type": "markdown",
   "metadata": {},
   "source": [
    "The context manager:\n",
    "- provides some level of automatic error handling\n",
    "- closes the file at the end of the structured block\n",
    "\n",
    "The `with` construct is the preferred way to handle files in python."
   ]
  },
  {
   "cell_type": "markdown",
   "metadata": {
    "collapsed": true,
    "slideshow": {
     "slide_type": "slide"
    }
   },
   "source": [
    "\n",
    "<hr class=\"top\">\n",
    "## Inheritance\n",
    "<hr class=\"bot\">\n",
    "\n",
    "Classes should be declared as subclasses of `object`\n",
    "```python\n",
    "class MyComplex(object):\n",
    "  ...\n",
    "```\n",
    "\n",
    "A number of fundamental methods are provided in `object`, e.g., `__str__()`. These are used by classes inheriting from `object`.\n",
    "\n",
    "In `MyComplex` we have _overridden_ the `__str__()` method to provide our own.\n",
    "\n",
    "We can add further inheritance, e.g.,\n",
    "```python\n",
    "class MyParticularComplexNumber(MyComplex):\n",
    "    ...\n",
    "```"
   ]
  },
  {
   "cell_type": "markdown",
   "metadata": {},
   "source": [
    "<hr class=\"top\">\n",
    "## Summary\n",
    "<hr class=\"bot\">\n",
    "\n",
    "* Python provides a object-oriented class mechanism\n",
    "    - Python 3 has additional features\n",
    "\n",
    "\n",
    "* Use of classes provides some very powerful features\n",
    "    - Containers, Numbers, Context Managers,...\n",
    "\n",
    "\n",
    "* Understanding the basics can help navigation in general usage"
   ]
  },
  {
   "cell_type": "markdown",
   "metadata": {
    "slideshow": {
     "slide_type": "slide"
    }
   },
   "source": [
    "\n",
    "<hr class=\"top\">\n",
    "## Exercise \n",
    "<hr class=\"bot\">\n",
    "\n",
    "### A simple random number generator\n",
    "\n",
    "The mapping\n",
    "```python\n",
    "s = (a*s + c) % m\n",
    "```\n",
    "where `s` is a positive integer, and a, c, and m are constants, may be used as the basis of a simple (pseudo-) random number generator.\n",
    "\n",
    "Write a python class which provides a way to initialise `s` and a method to advance the state via the above mapping (and return the new value).\n",
    "\n",
    "* Use constant values of `a = 1389796`, `c = 0`, and `m = 2147483647`.\n",
    "\n",
    "* If the constants `a`, `c`, and `m` are the same for all instances of the class, how can we conveniently represent these values as _class attributes_?\n",
    "\n",
    "* Add a method to generate a floating point number uniformly distributed on [0.0, 1.0)."
   ]
  },
  {
   "cell_type": "code",
   "execution_count": null,
   "metadata": {},
   "outputs": [],
   "source": [
    "# Type solution here or use a separate file...\n"
   ]
  },
  {
   "cell_type": "code",
   "execution_count": null,
   "metadata": {},
   "outputs": [],
   "source": [
    "# Uncomment the following and execute to see\n",
    "# a solution ...\n",
    "# %load exercise2.py\n"
   ]
  },
  {
   "cell_type": "markdown",
   "metadata": {},
   "source": [
    " "
   ]
  },
  {
   "cell_type": "markdown",
   "metadata": {},
   "source": [
    " "
   ]
  },
  {
   "cell_type": "markdown",
   "metadata": {},
   "source": [
    "<hr class=\"top\">\n",
    "<hr class=\"bot\">\n"
   ]
  },
  {
   "cell_type": "code",
   "execution_count": null,
   "metadata": {},
   "outputs": [],
   "source": [
    "# This cell is for the presenter.\n",
    "from IPython.core.display import display, HTML\n",
    "\n",
    "styles = open(\"../style.css\", \"r\").read()\n",
    "display(HTML(styles))"
   ]
  }
 ],
 "metadata": {
  "anaconda-cloud": {},
  "celltoolbar": "Raw Cell Format",
  "kernelspec": {
   "display_name": "Python 3",
   "language": "python",
   "name": "python3"
  },
  "language_info": {
   "codemirror_mode": {
    "name": "ipython",
    "version": 3
   },
   "file_extension": ".py",
   "mimetype": "text/x-python",
   "name": "python",
   "nbconvert_exporter": "python",
   "pygments_lexer": "ipython3",
   "version": "3.5.5"
  }
 },
 "nbformat": 4,
 "nbformat_minor": 1
}
