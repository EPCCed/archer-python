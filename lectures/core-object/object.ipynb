{
 "cells": [
  {
   "cell_type": "markdown",
   "metadata": {},
   "source": [
    "\n",
    "## ARCHER COURSE\n",
    "# SCIENTIFIC PYTHON\n",
    "\n",
    "<br>\n",
    "\n",
    "## Website:  http://www.archer.ac.uk \n",
    "\n",
    "## Helpdesk: support@archer.ac.uk\n",
    "\n",
    "<br>\n",
    "\n",
    "<img src=\"../images/epsrclogo.png\" style=\"width: 50%;\">\n",
    "<br>\n",
    "<img src=\"../images/nerclogo.png\" style=\"width: 50%;\">\n",
    "\n",
    "<br>\n",
    "<img src=\"../images/craylogo.png\" style=\"width: 50%;\">\n",
    "\n",
    "<br>\n",
    "<img src=\"../images/epcclogo.png\" style=\"width: 50%;\">\n",
    "\n",
    "<br>\n",
    "<img src=\"../images/ediunilogo.png\"> \n",
    "\n",
    "<br>\n",
    "<br>\n",
    "\n"
   ]
  },
  {
   "cell_type": "markdown",
   "metadata": {},
   "source": [
    "<img src=\"../images/reusematerial.png\" style=\"width: 90%;\">\n",
    "<br>"
   ]
  },
  {
   "cell_type": "markdown",
   "metadata": {
    "slideshow": {
     "slide_type": "slide"
    }
   },
   "source": [
    "\n",
    "## Scientific Computing with Python: Classes, Objects, and All That...\n",
    "\n",
    "\n",
    "### Presenter: Chris Wood\n"
   ]
  },
  {
   "cell_type": "markdown",
   "metadata": {
    "slideshow": {
     "slide_type": "slide"
    }
   },
   "source": [
    "\n",
    "\n",
    "### Overview \n",
    "\n",
    "\n",
    "* Many of the things we have used so far are objects:\n",
    "    - i.e., instances of a particlar class\n",
    "    - `file`, `numpy.ndarray`, `matplotlib.figure.Figure`\n",
    "\n",
    "\n",
    "* We have skirted the issue of objects\n",
    "    - You can make progress with such an approach\n",
    "\n",
    "\n",
    "* Useful to understand the basics of class use in python\n",
    "    - Ultimately a very powerful model\n",
    "\n"
   ]
  },
  {
   "cell_type": "markdown",
   "metadata": {
    "slideshow": {
     "slide_type": "slide"
    }
   },
   "source": [
    "### A class\n",
    "\n",
    "\n",
    "* Broadly, an organised collection of data (_attributes_), and methods (_functions_) which manipulate those data\n",
    "\n",
    "\n",
    "* (_almost_) everything in python is a class; e.g. #1: explicitly define an integer\n",
    "\n",
    "* there are sometimes 2 ways to create objects, such as with `list`s\n",
    "\n",
    "* e.g. #3  the Python standard library contains a `file` object (or _type_)\n",
    "https://docs.python.org/3/glossary.html#term-file-object\n",
    "   - we can create a `file` object by using the built-in function `open()`\n",
    "   \n",
    "In python, the terms `class` and `type` are basically synonymous\n"
   ]
  },
  {
   "cell_type": "code",
   "execution_count": null,
   "metadata": {},
   "outputs": [],
   "source": [
    "\n",
    "my_int = int(10)\n",
    "print(type(my_int))\n"
   ]
  },
  {
   "cell_type": "code",
   "execution_count": null,
   "metadata": {},
   "outputs": [],
   "source": [
    "\n",
    "my_list = list(['a', 'b', 'c'])\n",
    "print(type(my_list))\n",
    "\n",
    "#or, python has a shorthand version for this:\n",
    "my_other_list = ['e', 'f', 'g']\n",
    "print(type(my_other_list))\n"
   ]
  },
  {
   "cell_type": "code",
   "execution_count": null,
   "metadata": {},
   "outputs": [],
   "source": [
    "\n",
    "my_file = open(\"newfile.txt\", mode=\"w\")\n",
    "print(type(my_file))\n"
   ]
  },
  {
   "cell_type": "markdown",
   "metadata": {},
   "source": [
    "\n",
    "More formally, when we use a class, we say that we create an _instance_ of it.\n",
    "\n",
    "In the examples above, `my_int` is an instance of the `int` type, `my_list` and `my_other_list` are both instances of the `list` type, and `my_file` is an instance of the `file` type.\n",
    "\n",
    "It is possible to see all the methods available to any given object, using the `dir()` method. If you've used lists, you might recognise some of the methods here. We'll talk about the method names which are surrounded by two double underscores later...\n"
   ]
  },
  {
   "cell_type": "code",
   "execution_count": null,
   "metadata": {},
   "outputs": [],
   "source": [
    "\n",
    "print(\"Methods for ints:\")\n",
    "print(dir(my_int))\n",
    "\n",
    "print(\"\\n\" + \"=\"*25 + \"\\n\")\n",
    "\n",
    "print(\"Methods for lists:\")\n",
    "print(dir(my_list))\n"
   ]
  },
  {
   "cell_type": "markdown",
   "metadata": {
    "slideshow": {
     "slide_type": "slide"
    }
   },
   "source": [
    "\n",
    "## Methods\n",
    "\n",
    "\n",
    "Methods that are part of a given class allow useful operations to be performed:\n"
   ]
  },
  {
   "cell_type": "code",
   "execution_count": null,
   "metadata": {},
   "outputs": [],
   "source": [
    "\n",
    "# Write to a file and close it\n",
    "\n",
    "myfile = open(\"newfile.txt\", mode=\"w\")\n",
    "\n",
    "myfile.write(\"Send this line to the file\")\n",
    "myfile.close()\n"
   ]
  },
  {
   "cell_type": "markdown",
   "metadata": {},
   "source": [
    "The user does not know (or care) about the internal workings of the `file` object, and only cares about the function calls they can use (the API). This is sometimes referred to as encapsulation or data hiding."
   ]
  },
  {
   "cell_type": "markdown",
   "metadata": {
    "slideshow": {
     "slide_type": "slide"
    }
   },
   "source": [
    "<br>\n",
    "\n",
    "## Defining our own class \n",
    "\n",
    "\n",
    "### Specifying a new class\n",
    "\n",
    "Let's say we want to create a class to represent a complex number.\n",
    "```python\n",
    "# We introduce a class with the class keyword;\n",
    "# the name of the class is often capitalised\n",
    "\n",
    "class MyComplex(object):\n",
    "\n",
    "    # Contents are determined by indentation\n",
    "    ...\n",
    "```\n",
    "* The argument appearing in the definition `(object)` is the superclass from which we inherit (more later)"
   ]
  },
  {
   "cell_type": "markdown",
   "metadata": {},
   "source": [
    "### Initialisation\n",
    "\n",
    "A complex number should have real and imaginary parts.\n",
    "\n",
    "To initialise, use the special method `__init__()`:"
   ]
  },
  {
   "cell_type": "code",
   "execution_count": null,
   "metadata": {},
   "outputs": [],
   "source": [
    "\n",
    "class MyComplex(object):\n",
    "\n",
    "    def __init__(self, re, im):\n",
    "\n",
    "        \"\"\"Complex number with real and imaginary\n",
    "        parts\"\"\"\n",
    "\n",
    "        self.re = re\n",
    "        self.im = im\n"
   ]
  },
  {
   "cell_type": "markdown",
   "metadata": {},
   "source": [
    "<br>\n",
    "<br>\n"
   ]
  },
  {
   "cell_type": "code",
   "execution_count": null,
   "metadata": {},
   "outputs": [],
   "source": [
    "\n",
    "# Create one object of the new type...\n",
    "# Note there is no 'self' argument here:\n",
    "\n",
    "i = MyComplex(0.0, 1.0)\n",
    "\n",
    "# Find out type using the inbuilt type function...\n",
    "\n",
    "print(type(i))\n",
    "\n",
    "# Examine the values of the attributes\n",
    "print(\"Real part is\", i.re)\n",
    "print(\"Imag part is\", i.im)\n"
   ]
  },
  {
   "cell_type": "markdown",
   "metadata": {},
   "source": [
    "\n",
    "* Note no attempt at data-hiding\n"
   ]
  },
  {
   "cell_type": "markdown",
   "metadata": {},
   "source": [
    "\n",
    "### An instance method\n",
    "\n",
    "\n",
    "Using the code above as a template, we can use a simple instance method to add complex numbers:"
   ]
  },
  {
   "cell_type": "code",
   "execution_count": null,
   "metadata": {},
   "outputs": [],
   "source": [
    "\n",
    "class MyComplex(object):\n",
    "\n",
    "    def __init__(self, re, im):\n",
    "\n",
    "        self.re = re\n",
    "        self.im = im\n",
    "    \n",
    "    def add(self, c):\n",
    "        \"\"\"Add c to self\"\"\"\n",
    "\n",
    "        self.re += c.re\n",
    "        self.im += c.im\n",
    "        \n",
    "    def multiplyBy(self, c):\n",
    "        \"\"\"Multiply self by c\"\"\"\n",
    "        re = (self.re*c.re - self.im*c.im)\n",
    "        im = (self.re*c.im + self.im*c.re)\n",
    "        self.re = re\n",
    "        self.im = im\n"
   ]
  },
  {
   "cell_type": "markdown",
   "metadata": {},
   "source": [
    "<br>\n"
   ]
  },
  {
   "cell_type": "code",
   "execution_count": null,
   "metadata": {},
   "outputs": [],
   "source": [
    "\n",
    "i = MyComplex(0.0, 1.0)\n",
    "j = MyComplex(1.0, 0.0)\n",
    "\n",
    "# Instance method applied to i\n",
    "i.add(j)\n",
    "\n",
    "print(\"Real part is\", i.re)\n",
    "print(\"Imag part is\", i.im)\n"
   ]
  },
  {
   "cell_type": "markdown",
   "metadata": {
    "slideshow": {
     "slide_type": "slide"
    }
   },
   "source": [
    "\n",
    "<br>\n",
    "\n",
    "## Exercise\n",
    "\n",
    "\n",
    "Using the template above, or in a separate file,\n",
    "add an instance method to compute the product of\n",
    "one complex number with another.\n",
    "\n",
    "The method should be invoked as, e.g.:\n",
    "```python\n",
    "a.multiplyBy(b)\n",
    "```\n",
    "`a` is then the product, and `b` is unchanged.\n",
    "\n",
    "Check your result, e.g.,\n",
    "$(1 + 2i)(3 + 4i) = -5 +10i$\n",
    "<br>\n",
    "<br>\n",
    "\n",
    "Recall that for two complex numbers $a_r + a_i i$ and $b_r + b_i i$, the\n",
    "product is $(a_r b_r - a_i b_i) + (a_r b_i + a_i b_r )i$.\n",
    "<br>\n",
    "<br>"
   ]
  },
  {
   "cell_type": "code",
   "execution_count": null,
   "metadata": {},
   "outputs": [],
   "source": [
    "\n",
    "# Add extra method to the cell\n",
    "# containing MyComplex above\n",
    "\n",
    "# Multiply the two complex numbers \n",
    "a = MyComplex(1.0, 2.0)\n",
    "b = MyComplex(3.0, 4.0)\n",
    "\n",
    "a.multiplyBy(b)\n",
    "print(a)\n"
   ]
  },
  {
   "cell_type": "code",
   "execution_count": null,
   "metadata": {},
   "outputs": [],
   "source": [
    "\n",
    "# To see a solution uncomment the following and execute...\n",
    "# %load exercise1.py\n"
   ]
  },
  {
   "cell_type": "markdown",
   "metadata": {
    "slideshow": {
     "slide_type": "slide"
    }
   },
   "source": [
    "\n",
    "<br>\n",
    "\n",
    "## A static method\n",
    "\n",
    "\n",
    "A class may include methods which do not act on particular instances.\n",
    "\n"
   ]
  },
  {
   "cell_type": "code",
   "execution_count": null,
   "metadata": {},
   "outputs": [],
   "source": [
    "\n",
    "class MyComplex(object):\n",
    "    \n",
    "    def __init__(self, re, im):\n",
    "        self.re = re\n",
    "        self.im = im\n",
    "        \n",
    "    @staticmethod\n",
    "    def add(a, b):\n",
    "        \"\"\"Return a new complex number which is the\n",
    "        sum\"\"\"\n",
    "        return MyComplex(a.re + b.re, a.im + b.im)\n"
   ]
  },
  {
   "cell_type": "markdown",
   "metadata": {},
   "source": [
    "<br>\n",
    "\n",
    "The `@staticmethod` is an example of a _decorator_, which modifies the properties of the function.\n",
    "\n",
    "Note that, in this case, the `return` statement of the `@staticmethod` is itself specifying an instance of the `MyComplex` class\n",
    " \n",
    "Note there is also `@classmethod`, which is slightly different in python (having the class as an implicit argument cf. `self`).\n",
    "<br>\n",
    "<br>"
   ]
  },
  {
   "cell_type": "code",
   "execution_count": null,
   "metadata": {},
   "outputs": [],
   "source": [
    "\n",
    "i = MyComplex(0.0, 1.0)\n",
    "j = MyComplex(-1.0, 0.0)\n",
    "\n",
    "# The static method is invoked via the class name\n",
    "k = MyComplex.add(i, j)\n",
    "print(\"Result is \", k.re, k.im)\n"
   ]
  },
  {
   "cell_type": "markdown",
   "metadata": {
    "slideshow": {
     "slide_type": "slide"
    }
   },
   "source": [
    "\n",
    "### Another special method: `__str__()`\n",
    "\n",
    "There is a close relationship between many operations in python and special class methods. Consider:"
   ]
  },
  {
   "cell_type": "code",
   "execution_count": null,
   "metadata": {},
   "outputs": [],
   "source": [
    "\n",
    "class MyComplex(object):\n",
    "    \n",
    "    def __init__(self, re, im):\n",
    "        self.re = re\n",
    "        self.im = im\n",
    "\n",
    "    def __str__(self):\n",
    "        return \"({}, {})\".format(self.re, self.im)\n"
   ]
  },
  {
   "cell_type": "code",
   "execution_count": null,
   "metadata": {},
   "outputs": [],
   "source": [
    "\n",
    "# Print uses the __str__() method\n",
    "\n",
    "i = MyComplex(0.0, 1.0)\n",
    "print(str(i))"
   ]
  },
  {
   "cell_type": "markdown",
   "metadata": {},
   "source": [
    "<br>\n",
    "i.e. `__str__()` defines the string representation of an instance of your class.   \n",
    "\n",
    "There are many special methods, including those corresponding to inbuilt functions. For example, `__add__()`\n",
    "\n",
    "It is also possible to redefine these if you wish - this is called _operator overloading_.\n",
    "\n",
    "For instance, creating an add operator for MyComplex that allows the `+` operator to be used would be done as follows:\n"
   ]
  },
  {
   "cell_type": "code",
   "execution_count": null,
   "metadata": {},
   "outputs": [],
   "source": [
    "\n",
    "class MyComplex(object):\n",
    "    \n",
    "    def __init__(self, re, im):\n",
    "        self.re = re\n",
    "        self.im = im\n",
    "        \n",
    "    def __add__(self, b):\n",
    "        \"\"\"Return a new complex number which is the\n",
    "        sum\"\"\"\n",
    "        return MyComplex(self.re + b.re, self.im + b.im)\n",
    "\n",
    "i = MyComplex(0.0, 1.0)\n",
    "j = MyComplex(1.0, 0.0)\n",
    "k = i + j\n",
    "print(k.re,k.im)"
   ]
  },
  {
   "cell_type": "markdown",
   "metadata": {},
   "source": [
    "\n",
    "\n",
    "### Context managers\n",
    "\n",
    "\n",
    "The `file` object implements two special methods which allow it to be used as a _context manager_\n",
    "\n",
    "You may often see code like:"
   ]
  },
  {
   "cell_type": "code",
   "execution_count": null,
   "metadata": {},
   "outputs": [],
   "source": [
    "\n",
    "with open(\"newfile.txt\", \"r\") as f:\n",
    "    line = f.readline()\n",
    "    print(line)\n"
   ]
  },
  {
   "cell_type": "markdown",
   "metadata": {},
   "source": [
    "The context manager:\n",
    "- provides some level of automatic error handling\n",
    "- closes the file at the end of the structured block\n",
    "\n",
    "The `with` construct is the preferred way to handle files in python.\n",
    "\n",
    "You can create a context manager yourself just by creating `__enter__()` and `__exit__()` methods. A simple example:"
   ]
  },
  {
   "cell_type": "code",
   "execution_count": null,
   "metadata": {},
   "outputs": [],
   "source": [
    "class MyFile():\n",
    "\n",
    "    def __init__(self, filename):\n",
    "        self.filename = filename\n",
    "\n",
    "    def __enter__(self):\n",
    "        self.open_file = open(self.filename)\n",
    "        return self.open_file\n",
    "\n",
    "    def __exit__(self, *args):\n",
    "        self.open_file.close()"
   ]
  },
  {
   "cell_type": "markdown",
   "metadata": {
    "slideshow": {
     "slide_type": "slide"
    }
   },
   "source": [
    "\n",
    "### Inheritance\n",
    "\n",
    "\n",
    "Classes should be declared as subclasses of `object` (this is the default for Python 3 and so can be omitted for Python 3 classes)\n",
    "\n",
    "```python\n",
    "class MyComplex(object):\n",
    "  ...\n",
    "```\n",
    "\n",
    "A number of fundamental methods are provided in `object`, e.g., `__str__()`. These are used by classes inheriting from `object`.\n",
    "\n",
    "In `MyComplex` we have _overridden_ the `__str__()` method to provide our own.\n",
    "\n",
    "We can add further inheritance, e.g.,\n",
    "\n",
    "```python\n",
    "class MyParticularComplexNumber(MyComplex):\n",
    "    ...\n",
    "```"
   ]
  },
  {
   "cell_type": "markdown",
   "metadata": {},
   "source": [
    "\n",
    "### Summary\n",
    "\n",
    "\n",
    "* Python provides a object-oriented class mechanism\n",
    "    - Python 3 has additional features that Python 2 doesn't have (but you shouldn't be writing Python 2 code anymore...)\n",
    "\n",
    "\n",
    "* Use of classes provides some very powerful features\n",
    "    - Containers, Numbers, Context Managers,...\n",
    "\n",
    "\n",
    "* Understanding the basics can help navigation in general usage"
   ]
  },
  {
   "cell_type": "markdown",
   "metadata": {
    "slideshow": {
     "slide_type": "slide"
    }
   },
   "source": [
    "\n",
    "\n",
    "## Exercise \n",
    "\n",
    "### A simple random number generator\n",
    "\n",
    "We can use the mapping\n",
    "```python\n",
    "s = (a*s + c) % m\n",
    "```\n",
    "where `s` is a positive integer, and a, c, and m are constants,  as the basis of a simple (pseudo-) random number generator.\n",
    "\n",
    "Write a python class which provides a way to initialise `s` and a method to advance the state via the above mapping (and return the new value).\n",
    "\n",
    "* Use constant values of `a = 1389796`, `c = 0`, and `m = 2147483647`.\n",
    "\n",
    "* If the constants `a`, `c`, and `m` are the same for all instances of the class, how can we conveniently represent these values as _class attributes_?\n",
    "\n",
    "* Add a method to generate a floating point number uniformly distributed on [0.0, 1.0)."
   ]
  },
  {
   "cell_type": "code",
   "execution_count": null,
   "metadata": {},
   "outputs": [],
   "source": [
    "# Type solution here or use a separate file...\n"
   ]
  },
  {
   "cell_type": "code",
   "execution_count": null,
   "metadata": {},
   "outputs": [],
   "source": [
    "# %load exercise2.py\n"
   ]
  },
  {
   "cell_type": "markdown",
   "metadata": {},
   "source": [
    " "
   ]
  },
  {
   "cell_type": "markdown",
   "metadata": {},
   "source": [
    " "
   ]
  },
  {
   "cell_type": "markdown",
   "metadata": {},
   "source": [
    "<hr class=\"top\">\n",
    "<hr class=\"bot\">\n"
   ]
  }
 ],
 "metadata": {
  "anaconda-cloud": {},
  "celltoolbar": "Raw Cell Format",
  "kernelspec": {
   "display_name": "Python 3",
   "language": "python",
   "name": "python3"
  },
  "language_info": {
   "codemirror_mode": {
    "name": "ipython",
    "version": 3
   },
   "file_extension": ".py",
   "mimetype": "text/x-python",
   "name": "python",
   "nbconvert_exporter": "python",
   "pygments_lexer": "ipython3",
   "version": "3.7.4"
  }
 },
 "nbformat": 4,
 "nbformat_minor": 4
}
