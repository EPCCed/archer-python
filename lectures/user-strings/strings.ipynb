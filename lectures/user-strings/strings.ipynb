{
 "cells": [
  {
   "cell_type": "markdown",
   "metadata": {},
   "source": [
    "## ARCHER COURSE\n",
    "\n",
    "# Strings, Formatting, Dictionaries\n",
    "\n",
    "<br>\n",
    "\n",
    "<img src=\"../images/epsrclogo.png\" style=\"float: center\">\n",
    "<br>\n",
    "<img src=\"../images/nerclogo.png\" style=\"float: center\">\n",
    "<br>\n",
    "<img src=\"../images/craylogo.png\" style=\"float: center\">\n",
    "\n",
    "<br>\n",
    "<img src=\"../images/epcclogo.png\" style=\"float: center\">\n",
    "\n",
    "<br>\n",
    "<img src=\"../images/ediunilogo.png\" style=\"float: center\"> \n",
    "\n",
    "<br>"
   ]
  },
  {
   "cell_type": "markdown",
   "metadata": {},
   "source": [
    "\n",
    "<img src=\"../images/reusematerial.png\" style=\"float: center; width: 90\" >\n",
    "\n",
    "<br>"
   ]
  },
  {
   "cell_type": "markdown",
   "metadata": {},
   "source": [
    "<br>\n",
    "\n",
    "## Strings\n",
    "\n",
    "Here we will look more closely at strings, and their manipulation.\n",
    "\n",
    "\n",
    "Strings are a built-in type provided by python. Documentation is\n",
    "part of\n",
    "\n",
    "https://docs.python.org/library/stdtypes.html\n",
    "\n"
   ]
  },
  {
   "cell_type": "code",
   "execution_count": null,
   "metadata": {},
   "outputs": [],
   "source": [
    "\n",
    "# Strings, or \"Text sequences\", are made up of characters\n",
    "\n",
    "title = \"1984\"\n"
   ]
  },
  {
   "cell_type": "code",
   "execution_count": null,
   "metadata": {},
   "outputs": [],
   "source": [
    "\n",
    "# Strings may contain certain special characters\n",
    "# via escape \\\n",
    "\n",
    "title =\"\\\"1984\\\"\"\n",
    "print(\"The title is:\", title)\n"
   ]
  },
  {
   "cell_type": "code",
   "execution_count": null,
   "metadata": {},
   "outputs": [],
   "source": [
    "\n",
    "# Strings may be concatenated\n",
    "\n",
    "title1 = \"The title is: \"\n",
    "title2 = \"1984\"\n",
    "print(title1 + title2)\n"
   ]
  },
  {
   "cell_type": "code",
   "execution_count": null,
   "metadata": {},
   "outputs": [],
   "source": [
    "\n",
    "# Adjacent 'string literals' are automatically concatenated\n",
    "\n",
    "print(\"Oranges and lemons, \"\n",
    "      \"Say the bells of St. Clement's.\")\n"
   ]
  },
  {
   "cell_type": "code",
   "execution_count": null,
   "metadata": {},
   "outputs": [],
   "source": [
    "\n",
    "# One can explicitly add a new line via \\n\n",
    "\n",
    "print(\"Oranges and lemons,\\n\"\n",
    "      \"Say the bells of St. Clement's.\")\n"
   ]
  },
  {
   "cell_type": "code",
   "execution_count": null,
   "metadata": {},
   "outputs": [],
   "source": [
    "\n",
    "# Strings can be thought of as an array of characters\n",
    "# But are immutable (do not support assignment)\n",
    "\n",
    "title = \"1984\"\n",
    "title[3] = 5\n"
   ]
  },
  {
   "cell_type": "code",
   "execution_count": null,
   "metadata": {},
   "outputs": [],
   "source": [
    "\n",
    "# Suppose we wanted to split the string into smaller\n",
    "# parts\n",
    "\n",
    "line  = \"Oranges and lemons, Say the bells of St. Clement's.\"\n",
    "words = line.split(\" \")\n",
    "print(words)\n"
   ]
  },
  {
   "cell_type": "code",
   "execution_count": null,
   "metadata": {},
   "outputs": [],
   "source": [
    "\n",
    "# To split at a different character\n",
    "\n",
    "line  = \"Oranges and lemons,\\nSay the bells of St. Clement's.\"\n",
    "clauses = line.split(\"\\n\")\n",
    "print(clauses)\n"
   ]
  },
  {
   "cell_type": "code",
   "execution_count": null,
   "metadata": {},
   "outputs": [],
   "source": [
    "\n",
    "# One might want to remove the full stop at the end\n",
    "\n",
    "line = \"Oranges and lemons, Say the bells of St. Clement's.\"\n",
    "newline = line.rstrip('.')\n",
    "print(newline)\n"
   ]
  },
  {
   "cell_type": "markdown",
   "metadata": {},
   "source": [
    "\n",
    "<br>\n",
    "\n",
    "#### Exercise\n",
    "\n",
    "Can you think of a way to eliminate all the full stops and commas\n",
    "in the string given below?\n",
    "\n",
    "Suggested approach here: iterate through the words in the line,\n",
    "and strip the punctuation from each word in turn. Append the\n",
    "new word to a separate list.\n",
    "\n",
    "How can we join the words in the new list together again?\n"
   ]
  },
  {
   "cell_type": "code",
   "execution_count": null,
   "metadata": {},
   "outputs": [],
   "source": [
    "\n",
    "# Get rid of two full stops and one comma (not the apostrophe)?\n",
    "\n",
    "line = \"You owe me three farthings, Say the bells of St. Martin's.\"\n"
   ]
  },
  {
   "cell_type": "markdown",
   "metadata": {},
   "source": [
    "\n",
    "<br>\n",
    "\n",
    "Note: the documentation for built-in types, including strings\n",
    "is at, e.g.:\n",
    "\n",
    "https://docs.python.org/library/stdtypes.html#str\n"
   ]
  },
  {
   "cell_type": "code",
   "execution_count": null,
   "metadata": {},
   "outputs": [],
   "source": [
    "# Uncomment and execute to see a possible solution\n",
    "# %load ex_string1.py\n"
   ]
  },
  {
   "cell_type": "code",
   "execution_count": null,
   "metadata": {},
   "outputs": [],
   "source": [
    "\n",
    "# Expert note:\n",
    "# One can use e.g., regular expressions\n",
    "\n",
    "import re\n",
    "\n",
    "line = \"You owe me three farthings, Say the bells of St. Martin's.\"\n",
    "newline = re.sub('[.,]', '', line)\n",
    "print(newline)\n"
   ]
  },
  {
   "cell_type": "markdown",
   "metadata": {},
   "source": [
    "<br>\n",
    "\n",
    "## Formatting output"
   ]
  },
  {
   "cell_type": "code",
   "execution_count": null,
   "metadata": {},
   "outputs": [],
   "source": [
    "\n",
    "# Suppose we wish to tabulate output\n",
    "\n",
    "print(\"Title: \", \"1984\")\n",
    "print(\"Author: \", \"George Orwell\")\n"
   ]
  },
  {
   "cell_type": "code",
   "execution_count": null,
   "metadata": {},
   "outputs": [],
   "source": [
    "\n",
    "# Use format() function\n",
    "# The \"replacement field\" is introduced by curly braces\n",
    "# and specifies the format per item {:format_spec}\n",
    "\n",
    "# Specify two items, left justified, minimum width 10 characters\n",
    "myfmt = \"{:<10} {:<10}\"\n",
    "\n",
    "print(myfmt.format(\"Title: \", \"1984\"))\n",
    "print(myfmt.format(\"Author: \", \"George Orwell\"))\n",
    "\n"
   ]
  },
  {
   "cell_type": "code",
   "execution_count": null,
   "metadata": {},
   "outputs": [],
   "source": [
    "\n",
    "# Right justified\n",
    "\n",
    "myfmt = \"{:>10} {:<10}\"\n",
    "print(myfmt.format(\"Title: \", \"1984\"))\n",
    "print(myfmt.format(\"Author: \", \"George Orwell\"))\n"
   ]
  },
  {
   "cell_type": "code",
   "execution_count": null,
   "metadata": {},
   "outputs": [],
   "source": [
    "\n",
    "# Integers\n",
    "\n",
    "print(\"{:6}\".format(1))\n",
    "print(\"{:6}\".format(1000))\n",
    "print(\"{:6}\".format(100000))\n"
   ]
  },
  {
   "cell_type": "code",
   "execution_count": null,
   "metadata": {},
   "outputs": [],
   "source": [
    "\n",
    "# Large integers in thousands\n",
    "\n",
    "print(\"{:,}\".format(1984))\n"
   ]
  },
  {
   "cell_type": "code",
   "execution_count": null,
   "metadata": {},
   "outputs": [],
   "source": [
    "\n",
    "# Floating point numbers\n",
    "\n",
    "pi = 3.141592653\n",
    "\n",
    "print(\"{:1.3f}\".format(pi))\n",
    "print(\"{:1.5f}\".format(pi))\n",
    "print(\"{:1.7f}\".format(pi))\n"
   ]
  },
  {
   "cell_type": "code",
   "execution_count": null,
   "metadata": {},
   "outputs": [],
   "source": [
    "\n",
    "# Scientific notation\n",
    "# Note: default number of decimal places: 6\n",
    "\n",
    "Na = 6.022140857e+23\n",
    "\n",
    "print(\"Avogadro's Number: {:e}\".format(Na))\n",
    "print(\"Avogadro's Number: {:1.9e}\".format(Na))\n"
   ]
  },
  {
   "cell_type": "markdown",
   "metadata": {},
   "source": [
    "\n",
    "<br>\n",
    "\n",
    "#### Exercise\n",
    "\n",
    "Have a go at tabulating the contents of the following\n",
    "lists, to appear as, e.g.:\n",
    "\n",
    "```\n",
    "   Item    Unit Price\n",
    "Oranges          0.50\n",
    " Lemons          1.00\n",
    " ```"
   ]
  },
  {
   "cell_type": "code",
   "execution_count": null,
   "metadata": {},
   "outputs": [],
   "source": [
    "\n",
    "headings = [\"Item\", \"Unit Price\"]\n",
    "items    = [\"Oranges\", \"Lemons\"]\n",
    "prices   = [0.50, 1.00]\n"
   ]
  },
  {
   "cell_type": "markdown",
   "metadata": {},
   "source": [
    "<br>\n",
    "\n",
    "## Dictionaries\n",
    "\n",
    "Dictionaries are similar to lists, but they may be indexed\n",
    "by a general type, referred to as a _key_. Keys are\n",
    "associated with _values_."
   ]
  },
  {
   "cell_type": "code",
   "execution_count": null,
   "metadata": {},
   "outputs": [],
   "source": [
    "\n",
    "# Data structure introduced {key: value}\n",
    "# via curly braces {}\n",
    "\n",
    "mydict = {\"St. Clement's\": \"Oranges and Lemons\",\n",
    "          \"St. Martin's\":  \"You owe me three farthings\"}\n",
    "\n",
    "# Extract value via []\n",
    "\n",
    "mydict[\"St. Clement's\"]\n"
   ]
  },
  {
   "cell_type": "code",
   "execution_count": null,
   "metadata": {},
   "outputs": [],
   "source": [
    "\n",
    "# Key must be present...\n",
    "\n",
    "mydict = {}\n",
    "\n",
    "mydict['Old Bailey']\n"
   ]
  },
  {
   "cell_type": "code",
   "execution_count": null,
   "metadata": {},
   "outputs": [],
   "source": [
    "\n",
    "# Check a key exists\n",
    "\n",
    "mydict = {\"St. Clement's\": \"Oranges and lemons\"}\n",
    "\n",
    "key = \"St. Clement's\"\n",
    "\n",
    "if key in mydict:\n",
    "    print(mydict[key])\n"
   ]
  },
  {
   "cell_type": "code",
   "execution_count": null,
   "metadata": {},
   "outputs": [],
   "source": [
    "\n",
    "# Iterate through the keys\n",
    "\n",
    "mydict = {\"St. Clement's\": \"Oranges and lemons\",\n",
    "          \"St. Martin's\":  \"You owe me three farthings\"}\n",
    "\n",
    "for key in mydict:\n",
    "    print(mydict[key], \",\", \"Say the bells of\", key)\n",
    "    "
   ]
  },
  {
   "cell_type": "code",
   "execution_count": null,
   "metadata": {},
   "outputs": [],
   "source": [
    "\n",
    "# Insert a new key: add an item with a new key\n",
    "# (Using an existing key would update an existing item)\n",
    "\n",
    "mydict = {\"St. Clement's\": \"Oranges and lemons\"}\n",
    "mydict[\"St. Martin's\"] = \"You owe me three farthings\"\n"
   ]
  },
  {
   "cell_type": "code",
   "execution_count": null,
   "metadata": {},
   "outputs": [],
   "source": [
    "\n",
    "# Very general\n",
    "# Expert point: 'insertion order' maintained for python >= v3.6\n",
    "\n",
    "def line1():\n",
    "    print(\"When will you pay me,\")\n",
    "\n",
    "def line2():\n",
    "    print(\"Say the bells at Old Bailey.\")\n",
    "    \n",
    "mydict = {\"line1\": line1, \"line2\": line2}\n",
    "\n",
    "for key in mydict:\n",
    "    mydict[key]()\n"
   ]
  },
  {
   "cell_type": "markdown",
   "metadata": {},
   "source": [
    "\n",
    "<br>\n",
    "\n",
    "#### Exercises\n",
    "\n",
    "For the two separate lists used in the last exercise, create\n",
    "a dictionary which uses the items as the keys, and the prices\n",
    "as the values.\n",
    "\n",
    "Print out the items and prices in an appropriate format by\n",
    "iterating through the dictionary.\n"
   ]
  },
  {
   "cell_type": "code",
   "execution_count": null,
   "metadata": {},
   "outputs": [],
   "source": [
    "\n",
    "items  = [\"Oranges\", \"Lemons\"]\n",
    "prices = [0.50, 1.00]\n"
   ]
  },
  {
   "cell_type": "markdown",
   "metadata": {},
   "source": [
    "\n",
    "<br>\n",
    "It is possible to construct a list of keys via, e.g.:\n",
    "\n",
    "```python\n",
    "keys = list(mydict.keys())\n",
    "```\n",
    "Confirm this is true for the dictionary created in the first\n",
    "exercise. How do you think you might get a list of the values?\n"
   ]
  },
  {
   "cell_type": "code",
   "execution_count": null,
   "metadata": {},
   "outputs": [],
   "source": [
    "\n",
    "# Generate a list of keys, and values\n"
   ]
  },
  {
   "cell_type": "markdown",
   "metadata": {},
   "source": [
    "\n",
    "<br>\n",
    "\n",
    "_More advanced_: A dictionary may be constructed from a list of tuples, e.g.:\n",
    "```python\n",
    "mydict = dict([(\"Oranges\", 0.50), (\"Lemons\", 1.00)])\n",
    "```\n",
    "\n",
    "Now, if you are not familiar with it, investigate what the python in-built function\n",
    "`zip()` does.\n",
    "\n",
    "Can you use `zip()` to provide a convenient way to create a new\n",
    "dictionary from two separate lists? (This might be useful if\n",
    "both the lists are long.)\n",
    "\n"
   ]
  },
  {
   "cell_type": "code",
   "execution_count": null,
   "metadata": {},
   "outputs": [],
   "source": [
    "\n",
    "# Construct a dictionary using zip()\n",
    "\n",
    "items  = [\"Oranges\", \"Lemons\"]\n",
    "prices = [0.50, 1.00]\n"
   ]
  }
 ],
 "metadata": {
  "kernelspec": {
   "display_name": "Python 3",
   "language": "python",
   "name": "python3"
  },
  "language_info": {
   "codemirror_mode": {
    "name": "ipython",
    "version": 3
   },
   "file_extension": ".py",
   "mimetype": "text/x-python",
   "name": "python",
   "nbconvert_exporter": "python",
   "pygments_lexer": "ipython3",
   "version": "3.7.0"
  }
 },
 "nbformat": 4,
 "nbformat_minor": 2
}
