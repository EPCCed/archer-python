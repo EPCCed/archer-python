{
 "cells": [
  {
   "cell_type": "code",
   "execution_count": null,
   "metadata": {},
   "outputs": [],
   "source": [
    "\n",
    "# A simple demonstration of mutliprocessing.pool\n",
    "\n",
    "import multiprocessing.pool as mp\n",
    "import os\n",
    "import time\n",
    "\n",
    "def my_work_item(arg):\n",
    "    \n",
    "    \"\"\"Function to perform work for scalar argument\"\"\"\n",
    "\n",
    "    pid = os.getpid()\n",
    "    print(\"Work for arg {:3} on process pid {:6}\"\n",
    "          .format(arg, pid))\n",
    "\n",
    "    # Pretend this takes some time...\n",
    "    time.sleep(5)\n",
    "\n",
    "    result = arg*arg\n",
    "    \n",
    "    return result\n",
    "\n",
    "def do_work(nworkers, work_list):\n",
    "\n",
    "    \"\"\"Distribute work_list between nworkers\"\"\"\n",
    "\n",
    "    pool = mp.Pool(nworkers)\n",
    "    \n",
    "    results = []\n",
    "    results = pool.map(my_work_item, work_list)\n",
    "\n",
    "    return results\n",
    "    \n",
    "input = range(10)\n",
    "do_work(1, input)\n"
   ]
  }
 ],
 "metadata": {
  "kernelspec": {
   "display_name": "Python 3",
   "language": "python",
   "name": "python3"
  },
  "language_info": {
   "codemirror_mode": {
    "name": "ipython",
    "version": 3
   },
   "file_extension": ".py",
   "mimetype": "text/x-python",
   "name": "python",
   "nbconvert_exporter": "python",
   "pygments_lexer": "ipython3",
   "version": "3.7.0"
  }
 },
 "nbformat": 4,
 "nbformat_minor": 2
}
