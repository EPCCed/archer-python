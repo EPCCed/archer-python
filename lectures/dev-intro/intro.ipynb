{
 "cells": [
  {
   "cell_type": "markdown",
   "metadata": {},
   "source": [
    "<hr style=\"border: solid 1px red; margin-bottom: 2% \">\n",
    "## ARCHER COURSE\n",
    "# SCIENTIFIC PYTHON : INTRODUCTION\n",
    "<hr style=\"border: solid 1px red; margin-bottom: -1%; \">\n",
    "<br>\n",
    "## Website:  http://www.archer.ac.uk \n",
    "\n",
    "## Helpdesk: support@archer.ac.uk\n",
    "\n",
    "<br>\n",
    "\n",
    "<img src=\"images/epsrclogo.png\" style=\"float: center; width: 40%\">\n",
    "<br>\n",
    "<img src=\"images/nerclogo.png\" style=\"float: center; width: 40%\">\n",
    "\n",
    "<br>\n",
    "<img src=\"images/craylogo.png\" style=\"float: center; width: 40%\">\n",
    "\n",
    "<br>\n",
    "<img src=\"images/epcclogo.png\" style=\"float: center; width: 40%\">\n",
    "\n",
    "<br>\n",
    "<img src=\"images/ediunilogo.png\" style=\"float: center; width: 40%\" > \n",
    "\n",
    "<br>\n",
    "<br>\n",
    "\n"
   ]
  },
  {
   "cell_type": "markdown",
   "metadata": {},
   "source": [
    "<img src=\"images/reusematerial.png\" style=\"float: center; width: 90\" >"
   ]
  },
  {
   "cell_type": "markdown",
   "metadata": {
    "slideshow": {
     "slide_type": "slide"
    }
   },
   "source": [
    "<br>\n",
    "<hr class=\"top\">\n",
    "# Scientific Programming with Python: Introduction\n",
    "<hr class=\"bot\">\n",
    "\n",
    "## Presenter: Neelofer Banglawala\n",
    "\n",
    "#### Contributing authors: \n",
    "#### Neelofer Bangawala, Arno Proeme, Kevin Stratford, Andy Turner \n",
    "\n",
    "<br>\n",
    "<br>"
   ]
  },
  {
   "cell_type": "markdown",
   "metadata": {
    "slideshow": {
     "slide_type": "slide"
    }
   },
   "source": [
    "<br>\n",
    "<hr class=\"top\">\n",
    "## Course overview \n",
    "<hr class=\"bot\">\n",
    "<br>\n",
    "### Course website:\n",
    "\n",
    "https://www.archer.ac.uk/training/course-material/2018/09/python-durham\n",
    "\n",
    "\n",
    "#### You will need:\n",
    "\n",
    "1. Laptop (Windows/Unix)\n",
    "2. Anaconda distribution of Python **VERSION 3.x** : \n",
    "https://www.continuum.io/\n",
    "\n",
    "3. Course material (including these notebooks) :\n",
    "\n",
    "  tar file:\n",
    "  \n",
    "  https://www.archer.ac.uk/training/course-material/2018/09/python-durham/sci-py.tar.gz\n",
    "  \n",
    "  zip file:\n",
    "  \n",
    "  https://www.archer.ac.uk/training/course-material/2018/0/python-durham/sci-py.zip\n",
    "\n",
    "\n",
    "Please make sure you have signed in and have a Guest Account sheet.\n",
    "\n",
    "\n",
    "\n"
   ]
  },
  {
   "cell_type": "markdown",
   "metadata": {
    "slideshow": {
     "slide_type": "slide"
    }
   },
   "source": [
    "<br>\n",
    "<hr class=\"top\">\n",
    "## Scientific computing \n",
    "<hr class=\"bot\">\n",
    "<br>\n",
    "\n",
    "### Typical workflow\n",
    "\n",
    "\n",
    "* Generate data\n",
    "\n",
    "  * Perhaps from simulation on HPC facilities\n",
    "  \n",
    "  * Perhaps from experiment\n",
    "\n",
    "\n",
    "* Process data\n",
    "  * Compute/extract appropriate results from data\n",
    "\n",
    "\n",
    "* Visualise results\n",
    "\n",
    "  * To understand the significance of our work and gain scientific insight\n",
    "\n",
    "\n",
    "* Communicate results\n",
    "\n",
    "  * Through publications, presentations, web, etc.\n"
   ]
  },
  {
   "cell_type": "markdown",
   "metadata": {
    "slideshow": {
     "slide_type": "slide"
    }
   },
   "source": [
    "<br>\n",
    "<hr class=\"top\">\n",
    "## Why Python?\n",
    "<hr class=\"bot\">\n",
    "<br>\n",
    "\n",
    "* Wide set of scientific computing functionality\n",
    "\n",
    "  * Numerical and scientific libraries\n",
    "  \n",
    "  * Plotting (graphs, charts, etc)\n",
    "  \n",
    "  * Interfacing to existing Fortran/C/C++ code, use Python as \"glue\".\n",
    "\n",
    "  \n",
    "* Python is a high level language\n",
    "\n",
    "  * Simple to learn and write\n",
    "  \n",
    "  * Think about what code does rather than how to write it\n",
    "  \n",
    "  * Supports different programming styles: procedural or object-oriented\n",
    "  \n",
    " <br>"
   ]
  },
  {
   "cell_type": "markdown",
   "metadata": {
    "slideshow": {
     "slide_type": "slide"
    }
   },
   "source": [
    "<br>\n",
    "<hr class=\"top\">\n",
    "## Why Python? (cont.) \n",
    "<hr class=\"bot\">\n",
    "<br>\n",
    "\n",
    "* Can write scripts (cf. `bash`, `perl`, etc.)\n",
    "\n",
    "\n",
    "* Interactive interface(s)\n",
    "\n",
    "  * Relatively easy to do relatively hard things\n",
    "  * Enable rapid prototyping of algorithms\n",
    "\n",
    "\n",
    "* Use as single interactive environment\n",
    "  * Viable (free and open-source) alternative to, e.g., Matlab, R\n",
    "\n",
    "<p style=\"font-size: 100%\">Useful links</p>\n",
    "\n",
    "  * <p style=\"font-size: 100%\">https://www.python.org/</p>\n",
    "  * <p style=\"font-size: 100%\">https://wiki.python.org/moin/NumericAndScientific</p>\n",
    "\n",
    "<br>"
   ]
  },
  {
   "cell_type": "markdown",
   "metadata": {
    "slideshow": {
     "slide_type": "slide"
    }
   },
   "source": [
    "<br>\n",
    "<hr class=\"top\">\n",
    "## Core libraries and packages for scientific computing \n",
    "<hr class=\"bot\">\n",
    "<br>\n",
    "\n",
    "#### Standard library:\n",
    "\n",
    "* https://docs.python.org/3/library/\n",
    "\n",
    "#### We will cover the central packages:\n",
    "\n",
    "* NumPy\n",
    "\n",
    "  * Tools for manipulating arrays\n",
    "\n",
    "\n",
    "* Matplotlib\n",
    "\n",
    "  * Plotting in 2D and 3D\n",
    "  \n",
    "\n",
    "* SciPy\n",
    "\n",
    "  * Higher-level scientific routines for common algorithms e.g. numerical integration, optimisation, Fourier transforms\n",
    "  \n",
    "  \n",
    "* MPI4PI\n",
    "  * Message passing parallel programming\n",
    "\n",
    "<br>\n"
   ]
  },
  {
   "cell_type": "markdown",
   "metadata": {
    "slideshow": {
     "slide_type": "slide"
    }
   },
   "source": [
    "<br>\n",
    "<hr class=\"top\">\n",
    "## Other useful packages\n",
    "<hr class=\"bot\">\n",
    "<br>\n",
    "\n",
    "* numba\n",
    "  * Decorations to allow compilation to source\n",
    "  \n",
    "* pandas\n",
    "  * Data structures and analysis\n",
    "  \n",
    "* seaborn\n",
    "  * Statistical data visualisation\n",
    "  \n",
    "* scikit-learn\n",
    "  * Machine learning, data mining and data analysis\n",
    "  \n",
    "* bokeh\n",
    "  * Interactive visualization library\n",
    "  \n",
    "\n",
    "  \n",
    "See\n",
    "* http://pythonhosted.org/mpi4py/\n",
    "* http://numba.pydata.org\n",
    "* http://pandas.pydata.org\n",
    "* https://seaborn.pydata.org/\n",
    "* http://scikit-learn.org\n",
    "* http://bokeh.pydata.org\n",
    "\n"
   ]
  },
  {
   "cell_type": "markdown",
   "metadata": {},
   "source": [
    "<br>\n",
    "<hr class=\"top\">\n",
    "## Some cautions \n",
    "<hr class=\"bot\">\n",
    "<br>\n",
    "\n",
    "\n",
    " \n",
    "*  <b>!!</b> Some compatability issues between versions 2.x and 3.x\n",
    "\n",
    "  * see https://wiki.python.org/moin/Python2orPython3\n",
    "  \n",
    "  \n",
    "* Many packages can risk complex dependency \"sprawl\"\n",
    "\n",
    "* Python is interpreted (not compiled)\n",
    "\n",
    "* HPC tools (debuggers, profilers) lag behind compiled languages\n",
    "\n",
    "<br>"
   ]
  },
  {
   "cell_type": "markdown",
   "metadata": {
    "slideshow": {
     "slide_type": "slide"
    }
   },
   "source": [
    "<br>\n",
    "<hr class=\"top\">\n",
    "## How to use Python?\n",
    "<hr class=\"bot\">\n",
    "\n",
    "<br>\n",
    "* Python code is executed by the Python interpreter: **`python`**\n",
    "\n",
    "\n",
    "* **Interactive mode** run Python interpreter without an input script file\n",
    "\n",
    "  * Interpreter runs as a Python shell (interactive Python runtime environment)\n",
    "\n",
    "\n",
    "* **Non-interactive mode** : supply the Python interpreter with an input script file\n",
    "\n",
    "  * `python myscript.py`\n",
    "\n",
    "\n",
    "* **Alternative interactive modes**\n",
    "  \n",
    "  * IPython: an enhanced shell ideal for data manipulation and visualisation\n",
    "  * Jupyter notebook: web browser-based interactive document (formerly ipython-notbook)\n",
    "\n",
    "<br>\n"
   ]
  },
  {
   "cell_type": "markdown",
   "metadata": {
    "slideshow": {
     "slide_type": "slide"
    }
   },
   "source": [
    "<br>\n",
    "<hr class=\"top\">\n",
    "## Basic Python shell\n",
    "<hr class=\"bot\">\n",
    "\n",
    "<br>\n",
    "\n",
    "* Interactive access to Python interpreter via **`python`** command (may/may not be possible on Windows)\n",
    "\n",
    "* Type commands directly at the prompt\n",
    "```bash\n",
    "bash-prompt> python\n",
    ">>> print(\"Hello World!\")\n",
    "```\n",
    "* Use CTRL-d to exit\n",
    "\n",
    "* Good for testing simple operations\n",
    "\n",
    "* However, rather limited, e.g., lose history when exit shell\n",
    "\n",
    "\n",
    "<b>!!</b> `print \"Hello World!\"` also works in Python 2.x but not 3.x \n",
    "\n",
    "<br>"
   ]
  },
  {
   "cell_type": "markdown",
   "metadata": {
    "slideshow": {
     "slide_type": "slide"
    }
   },
   "source": [
    "<br>\n",
    "<hr class=\"top\">\n",
    "## IPython shell\n",
    "<hr class=\"bot\">\n",
    "\n",
    "<br>\n",
    "IPython extends the standard Python shell with a number of useful things, including\n",
    "\n",
    "* Tab completion\n",
    "\n",
    "* Getting help use <b>`'help'`</b>  or <b>`?`</b>, e.g.: `help(int)`, `?int` or `int?`\n",
    "\n",
    "* 'Magic' commands (commands to ipython itself rather than python):\n",
    "  * <code> %hist</code> (history of commands)\n",
    "  * <code> %save</code> (record state to return later)\n",
    "  * <code> %run</code> (run python script within shell)\n",
    "\n",
    "* Use '!' to shell escape to operating system e.g.: `!ls -l`\n",
    "\n",
    "<b>quickref</b> command gives a summary of capabilities\n",
    "\n",
    "\n",
    "http://ipython.readthedocs.org/en/stable/overview.html\n",
    "\n",
    "<br>\n",
    "<br>"
   ]
  },
  {
   "cell_type": "markdown",
   "metadata": {
    "slideshow": {
     "slide_type": "slide"
    }
   },
   "source": [
    "<hr class=\"top\">\n",
    "## A Python script\n",
    "<hr class=\"bot\">\n",
    "\n",
    "<br>\n",
    "\n",
    "Use a text editor of your choice to edit file **<code>hello.py</code>**\n",
    "```python\n",
    "print(\"Hello World!\")\n",
    "```\n",
    "\n",
    "This may be executed from the shell\n",
    "\n",
    "1. Run the script from the command-line :  `python hello.py`\n",
    "\n",
    "2. Run the script from within an IPython shell using 'magic' :    `%run hello.py`\n",
    "\n",
    "Ideal for persistent, reusable, large (complex) code\n",
    "<br>\n",
    "<br>"
   ]
  },
  {
   "cell_type": "markdown",
   "metadata": {
    "slideshow": {
     "slide_type": "slide"
    }
   },
   "source": [
    "<br>\n",
    "<hr class=\"top\">\n",
    "## jupyter-notebook (formerly ipython-notebook)\n",
    "<hr class=\"bot\">\n",
    "<br>\n",
    "\n",
    "A browser interface to the iPython shell\n",
    "\n",
    "* Input is split into cells\n",
    "* So far we have seen \"Markdown\" cells\n",
    "* Enter python commands into \"code\" cells\n",
    "* Execute cells with SHIFT+ENTER\n",
    "* Can clear cell output : Cell –> Current Outputs –> Clear\n",
    "\n",
    "<br>\n"
   ]
  },
  {
   "cell_type": "code",
   "execution_count": null,
   "metadata": {},
   "outputs": [],
   "source": [
    "print(\"Hello World\")\n"
   ]
  },
  {
   "cell_type": "markdown",
   "metadata": {
    "slideshow": {
     "slide_type": "slide"
    }
   },
   "source": [
    "<br>\n",
    "<hr class=\"top\">\n",
    "## Python basics recap \n",
    "<hr class=\"bot\">\n",
    "<br>\n",
    "\n",
    "### Data types\n",
    "\n",
    "* Python is \"dynamically typed\": no explicit type declarations\n",
    "* Data type worked out from context when code is executed\n",
    "* Basic types include integers, floating point numbers, strings...\n"
   ]
  },
  {
   "cell_type": "code",
   "execution_count": null,
   "metadata": {},
   "outputs": [],
   "source": [
    "nmax = 11\n",
    "pi = 3.14159\n",
    "string1 = \"double quotes\"\n",
    "string2 = 'or single quotes'\n",
    "\n",
    "print(string1 + \" \" + string2)"
   ]
  },
  {
   "cell_type": "code",
   "execution_count": null,
   "metadata": {},
   "outputs": [],
   "source": [
    "# Find out type using the inbuilt type function...\n",
    "print(type(nmax))\n",
    "print(type(pi))\n",
    "print(type(string1))"
   ]
  },
  {
   "cell_type": "markdown",
   "metadata": {
    "slideshow": {
     "slide_type": "slide"
    }
   },
   "source": [
    "<br>\n",
    "\n",
    "<hr class=\"top\">\n",
    "## Python basics recap\n",
    "<hr class=\"bot\">\n",
    "<br>\n",
    "\n",
    "#### Dynamic typing requires some care\n"
   ]
  },
  {
   "cell_type": "code",
   "execution_count": null,
   "metadata": {},
   "outputs": [],
   "source": [
    "# Care with, e.g. \n",
    "long_variable_name = 1\n",
    "\n",
    "# spot the typo?\n",
    "if (True):\n",
    "    long_varaible_name = long_variable_name + 1\n",
    "    \n",
    "print(long_variable_name)"
   ]
  },
  {
   "cell_type": "code",
   "execution_count": null,
   "metadata": {},
   "outputs": [],
   "source": [
    "# Care with, e.g,\n",
    "nmax = pi\n",
    "\n",
    "# ...you have just redefined nmax to be a float\n",
    "print(nmax, type(nmax))"
   ]
  },
  {
   "cell_type": "code",
   "execution_count": null,
   "metadata": {},
   "outputs": [],
   "source": [
    "# So use an explicit cast if unsure, e.g.,\n",
    "\n",
    "nmax = int(pi)\n",
    "a = float(nmax)\n",
    "print(nmax, type(nmax), a, type(a))"
   ]
  },
  {
   "cell_type": "markdown",
   "metadata": {},
   "source": [
    "You could use `pylint`, a Python source code, bugs and quality checker: http://www.pylint.org"
   ]
  },
  {
   "cell_type": "markdown",
   "metadata": {
    "slideshow": {
     "slide_type": "slide"
    }
   },
   "source": [
    "<br>\n",
    "<hr class=\"top\">\n",
    "## Python basics recap\n",
    "<hr class=\"bot\">\n",
    "<br>\n",
    "\n",
    "\n",
    "### Data structures\n",
    "\n",
    "* lists, e.g.,  <code>[3, \"a\", 3.14, False]</code>\n",
    "* dictionary (or \"dicts\") <code>{\"key1\" : \"value1\", \"key1\" : \"value1\"}</code> \n",
    "* tuples <code>(1,2,3) or (1.2,) or (1, )</code>\n",
    "\n",
    "A tuple is an example of an <i>immutable object</i>.\n"
   ]
  },
  {
   "cell_type": "code",
   "execution_count": null,
   "metadata": {},
   "outputs": [],
   "source": [
    "lista = [3, \"a\", 3.14, False]\n",
    "dictb = {\"key1\" : 1, \"key2\" : 2}\n",
    "tuplec = (1,2,3)"
   ]
  },
  {
   "cell_type": "code",
   "execution_count": null,
   "metadata": {},
   "outputs": [],
   "source": [
    "# What do these do?\n",
    "print(lista[0])\n",
    "print(dictb[\"key2\"])\n",
    "print(tuplec[2])\n",
    "lista[2:3]"
   ]
  },
  {
   "cell_type": "code",
   "execution_count": null,
   "metadata": {},
   "outputs": [],
   "source": [
    "# Try...\n",
    "lista[2] = 1\n",
    "dictb[\"key2\"] = 1\n",
    "#tuplec[2] = 1"
   ]
  },
  {
   "cell_type": "markdown",
   "metadata": {
    "slideshow": {
     "slide_type": "slide"
    }
   },
   "source": [
    "<br>\n",
    "<hr class=\"top\">\n",
    "## Python basics recap\n",
    "<hr class=\"bot\">\n",
    "<br>\n",
    "### White space is significant (care!)\n",
    "\n",
    "* Code blocks are indented\n",
    "    * loops\n",
    "    * conditionals\n",
    "    * functions\n",
    "\n",
    "* Indent should be exactly 4 spaces\n",
    "    * not 3 spaces, not 5 spaces, ...\n",
    "<br>"
   ]
  },
  {
   "cell_type": "code",
   "execution_count": null,
   "metadata": {},
   "outputs": [],
   "source": [
    "nmin = 0\n",
    "nmax = 4\n",
    "nstep = 1\n",
    "\n",
    "for n in range(nmin, nmax, nstep):\n",
    "    print(\"Iteration\", n)\n",
    "\n",
    "print(\"End of iteration\")"
   ]
  },
  {
   "cell_type": "markdown",
   "metadata": {},
   "source": [
    "<br>\n",
    "<hr class=\"top\">\n",
    "## Python basics recap\n",
    "<hr class=\"bot\">\n",
    "<br>\n",
    "### For loops\n",
    "\n",
    "Can iterate through for loops in various ways, e.g.\n",
    "<br>"
   ]
  },
  {
   "cell_type": "code",
   "execution_count": null,
   "metadata": {},
   "outputs": [],
   "source": [
    "alist = [10.3, 2.013, 3.14, 4.569834]\n",
    "\n",
    "for value in alist:\n",
    "    print(\"Element has value \", value)"
   ]
  },
  {
   "cell_type": "code",
   "execution_count": null,
   "metadata": {},
   "outputs": [],
   "source": [
    "nlist = [10.3, 2.013, 3.14, 4.569834]\n",
    "\n",
    "for i, value in enumerate(alist):\n",
    "    print(\"Element\", i,\" has value \", value)"
   ]
  },
  {
   "cell_type": "markdown",
   "metadata": {
    "slideshow": {
     "slide_type": "slide"
    }
   },
   "source": [
    "<br>\n",
    "<hr class=\"top\">\n",
    "## Python basics recap\n",
    "<hr class=\"bot\">\n",
    "<br>\n",
    "\n",
    "### Importing additional modules\n",
    "  \n",
    "* There are a number of options:\n",
    "\n",
    "  * `import module`\n",
    "  * `from module import name`\n",
    "  * avoid universal imports (e.g., \"`from module import *`\")\n",
    "  \n",
    "* E.g., from the standard library\n",
    "  * https://docs.python.org/3/library/"
   ]
  },
  {
   "cell_type": "markdown",
   "metadata": {},
   "source": [
    "For example, the standard library contains a module `random` for the generation of random numbers. The module contains a function `random()`, amongst others."
   ]
  },
  {
   "cell_type": "code",
   "execution_count": null,
   "metadata": {},
   "outputs": [],
   "source": [
    "import random\n",
    "\n",
    "print(random.random())\n",
    "print(random.choice([\"yes\", \"no\", \"maybe\"]))\n"
   ]
  },
  {
   "cell_type": "markdown",
   "metadata": {},
   "source": [
    "Imported module and function names get added to the global <b>namespace</b>. Can check which active functions and variables are in the global namespace with `who` and `whos`"
   ]
  },
  {
   "cell_type": "code",
   "execution_count": null,
   "metadata": {},
   "outputs": [],
   "source": [
    "%who"
   ]
  },
  {
   "cell_type": "code",
   "execution_count": null,
   "metadata": {},
   "outputs": [],
   "source": [
    "%whos"
   ]
  },
  {
   "cell_type": "markdown",
   "metadata": {
    "slideshow": {
     "slide_type": "slide"
    }
   },
   "source": [
    "<br>\n",
    "<hr class=\"top\">\n",
    "## Python basics recap\n",
    "<hr class=\"bot\">\n",
    "<br>\n",
    "\n",
    "* Functions\n",
    "\n",
    "  * Built-in functions, e.g., `int()`, `type()`, `range()`, `max()`\n",
    "\n",
    "  * Object methods are accessed with dot operator : `object.method()` e.g. `list.sort()`\n",
    "\n",
    "  * Module functions also accessed with dot operator :  `module.function()`\n",
    "  \n",
    "  * Define your own function, e.g.:\n",
    "```python\n",
    "def my_square(x):\n",
    "        return x*x\n",
    "```\n",
    "\n",
    "  \n",
    "See\n",
    "* Built-in functions https://docs.python.org/3/library/functions.html\n",
    "\n",
    "\n",
    "<br>"
   ]
  },
  {
   "cell_type": "markdown",
   "metadata": {},
   "source": [
    "<br>\n",
    "\n",
    "<hr class=\"top\">\n",
    "## A Python module\n",
    "<hr class=\"bot\">\n",
    "\n",
    "<br>\n",
    "\n",
    "* A file with extension `.py` is a \"module\" i.e. a python script\n",
    "\n",
    "* At the top of such a file you may see something like:\n",
    "```python\n",
    "#!/usr/bin/env python\n",
    "```\n",
    "(Unix only) If the file is executable, locate interpreter from environment `$PATH`\n",
    "\n",
    "\n",
    "* At the bottom, you may see\n",
    "```python\n",
    "if __name__ == \"__main__\":\n",
    "    # execute commands in if-block only if code is run as a script\n",
    "    import sys\n",
    "    some_function_defined_above(sys.argv)\n",
    "```\n",
    "    \n",
    "* Allows code to be used as either a \"stand-alone\" script or as an imported module\n",
    "<br>\n",
    "<br>"
   ]
  },
  {
   "cell_type": "markdown",
   "metadata": {
    "slideshow": {
     "slide_type": "slide"
    }
   },
   "source": [
    "<br>\n",
    "<hr class=\"top\">\n",
    "## Exercise : Warm-up \n",
    "<hr class=\"bot\">\n",
    "<br>\n",
    "### Median from a list\n",
    "\n",
    "Define a function <code>my_median()</code> that takes a list of years and computes the median based on the number of years elapsed since 1900, i.e. median age if born in 1900, for each entry in the list.\n",
    "\n",
    "The function should return the median <i>and</i> the value either side of the median as a list.\n",
    "\n",
    "If `years = [1989, 1955, 2011, 1943, 1975]`, then the result should be\n",
    "```python\n",
    "print(my_median(years))\n",
    "[55, 75, 89]\n",
    "```\n",
    "\n",
    "Assume the input list is not ordered and has an odd number of elements $N$, where $N >= 3$.\n",
    "\n",
    "\n",
    "\n",
    "1. Use the above list of numbers as input to check you get the right answer.\n",
    "\n",
    "2. You will need to sort the list. How?\n",
    "\n",
    "3. List indexing may help you to get the final result e.g. `list[3:5]`\n",
    "\n",
    "4. Try generating a random array for input using module random.\n",
    "\n",
    "<br>\n"
   ]
  },
  {
   "cell_type": "code",
   "execution_count": null,
   "metadata": {},
   "outputs": [],
   "source": [
    "# Type your solution in the notebook,\n",
    "# or use an editor to create a separate script in a file,\n",
    "# or use an IDE.\n",
    "# Use the approach you are most comfortable with...\n",
    "\n",
    "# Hint: you may want to use list.append()\n",
    "# Some care with integer division may be required.\n",
    "\n",
    "def my_median(years):\n",
    "    ages = []\n",
    "\n",
    "    return ages\n",
    "    \n",
    "    \n",
    "years = [1989, 1955, 2011, 1943, 1975]"
   ]
  },
  {
   "cell_type": "markdown",
   "metadata": {
    "slideshow": {
     "slide_type": "slide"
    }
   },
   "source": [
    "<br>\n",
    "\n",
    "<hr class=\"top\">\n",
    "## Solution : Warm-up\n",
    "<hr class=\"bot\">\n",
    "\n",
    "\n",
    "<br>"
   ]
  },
  {
   "cell_type": "code",
   "execution_count": null,
   "metadata": {},
   "outputs": [],
   "source": [
    "# Execute to see a solution\n",
    "%load warm-up1.py\n",
    "\n"
   ]
  },
  {
   "cell_type": "markdown",
   "metadata": {},
   "source": [
    " "
   ]
  },
  {
   "cell_type": "markdown",
   "metadata": {
    "slideshow": {
     "slide_type": "slide"
    }
   },
   "source": [
    "<br>\n",
    "\n",
    "<hr class=\"top\">\n",
    "## Exercise : Warm-up II (bonus)\n",
    "<hr class=\"bot\">\n",
    "<br>\n",
    "### Using an external file\n",
    "\n",
    "Now read the list of years from a text file, <code>years.txt</code>, which should have the total number of years $N$ in the first line, followed by a numbered list of years:\n",
    "```\n",
    "total number of years\n",
    "1 year1\n",
    "2 year2\n",
    "...\n",
    "```\n",
    "\n",
    "To generate an input file '`years.txt`', you can try code of the form:\n",
    "\n",
    "```python\n",
    "import sys\n",
    "\n",
    "output = open(filename, 'w')\n",
    "...\n",
    "output.write(\"{0:2d} {1:2d}\\n\".format(1, years[0]))\n",
    "```\n",
    "\n",
    "To read an input file '`years.txt`', you may need code of the form:\n",
    "```python\n",
    "input = open(filename, 'r')\n",
    "line = input.readline()\n",
    "line.strip()\n",
    "tokens = line.split()\n",
    "```\n",
    "\n",
    "Check the in-built or web documentation for help with these standard library functions.\n",
    "\n",
    "Advanced: use `with` to open, read/write, close files and use list comprehension to read in years "
   ]
  },
  {
   "cell_type": "markdown",
   "metadata": {
    "slideshow": {
     "slide_type": "slide"
    }
   },
   "source": [
    "<br>\n",
    "\n",
    "<hr class=\"top\">\n",
    "## Solution : Warm-up II (bonus)\n",
    "<hr class=\"bot\">\n",
    "\n",
    "<br>"
   ]
  },
  {
   "cell_type": "code",
   "execution_count": null,
   "metadata": {},
   "outputs": [],
   "source": [
    "# Execute this cell to see a solution\n",
    "%load warm-up2.py\n"
   ]
  },
  {
   "cell_type": "code",
   "execution_count": null,
   "metadata": {
    "slideshow": {
     "slide_type": "slide"
    }
   },
   "outputs": [],
   "source": [
    "# Execute this cell to see an advanced solution\n",
    "%load warm-up2_advanced.py\n"
   ]
  },
  {
   "cell_type": "markdown",
   "metadata": {
    "slideshow": {
     "slide_type": "slide"
    }
   },
   "source": [
    "<br>\n",
    "<hr class=\"top\">\n",
    "## Summary\n",
    "<hr class=\"bot\">\n",
    "<br>\n",
    "* We have reviewed some core Python basics\n",
    "\n",
    "* We have also been introduced to the IPython shell\n",
    "\n",
    "* We will now look the packages that form the backbone of scientific python\n",
    "\n",
    "  * NumPy (next)\n",
    "  * Matplotlib\n",
    "  * SciPy\n",
    "  * MPI4PY\n",
    "  \n",
    "<br>\n",
    "\n",
    "* Useful links\n",
    "\n",
    "  * https://docs.python.org/3/\n",
    "  * https://www.codecademy.com/learn/python\n",
    "\n",
    "\n"
   ]
  },
  {
   "cell_type": "markdown",
   "metadata": {},
   "source": [
    "<br>\n",
    "<hr class=\"top\">\n",
    "<hr class=\"bot\">\n",
    "<br>"
   ]
  },
  {
   "cell_type": "code",
   "execution_count": null,
   "metadata": {},
   "outputs": [],
   "source": [
    "# This cell is for the presenter.\n",
    "from IPython.core.display import display, HTML\n",
    "\n",
    "styles = open(\"../style.css\", \"r\").read()\n",
    "display(HTML(styles))"
   ]
  },
  {
   "cell_type": "code",
   "execution_count": null,
   "metadata": {},
   "outputs": [],
   "source": []
  }
 ],
 "metadata": {
  "anaconda-cloud": {},
  "celltoolbar": "Raw Cell Format",
  "kernelspec": {
   "display_name": "Python 3",
   "language": "python",
   "name": "python3"
  },
  "language_info": {
   "codemirror_mode": {
    "name": "ipython",
    "version": 3
   },
   "file_extension": ".py",
   "mimetype": "text/x-python",
   "name": "python",
   "nbconvert_exporter": "python",
   "pygments_lexer": "ipython3",
   "version": "3.5.5"
  }
 },
 "nbformat": 4,
 "nbformat_minor": 2
}
