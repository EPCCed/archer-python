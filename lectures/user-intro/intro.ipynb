{
 "cells": [
  {
   "cell_type": "markdown",
   "metadata": {},
   "source": [
    "\n",
    "## ARCHER COURSE\n",
    "\n",
    "# SCIENTIFIC PYTHON : INTRODUCTION\n",
    "\n",
    "\n",
    "<br>\n",
    "\n",
    "## Website:  http://www.archer.ac.uk \n",
    "\n",
    "## Helpdesk: support@archer.ac.uk\n",
    "\n",
    "<br>\n",
    "\n",
    "<img src=\"../images/epsrclogo.png\" style=\"float: center\">\n",
    "<br>\n",
    "<img src=\"../images/nerclogo.png\" style=\"float: center\">\n",
    "<br>\n",
    "<img src=\"../images/craylogo.png\" style=\"float: center\">\n",
    "\n",
    "<br>\n",
    "<img src=\"../images/epcclogo.png\" style=\"float: center\">\n",
    "\n",
    "<br>\n",
    "<img src=\"../images/ediunilogo.png\" style=\"float: center\"> \n",
    "\n",
    "<br>\n",
    "<br>\n",
    "\n"
   ]
  },
  {
   "cell_type": "markdown",
   "metadata": {},
   "source": [
    "<img src=\"../images/reusematerial.png\" style=\"float: center; width: 90\" >"
   ]
  },
  {
   "cell_type": "markdown",
   "metadata": {
    "slideshow": {
     "slide_type": "slide"
    }
   },
   "source": [
    "<br>\n",
    "\n",
    "# Scientific Programming with Python: Introduction\n",
    "\n",
    "\n",
    "## Presenter: Adrian Jackson\n",
    "\n",
    "#### Contributing authors: \n",
    "#### Adrian Jackson, Neelofer Bangawala, Arno Proeme, Kevin Stratford, Andy Turner \n",
    "\n",
    "<br>\n",
    "<br>"
   ]
  },
  {
   "cell_type": "markdown",
   "metadata": {
    "slideshow": {
     "slide_type": "slide"
    }
   },
   "source": [
    "<br>\n",
    "\n",
    "## Scientific computing \n",
    "\n",
    "\n",
    "A typical workflow might include:\n",
    "\n",
    "\n",
    "\n",
    "* Generate data\n",
    "  * Perhaps from simulation on HPC facilities\n",
    "  * Perhaps from experiment\n",
    "\n",
    "\n",
    "* Process data\n",
    "    * Compute/extract appropriate results from data\n",
    "\n",
    "\n",
    "* Visualise results\n",
    "  * To understand the significance of our work and gain scientific insight\n",
    "\n",
    "\n",
    "* Communicate results\n",
    "  * Publications, presentations, web, etc.\n"
   ]
  },
  {
   "cell_type": "markdown",
   "metadata": {
    "slideshow": {
     "slide_type": "slide"
    }
   },
   "source": [
    "<br>\n",
    "\n",
    "## Why Python?\n",
    "\n",
    "https://www.python.org/\n",
    "\n",
    "* Can write scripts (cf. `bash`, `perl`, etc.)\n",
    "\n",
    "  * Easy to learn and write\n",
    "  * Many many standard packages available\n",
    "\n",
    "\n",
    "* Interactive interface(s)\n",
    "\n",
    "  * Relatively easy to do relatively hard things\n",
    "  * Exploratory work has low overhead\n",
    "\n",
    "\n",
    "* Use as single interactive environment\n",
    "\n",
    "    * Viable (free and open-source) alternative to, e.g., Matlab, R\n",
    "\n",
    "\n"
   ]
  },
  {
   "cell_type": "markdown",
   "metadata": {
    "slideshow": {
     "slide_type": "slide"
    }
   },
   "source": [
    "<br>\n",
    "\n",
    "## Using the bare Python shell\n",
    "\n",
    "\n",
    "Interactive access to Python interpreter via the **`python`** command\n",
    "\n",
    "Type commands directly at the prompt, e.g.,\n",
    "```bash\n",
    "bash-3.2> python\n",
    "Python 3.7.1 (default, Dec 10 2018, 22:54:23) [MSC v.1915 64 bit (AMD64)] :: Anaconda, Inc. on win32\n",
    "Type \"help\", \"copyright\", \"credits\" or \"license\" for more information.\n",
    ">>> print(\"Hello World!\")\n",
    "Hello World!\n",
    "\n",
    ">>> quit()\n",
    "```\n",
    "\n",
    "Use `CTRL-d` or `quit()` to exit\n",
    "\n",
    "* OK for testing simple operations\n",
    "\n",
    "#### Exercise\n",
    "* From the `File` menu on the top right select `File->New->Terminal`\n",
    "and try out the commands above. \n"
   ]
  },
  {
   "cell_type": "markdown",
   "metadata": {
    "slideshow": {
     "slide_type": "slide"
    }
   },
   "source": [
    "\n",
    "<br>\n",
    "\n",
    "## A Python script\n",
    "\n",
    "\n",
    "<br>\n",
    "\n",
    "We may place a series of python commands in a file.\n",
    "\n",
    "Use a text editor / IDE / whatever to edit a file **<code>hello.py</code>**\n",
    "```python\n",
    "# <- Comments are introduced via a hash\n",
    "print(\"Hello World!\")\n",
    "print(\"...from file\")\n",
    "```\n",
    "\n",
    "This may be executed from the shell command line:\n",
    "```bash\n",
    "bash-3.2$ python hello.py\n",
    "```\n",
    "\n",
    "\n",
    "* Ideal for persistent, reusable, large (complex) code\n",
    "\n",
    "#### Exercise\n",
    "\n",
    "1. From the `File` menu at the top right, select `File->New->Text File`.\n",
    "2. Enter a python command in the new window\n",
    "3. Save the file with a `.py` file extension via `File->Save File As...`\n",
    "4. From the terminal window, run the new script\n",
    "\n",
    "Note. You may need to change directory in the terminal, e.g.,:\n",
    "```bash\n",
    "bash-3.2$ cd lectures/user-intro\n",
    "```\n",
    "The present working directory can be identified via the command `pwd`."
   ]
  },
  {
   "cell_type": "markdown",
   "metadata": {},
   "source": [
    "<br>\n",
    "\n",
    "## Unix execution\n",
    "\n",
    "You may see, at the top of a script, something like\n",
    "```python\n",
    "#!/usr/bin/env python\n",
    "...\n",
    "```\n",
    "\n",
    "This is a \"shebang\", which is an instruction to the Unix program loader on how to execute the contents (here \"find python in the usual place in the current environment\"). Windows users: see following section.\n",
    "\n",
    "#### Exercise\n",
    "1. Add the shebang to your python script `hello.py`\n",
    "2. From the terminal, set the script to executable mode, and run via\n",
    "```bash\n",
    "bash-3.2$ chmod +x hello.py\n",
    "bash-3.2$ ./hello.py\n",
    "```\n",
    "\n",
    "Note. You can check the mode of the file via, e.g.,\n",
    "```bash\n",
    "bash-3.2$ ls -l hello.py\n",
    "-rwxr-xr-x  1 kevin  staff  41 Oct 24 09:55 hello.py\n",
    "```\n",
    "You should see `x` for executable in the mode on the left.\n"
   ]
  },
  {
   "cell_type": "markdown",
   "metadata": {},
   "source": [
    "\n",
    "## Using Python on Windows (10)\n",
    "\n",
    "From the main Windows Start Menu, it should be possible to locate\n",
    "the Anaconda Launcher, which allows you to start various python-related\n",
    "activity.\n",
    "\n",
    "These include `jupyter-lab` which can be used as the basis of this\n",
    "exercise. If you have a preferred _modus operandi_, use it.\n",
    "\n",
    "Once started, the `File->New->Terminal` menu option provides `powershell`.\n",
    "\n",
    "#### Exercise\n",
    "\n",
    "Check you can a) start the bare python shell from the command line\n",
    "as described above, and b) create and run a simple python script contined in a file. That is, run from the command line\n",
    "```bash\n",
    "$ python hello.py\n",
    "```\n",
    "\n"
   ]
  },
  {
   "cell_type": "markdown",
   "metadata": {
    "slideshow": {
     "slide_type": "slide"
    }
   },
   "source": [
    "<br>\n",
    "\n",
    "## IPython shell\n",
    "\n",
    "An enhanced interactive python shell\n",
    "\n",
    "http://ipython.readthedocs.org/en/stable/overview.html\n",
    "\n",
    "\n",
    "Includes\n",
    "\n",
    "* Shell (or system) commands `ls`, `cd`, `pwd` etc\n",
    "* Tab completion\n",
    "\n",
    "* Getting help use <b>`'help'`</b>  or <b>`?`</b>, e.g.: `help(int)`, `?int` or `int?`\n",
    "\n",
    "* 'Magic' commands (commands to ipython itself rather than python):\n",
    "  * <code> %hist</code> (history of commands)\n",
    "  * <code> %save</code> (record state to return later)\n",
    "  * <code> %run</code> (run python script within shell)\n",
    "\n",
    "<b>quickref</b> command gives a summary of capabilities\n",
    "\n"
   ]
  },
  {
   "cell_type": "markdown",
   "metadata": {
    "slideshow": {
     "slide_type": "slide"
    }
   },
   "source": [
    "<br>\n",
    "\n",
    "## jupyter-notebook (`.ipynb` files)\n",
    "\n",
    "A browser interface to the iPython shell\n",
    "\n",
    "* Input is split into cells\n",
    "* So far we have seen \"Markdown\" cells\n",
    "* Enter python commands into \"code\" cells (click to focus)\n",
    "* Execute cells with SHIFT+ENTER\n",
    "* Can clear single cell output : focus, and `Edit–>Clear Ouputs`\n",
    "\n",
    "<br>\n"
   ]
  },
  {
   "cell_type": "code",
   "execution_count": null,
   "metadata": {},
   "outputs": [],
   "source": [
    "\n",
    "print(\"Hello World\")\n"
   ]
  },
  {
   "cell_type": "markdown",
   "metadata": {},
   "source": [
    "\n",
    "<br>\n",
    "\n",
    "## jupyter-lab\n",
    "\n",
    "This combines notebooks with other useful facilities such as the text editor\n",
    "and terminal shell, as we are using here.\n",
    "\n",
    "\n",
    "----"
   ]
  },
  {
   "cell_type": "markdown",
   "metadata": {
    "slideshow": {
     "slide_type": "slide"
    }
   },
   "source": [
    "<br>\n",
    "\n",
    "## Python basics\n",
    "\n",
    "#### Assignment\n",
    "\n",
    "One can assign values to variables\n"
   ]
  },
  {
   "cell_type": "code",
   "execution_count": null,
   "metadata": {},
   "outputs": [],
   "source": [
    "\n",
    "# Integers, e.g.,\n",
    "nmax = 11\n",
    "\n",
    "# Floating point numbers, e.g.,\n",
    "pi = 3.14159\n",
    "\n",
    "# Strings, e.g, \n",
    "string1 = 'single quotes'\n",
    "string2 = \"or double quotes\"\n"
   ]
  },
  {
   "cell_type": "markdown",
   "metadata": {},
   "source": [
    "#### type\n",
    "\n",
    "\n",
    "Note. There are no variable 'declarations'. All python variables or objects have a type, and type is determined from context.\n",
    "\n",
    "In assignment, type is determined by what is on the right hand side.\n",
    "\n",
    "To determine the type of a variable, use the inbuilt `type()` function.\n"
   ]
  },
  {
   "cell_type": "code",
   "execution_count": null,
   "metadata": {},
   "outputs": [],
   "source": [
    "\n",
    "nmax = 11\n",
    "pi = 3.14159\n",
    "string1 = 'single quotes'\n",
    "\n",
    "print(\"The type of nmax is:   \", type(nmax))\n",
    "print(\"The type of pi is:     \", type(pi))\n",
    "print(\"The type of string1:   \", type(string1))\n",
    "print(\"The type of type() is: \", type(type))\n"
   ]
  },
  {
   "cell_type": "markdown",
   "metadata": {
    "slideshow": {
     "slide_type": "slide"
    }
   },
   "source": [
    "<br>\n",
    "\n",
    "#### Operations\n",
    "\n",
    "Operations are again determined by context:\n",
    "\n",
    "\n"
   ]
  },
  {
   "cell_type": "code",
   "execution_count": null,
   "metadata": {},
   "outputs": [],
   "source": [
    "\n",
    "nmax = 11\n",
    "pi = 3.14159\n",
    "string1 = 'single quotes'\n",
    "string2 = 'or double quotes'\n",
    "\n",
    "print(\"Integer addition:        \", nmax + nmax)\n",
    "print(\"Floating point addition: \", pi + pi)\n",
    "print(\"String addition:         \", string1 + \" \" + string2)\n",
    "\n",
    "# The result of mixed operations...\n",
    "# ...is via \"promotion\"\n",
    "\n",
    "result = nmax + pi\n",
    "print(\"The result is: \", result, \" of type: \", type(result))\n"
   ]
  },
  {
   "cell_type": "markdown",
   "metadata": {},
   "source": [
    "\n",
    "<br>\n",
    "\n",
    "#### Exercise\n",
    "\n",
    "One special case requiring care is division. Python has two operators:\n",
    "\n",
    "* floating point division `/`\n",
    "* integer division `//`\n",
    "\n",
    "Check the results of the following. How does integer division behave? What happens if you try interger division with floating point numbers and vice-versa?"
   ]
  },
  {
   "cell_type": "code",
   "execution_count": null,
   "metadata": {},
   "outputs": [],
   "source": [
    "\n",
    "# Floating point\n",
    "\n",
    "f1 = 2.0; f2 = 1.0; f3 = -1.0\n",
    "\n",
    "print(\"f1 f2 = \", f1/f2, f2/f1)\n",
    "print(\"f1 f3 = \", f1/f3, f3/f1)\n"
   ]
  },
  {
   "cell_type": "code",
   "execution_count": null,
   "metadata": {},
   "outputs": [],
   "source": [
    "# Integer\n",
    "\n",
    "i1 = 2 ; i2 = 1; i3 = -1\n",
    "\n",
    "print(\"i1 i2 \", i1//i2, i2//i1)\n",
    "print(\"i1 i3 \", i1//i3, i3//i1)"
   ]
  },
  {
   "cell_type": "code",
   "execution_count": null,
   "metadata": {},
   "outputs": [],
   "source": [
    "# Floating point and Integer\n",
    "f1 = 2.5\n",
    "\n",
    "i1 = 2\n",
    "# Try mixing floating point and numbers by completing the print statements below\n",
    "print(\"f1/i1 =\", )\n",
    "print(\"i1/f1 =\", )\n",
    "print(\"f1//i1 =\", )\n",
    "print(\"i1//f1 =\", )"
   ]
  },
  {
   "cell_type": "markdown",
   "metadata": {},
   "source": [
    "\n",
    "<br>\n",
    "\n",
    "## Lists\n",
    "\n",
    "Lists of objects are introduced by square brackets\n",
    "* A general container for \"things\"\n",
    "* Access via [index] **starting at zero**\n"
   ]
  },
  {
   "cell_type": "code",
   "execution_count": null,
   "metadata": {},
   "outputs": [],
   "source": [
    "\n",
    "mylist = [False, 1, 2.0, \"three\"]\n",
    "\n",
    "print(\"mylist is of type:         \", type(mylist))\n",
    "print(\"The first element is:      \", mylist[0])\n",
    "print(\"The length of the list is: \", len(mylist))\n"
   ]
  },
  {
   "cell_type": "code",
   "execution_count": null,
   "metadata": {},
   "outputs": [],
   "source": [
    "\n",
    "# Lists support operations\n",
    "\n",
    "mylist1 = [1, 2, 3, 4, 5]\n",
    "mylist2 = [6, 7, 8, 9, 10]\n",
    "\n",
    "mylist1 + mylist2\n"
   ]
  },
  {
   "cell_type": "code",
   "execution_count": null,
   "metadata": {},
   "outputs": [],
   "source": [
    "\n",
    "# Lists support many \"class\" methods or functions\n",
    "\n",
    "empty_list = []\n",
    "empty_list.append(1)\n",
    "\n",
    "print(\"No longer empty_list: \", empty_list)\n"
   ]
  },
  {
   "cell_type": "markdown",
   "metadata": {},
   "source": [
    "<br>\n",
    "\n",
    "## Tuples\n",
    "\n",
    "Essentially a list which does not support assignment of elements\n",
    "(it is _immutable_)\n",
    "\n",
    "* Introduced via parenthesis (usually)\n",
    "* Indexed via square brackets (like list)\n"
   ]
  },
  {
   "cell_type": "code",
   "execution_count": null,
   "metadata": {},
   "outputs": [],
   "source": [
    "\n",
    "mytuple1 = (0, 1, 2)\n",
    "mytuple2 = 1,\n",
    "\n",
    "print(\"The first element is: \", mytuple1[0])\n",
    "print(\"Is mytuple2 a tuple?: \", type(mytuple2) == tuple)\n"
   ]
  },
  {
   "cell_type": "code",
   "execution_count": null,
   "metadata": {},
   "outputs": [],
   "source": [
    "\n",
    "# Attempt at assignment will result in an error\n",
    "\n",
    "mytuple1 = (-1, 0, 1)\n",
    "mytuple1[0] = 1\n"
   ]
  },
  {
   "cell_type": "markdown",
   "metadata": {
    "slideshow": {
     "slide_type": "slide"
    }
   },
   "source": [
    "<br>\n",
    "\n",
    "## Iteration via `for`\n",
    "\n",
    "Many data types support **iteration**\n",
    "\n",
    "* A general mechanism to move through elements one-by-one\n",
    "* Note colon at end for `for` statement\n",
    "* Structured block identified by indentation\n"
   ]
  },
  {
   "cell_type": "code",
   "execution_count": null,
   "metadata": {},
   "outputs": [],
   "source": [
    "\n",
    "for c in \"Hello\":\n",
    "    print(\"Character:\", c)\n",
    "    \n",
    "print(\"World\")\n"
   ]
  },
  {
   "cell_type": "code",
   "execution_count": null,
   "metadata": {},
   "outputs": [],
   "source": [
    "\n",
    "alist = [4, 3, 2, 1]\n",
    "\n",
    "for value in alist:\n",
    "    print(\"Element has value \", value)\n"
   ]
  },
  {
   "cell_type": "markdown",
   "metadata": {},
   "source": [
    "\n",
    "<br>\n",
    "\n",
    "#### enumerate()\n",
    "\n",
    "The built-in function _`enumerate(list)`_ produces a counter:"
   ]
  },
  {
   "cell_type": "code",
   "execution_count": null,
   "metadata": {},
   "outputs": [],
   "source": [
    "\n",
    "blist = [\"Andy\", \"Arno\", \"Kevin\", \"Neelofer\"]\n",
    "\n",
    "for index, name in enumerate(blist):\n",
    "    print(\"Element\", index, \" has value \", name, blist[index])\n"
   ]
  },
  {
   "cell_type": "markdown",
   "metadata": {},
   "source": [
    "\n",
    "<br>\n",
    "\n",
    "#### Ranges\n",
    "\n",
    "Built-in function _`range(min, max[, step])`_ \n",
    "\n",
    "* produces a range of integers `[min, max-1]`\n",
    "* If `step` is omitted, it defaults to 1"
   ]
  },
  {
   "cell_type": "code",
   "execution_count": null,
   "metadata": {},
   "outputs": [],
   "source": [
    "\n",
    "\n",
    "for n in range(0, 4):\n",
    "    print(\"Iteration\", n)\n",
    "\n",
    "print(\"End of iteration\")\n"
   ]
  },
  {
   "cell_type": "markdown",
   "metadata": {},
   "source": [
    "\n",
    "<br>\n",
    "\n",
    "## Logic and conditionals\n",
    "\n",
    "Logical values: `True` and `False`\n",
    "\n",
    "There is also `None` (and empty or null value, which evaluates to `False`)\n",
    "\n",
    "Logical (Boolean) operations are: `and`, `or`; unary `not`\n"
   ]
  },
  {
   "cell_type": "code",
   "execution_count": null,
   "metadata": {},
   "outputs": [],
   "source": [
    "\n",
    "# Conditional branches are indented\n",
    "# Note the colons again:\n",
    "\n",
    "expression = False\n",
    "\n",
    "if expression:\n",
    "    print(\"True\")\n",
    "else:\n",
    "    print(\"False\")\n",
    "\n",
    "print(\"True and False is\", True and False)\n"
   ]
  },
  {
   "cell_type": "code",
   "execution_count": null,
   "metadata": {},
   "outputs": [],
   "source": [
    "\n",
    "# Arithmetic comparison\n",
    "\n",
    "i = 1\n",
    "\n",
    "if i <= 2:\n",
    "    print(\"i is less then or equal to 2\")\n"
   ]
  },
  {
   "cell_type": "markdown",
   "metadata": {
    "slideshow": {
     "slide_type": "slide"
    }
   },
   "source": [
    "<br>\n",
    "\n",
    "## Functions\n",
    "\n",
    "\n",
    "Built-in functions, e.g., _`print()`_, _`type()`_, _`range()`_\n",
    " https://docs.python.org/3/library/functions.html\n",
    "\n",
    "\n",
    "* _Class methods_ are accessed with dot operator : `object.method()` e.g. `mylist.append()`\n",
    "  \n",
    "* Define your own function, e.g.:\n",
    "```python\n",
    "def my_square(x):\n",
    "      return x*x\n",
    "```\n",
    "\n",
    "\n",
    "#### Exercise\n",
    "\n",
    "Write a function which takes as its argument a list of integers,\n",
    "iterates through the list to compute the sum of the elements,\n",
    "and returns that sum. Check you have the expected answer.\n",
    "\n",
    "\n"
   ]
  },
  {
   "cell_type": "code",
   "execution_count": null,
   "metadata": {},
   "outputs": [],
   "source": [
    "\n",
    "# Define the function here ...\n",
    "\n",
    "# The sum for mylist should be 15\n",
    "\n",
    "mylist = [1, 2, 3, 4, 5]"
   ]
  },
  {
   "cell_type": "markdown",
   "metadata": {
    "slideshow": {
     "slide_type": "slide"
    }
   },
   "source": [
    "<br>\n",
    "\n",
    "## Importing standard libary modules\n",
    "\n",
    "https://docs.python.org/3/library/\n",
    "\n",
    "* There are a number of variations of the _import_ statement:\n",
    "\n",
    "  * `import module`\n",
    "  * `from module import name`\n",
    "  \n"
   ]
  },
  {
   "cell_type": "markdown",
   "metadata": {},
   "source": [
    "For example, the standard library contains a module `random` for the generation of random numbers. The module contains the functions `random()` and `choice()` (amongst others)."
   ]
  },
  {
   "cell_type": "code",
   "execution_count": null,
   "metadata": {},
   "outputs": [],
   "source": [
    "\n",
    "# First, functions may be accessed via module name...\n",
    "\n",
    "import random\n",
    "\n",
    "print(random.random())\n",
    "print(random.choice([\"yes\", \"no\", \"maybe\"]))\n"
   ]
  },
  {
   "cell_type": "code",
   "execution_count": null,
   "metadata": {},
   "outputs": [],
   "source": [
    "\n",
    "# Alternatively\n",
    "\n",
    "from random import random, choice\n",
    "\n",
    "print(random())\n",
    "print(choice([\"yes\", \"no\", \"maybe\"]))\n"
   ]
  },
  {
   "cell_type": "markdown",
   "metadata": {},
   "source": [
    "\n",
    "<br>\n",
    "\n",
    "## A Python module\n",
    "\n",
    "A file with extension `.py` is a \"module\" i.e. something with python code in it.\n",
    "\n",
    "Sometimes useful to be able to execute as a script, or import as\n",
    "a module.\n",
    "\n",
    "This is often done by checking the special variable `__name__`,\n",
    "which takes on different values in different contexts.\n",
    "\n",
    "```python\n",
    "if __name__ == \"__main__\":\n",
    "    \n",
    "    # we execute in the context of a script...\n",
    "    ...\n",
    "```\n",
    "\n",
    "#### Exercise\n",
    "\n",
    "In the directory with this notebook is a python file `mymodule.py`.\n",
    "Have a look at its contents.\n",
    "\n",
    "Check you can run `mymodule.py` from the terminal as before:\n",
    "```bash\n",
    "bash-3.2$ python mymodule.py\n",
    "```\n",
    "and note the output.\n",
    "\n",
    "Now check you can import and run the `my_name()` function from\n",
    "the following cell."
   ]
  },
  {
   "cell_type": "code",
   "execution_count": null,
   "metadata": {},
   "outputs": [],
   "source": [
    "\n",
    "# We can also import the module\n",
    "\n",
    "import mymodule\n",
    "\n",
    "mymodule.my_name(\"here!\")\n"
   ]
  },
  {
   "cell_type": "markdown",
   "metadata": {},
   "source": [
    "\n",
    "<br>\n",
    "\n",
    "## Horrible Error! Help!\n",
    "\n",
    "Errors produce a _stack trace_ which can be extremely long.\n",
    "\n",
    "Scroll to the bottom and read the last message first.\n",
    "\n",
    "\n",
    "\n"
   ]
  },
  {
   "cell_type": "code",
   "execution_count": null,
   "metadata": {},
   "outputs": [],
   "source": [
    "# Not a correctly formed python statement\n",
    "\n",
    "Whoops!"
   ]
  },
  {
   "cell_type": "markdown",
   "metadata": {},
   "source": [
    "\n",
    "#### Exercise\n",
    "\n",
    "The following cells have common errors (here deliberate). Look at the error message to\n",
    "try to understand what is wrong:"
   ]
  },
  {
   "cell_type": "code",
   "execution_count": null,
   "metadata": {},
   "outputs": [],
   "source": [
    "# One\n",
    "\n",
    "def my_function(a):\n",
    "    print (\"The argument is: \", a)\n"
   ]
  },
  {
   "cell_type": "code",
   "execution_count": null,
   "metadata": {},
   "outputs": [],
   "source": [
    "# Two\n",
    "\n",
    "print (\"The value of a is \", a)\n"
   ]
  },
  {
   "cell_type": "code",
   "execution_count": null,
   "metadata": {},
   "outputs": [],
   "source": [
    "# Three\n",
    "\n",
    "if (True):\n",
    "    print(\"Statement is true\")\n",
    " else:\n",
    "    print(\"Statement is false\")"
   ]
  },
  {
   "cell_type": "code",
   "execution_count": null,
   "metadata": {},
   "outputs": [],
   "source": [
    "# Four\n",
    "\n",
    "bells = [\"St Clement's\", \"St Martin's\", \"Old Bailey\", \"Shoreditch\"]\n",
    "\n",
    "print(\"When I grow rich, say the bells at\", bells[4])\n"
   ]
  },
  {
   "cell_type": "markdown",
   "metadata": {},
   "source": [
    "\n",
    "<br>\n",
    "\n",
    "\n",
    "\n",
    "## Some common problems\n",
    "\n",
    "\n",
    "#### Dynamic typing\n"
   ]
  },
  {
   "cell_type": "code",
   "execution_count": null,
   "metadata": {},
   "outputs": [],
   "source": [
    "\n",
    "# Typos can cause bugs...\n",
    "\n",
    "x1 = 1.0\n",
    "xl = x1 + 2.0\n",
    "print(\"I expect x1 to be: \", x1)\n"
   ]
  },
  {
   "cell_type": "markdown",
   "metadata": {},
   "source": [
    "\n",
    "<br>\n",
    "\n",
    "#### You may destroy something you didn't mean to...\n"
   ]
  },
  {
   "cell_type": "code",
   "execution_count": null,
   "metadata": {},
   "outputs": [],
   "source": [
    "\n",
    "print = \"yes\"\n",
    "print(\"no!\")\n"
   ]
  },
  {
   "cell_type": "markdown",
   "metadata": {},
   "source": [
    "\n",
    "<br>\n",
    "\n",
    "This can give rise to some weird and unexpected errors. E.g., in the above,\n",
    "the intrinsic name _print_ has been redefined to be a string (it's no longer a callable function).\n",
    "\n",
    "In this particular case, it is possible to recover by explicitly deleting the new string:"
   ]
  },
  {
   "cell_type": "code",
   "execution_count": null,
   "metadata": {},
   "outputs": [],
   "source": [
    "\n",
    "print = \"yes\"\n",
    "\n",
    "del print\n",
    "print(\"okay!\")\n"
   ]
  },
  {
   "cell_type": "markdown",
   "metadata": {},
   "source": [
    "\n",
    "\n",
    "\n",
    "Ultimately, you may need to restart the python kernel to recover sanity.\n",
    "From the menu `Kernel->Restart Kernel...`\n",
    "\n",
    "<br>\n",
    "\n",
    "#### White space is significant\n",
    "\n",
    "Errors in indentation can result in incorrect iteration, logic, e.g.:\n"
   ]
  },
  {
   "cell_type": "code",
   "execution_count": null,
   "metadata": {},
   "outputs": [],
   "source": [
    "\n",
    "def my_function(arg):\n",
    "\n",
    "    if arg:\n",
    "        # ... run the True branch\n",
    "        result = True\n",
    "    else:\n",
    "        # ...perhaps a long and highly indented False branch...\n",
    "        result = False\n",
    "        # ...\n",
    "    \n",
    "        # Is this is the false branch?\n",
    "        print(\"The result is: \", result)\n",
    "\n",
    "my_function(False)"
   ]
  },
  {
   "cell_type": "markdown",
   "metadata": {},
   "source": [
    "\n",
    "Prefer splitting long and/or highly indented regions into separate functions."
   ]
  },
  {
   "cell_type": "markdown",
   "metadata": {},
   "source": [
    "\n",
    "<br>\n",
    "\n",
    "#### Notebooks have memory\n",
    "\n",
    "The order of execution of cells may be important. Variables and values are carried forward.\n",
    "\n",
    "Editing long and complex notebooks can introduce unintended dependencies\n",
    "on the order of execution of the cells.\n"
   ]
  },
  {
   "cell_type": "code",
   "execution_count": null,
   "metadata": {},
   "outputs": [],
   "source": [
    "\n",
    "# This cell must be executed ...\n",
    "\n",
    "i10 = 1\n"
   ]
  },
  {
   "cell_type": "code",
   "execution_count": null,
   "metadata": {},
   "outputs": [],
   "source": [
    "\n",
    "# ...before this cell.\n",
    "\n",
    "print(\"The value of i10 is\", i10)\n"
   ]
  },
  {
   "cell_type": "markdown",
   "metadata": {},
   "source": [
    "\n",
    "Use ipython `%whos` to check the current namespace and values.\n",
    "\n",
    "If unexpected errors persist, it may be necessary to clear all the output\n",
    "and history from the menu `Edit->Clear All Outputs`, and re-execute cells in the correct order.\n",
    "\n",
    "While notebooks are good for experimentation and short tests, significant correct code is probably best kept as a final version in a .py file and imported. This is a common development picture."
   ]
  },
  {
   "cell_type": "markdown",
   "metadata": {},
   "source": [
    "\n",
    "<br>\n",
    "\n",
    "## Some other cautions \n",
    "\n",
    " \n",
    "* Some compatability issues between versions 2.x and 3.x\n",
    "\n",
    "  * E.g., `print` can behave differently\n",
    "  * python2 had no separate integer division //\n",
    "  * Some older packages are python2\n",
    "  * See https://wiki.python.org/moin/Python2orPython3\n",
    "  * Formal support for python2 will end in 2020\n",
    "  \n",
    "  \n",
    "* Many packages can risk complex dependency problem\n",
    "\n",
    "    * Package A depends on specific version of package B depends on...\n",
    "    * Package managers such as anaconda are often used\n",
    "    \n",
    "\n",
    "* Python is \"interpreted\"; can be \"slow\"\n",
    "\n",
    "    * ...compared with a compiled language version of the same thing\n"
   ]
  },
  {
   "cell_type": "markdown",
   "metadata": {
    "slideshow": {
     "slide_type": "slide"
    }
   },
   "source": [
    "<br>\n",
    "\n",
    "## Summary\n",
    "\n",
    "* We have reviewed some Python syntax, data structures, functions, and modules\n",
    "\n",
    "* We have also been introduced to the IPython shell\n",
    "\n",
    "* The following lectures will look at some standard packages\n",
    "\n",
    "  * NumPy\n",
    "  * Matplotlib\n",
    "  * SciPy\n",
    "\n",
    "\n",
    "\n",
    "\n"
   ]
  },
  {
   "cell_type": "markdown",
   "metadata": {
    "slideshow": {
     "slide_type": "slide"
    }
   },
   "source": [
    "\n",
    "<br>\n",
    "\n",
    "## Final Exercise: Median\n",
    "\n",
    "\n",
    "Define a function <code>my_median()</code> that takes a list\n",
    "of dates of birth (just the year) of individuals as it single\n",
    "argument, and returns the median age from the list.\n",
    "\n",
    "The function must do a number of things:\n",
    "\n",
    "1. Compute a new list of ages \"now\" from the dates of birth;\n",
    "2. Sort the resulting list (how!?);\n",
    "3. Decide whether there is an even or odd number in the sample;\n",
    "4. Return the appropriate median\n",
    "\n",
    "Assume \"now\" is 2019, and someone born in 2018 is one year old etc.\n",
    "\n",
    "If `dates_of_birth = [1989, 1955, 2011, 1943, 1976]`,\n",
    "and year_now is 2019, then the result should be\n",
    "```python\n",
    "print(my_median(dates_of_birth))\n",
    "43\n",
    "```\n",
    "\n",
    "\n",
    "Use the above list of numbers as input to check you get the right answer.\n",
    "\n"
   ]
  },
  {
   "cell_type": "code",
   "execution_count": null,
   "metadata": {},
   "outputs": [],
   "source": [
    "\n",
    "# Type your solution in the notebook,\n",
    "# or use an editor to create a separate script in a file,\n",
    "# or use an IDE.\n",
    "# Use the approach you are most comfortable with...\n",
    "\n",
    "year_now = 2019\n",
    "\n",
    "def my_median(dobs):\n",
    "\n",
    "    # Compute the median from a list of dates of birth\n",
    "    \n",
    "    return median\n",
    "\n",
    "\n",
    "dates_of_birth = [1989, 1955, 2011, 1943, 1976]\n",
    "\n",
    "print(my_median(dates_of_birth))\n"
   ]
  },
  {
   "cell_type": "markdown",
   "metadata": {},
   "source": [
    "\n",
    "Clearly, a hardwired\n",
    "```python\n",
    "year_now = 2019\n",
    "```\n",
    "is not very robust (the answer will be wrong unless you happen to be interested in 2019).\n",
    "\n",
    "Can you find a method from the standard library which will provide the current year?\n"
   ]
  },
  {
   "cell_type": "markdown",
   "metadata": {
    "slideshow": {
     "slide_type": "slide"
    }
   },
   "source": [
    "<br>\n",
    "\n",
    "## Solution: Median\n"
   ]
  },
  {
   "cell_type": "code",
   "execution_count": null,
   "metadata": {},
   "outputs": [],
   "source": [
    "# Uncomment and execute this cell to see a solution\n",
    "#%load mymedian.py\n"
   ]
  },
  {
   "cell_type": "markdown",
   "metadata": {},
   "source": [
    " "
   ]
  },
  {
   "cell_type": "markdown",
   "metadata": {
    "slideshow": {
     "slide_type": "slide"
    }
   },
   "source": [
    "<br>\n",
    "\n",
    "## Extra exercise\n",
    "\n",
    "#### Using an external file\n",
    "\n",
    "Suppose the list of dates-of-birth was stored in a file (we have provided one called \n",
    "<code>years.txt</code>). The file is structured as follows:\n",
    "```\n",
    "total number of years\n",
    "1 year1\n",
    "2 year2\n",
    "...\n",
    "```\n",
    "\n",
    "If we wanted to read the data from the file and store in a list,\n",
    "we can do something like the following. The file is openned for reading,\n",
    "or in mode 'r', and the content may be read line-by-line:\n",
    "\n",
    "```python\n",
    "...\n",
    "input = open(filename, 'r')\n",
    "line = input.readline()\n",
    "line.strip()\n",
    "tokens = line.split()\n",
    "...\n",
    "```\n",
    "At this point, the variable `tokens` will contain a list of the tokens, or the strings on\n",
    "the line that has been read in. (Find out exactly what the string functions `strip()` and\n",
    "`split()` do.) We are then in a position to convert the strings to integers\n",
    "and treat them appropriately.\n",
    "\n",
    "Use the cell below to attempt to read the data from the file.\n",
    "\n",
    "If we wished to store some processed results to a new file at the end of the\n",
    "procedure, we could open a new file for writing (mode 'w'), schematically:\n",
    "\n",
    "```python\n",
    "\n",
    "output = open(filename, 'w')\n",
    "...\n",
    "output.write(\"{0:2d} {1:2d}\\n\".format(1, years[0]))\n",
    "...\n",
    "output.close()\n",
    "\n",
    "```\n",
    "\n",
    "Again, check the string `format()` function in the documentation.\n",
    "\n",
    "Have a go in the cell below.\n"
   ]
  },
  {
   "cell_type": "code",
   "execution_count": null,
   "metadata": {},
   "outputs": [],
   "source": [
    "# Read the data from the file and compute the median\n",
    "\n",
    "# E.g., write the corresponding ages to a new file\n"
   ]
  },
  {
   "cell_type": "code",
   "execution_count": null,
   "metadata": {},
   "outputs": [],
   "source": [
    "# Example solution. You can try to import the python code in the file ex_file.py and\n",
    "# use the functions therein. Have a look to see what they do.\n",
    "\n",
    "import ex_file\n",
    "\n"
   ]
  },
  {
   "cell_type": "markdown",
   "metadata": {},
   "source": [
    "We will see later more convenient ways to deal with external files."
   ]
  }
 ],
 "metadata": {
  "anaconda-cloud": {},
  "celltoolbar": "Raw Cell Format",
  "kernelspec": {
   "display_name": "Python 3",
   "language": "python",
   "name": "python3"
  },
  "language_info": {
   "codemirror_mode": {
    "name": "ipython",
    "version": 3
   },
   "file_extension": ".py",
   "mimetype": "text/x-python",
   "name": "python",
   "nbconvert_exporter": "python",
   "pygments_lexer": "ipython3",
   "version": "3.7.1"
  }
 },
 "nbformat": 4,
 "nbformat_minor": 2
}
