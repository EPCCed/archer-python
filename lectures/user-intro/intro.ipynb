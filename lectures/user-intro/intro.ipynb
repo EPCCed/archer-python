{
 "cells": [
  {
   "cell_type": "markdown",
   "metadata": {},
   "source": [
    "\n",
    "## ARCHER COURSE\n",
    "\n",
    "# SCIENTIFIC PYTHON : INTRODUCTION\n",
    "\n",
    "\n",
    "<br>\n",
    "\n",
    "## Website:  http://www.archer.ac.uk \n",
    "\n",
    "## Helpdesk: support@archer.ac.uk\n",
    "\n",
    "<br>\n",
    "\n",
    "<img src=\"images/epsrclogo.png\" style=\"float: center\">\n",
    "<br>\n",
    "<img src=\"images/nerclogo.png\" style=\"float: center;>\n",
    "<br>\n",
    "<img src=\"images/craylogo.png\" style=\"float: center;\">\n",
    "\n",
    "<br>\n",
    "<img src=\"images/epcclogo.png\" style=\"float: center;\">\n",
    "\n",
    "<br>\n",
    "<img src=\"images/ediunilogo.png\" style=\"float: center;\"> \n",
    "\n",
    "<br>\n",
    "<br>\n",
    "\n"
   ]
  },
  {
   "cell_type": "markdown",
   "metadata": {},
   "source": [
    "<img src=\"images/reusematerial.png\" style=\"float: center; width: 90\" >"
   ]
  },
  {
   "cell_type": "markdown",
   "metadata": {
    "slideshow": {
     "slide_type": "slide"
    }
   },
   "source": [
    "<br>\n",
    "\n",
    "# Scientific Programming with Python: Introduction\n",
    "\n",
    "\n",
    "## Presenter: Neelofer Banglawala\n",
    "\n",
    "#### Contributing authors: \n",
    "#### Neelofer Bangawala, Arno Proeme, Kevin Stratford, Andy Turner \n",
    "\n",
    "<br>\n",
    "<br>"
   ]
  },
  {
   "cell_type": "markdown",
   "metadata": {
    "slideshow": {
     "slide_type": "slide"
    }
   },
   "source": [
    "<br>\n",
    "\n",
    "## Scientific computing \n",
    "\n",
    "\n",
    "A typical workflow might include:\n",
    "\n",
    "\n",
    "\n",
    "* Generate data\n",
    "  * Perhaps from simulation on HPC facilities\n",
    "  * Perhaps from experiment\n",
    "\n",
    "\n",
    "* Process data\n",
    "    * Compute/extract appropriate results from data\n",
    "\n",
    "\n",
    "* Visualise results\n",
    "  * To understand the significance of our work and gain scientific insight\n",
    "\n",
    "\n",
    "* Communicate results\n",
    "  * Publications, presentations, web, etc.\n"
   ]
  },
  {
   "cell_type": "markdown",
   "metadata": {
    "slideshow": {
     "slide_type": "slide"
    }
   },
   "source": [
    "<br>\n",
    "\n",
    "## Why Python?\n",
    "\n",
    "https://www.python.org/\n",
    "\n",
    "* Can write scripts (cf. `bash`, `perl`, etc.)\n",
    "\n",
    "  * Easy to learn and write\n",
    "  * Many many standard packages available\n",
    "\n",
    "\n",
    "* Interactive interface(s)\n",
    "\n",
    "  * Relatively easy to do relatively hard things\n",
    "  * Exploratory work has low overhead\n",
    "\n",
    "\n",
    "* Use as single interactive environment\n",
    "\n",
    "    * Viable (free and open-source) alternative to, e.g., Matlab, R\n",
    "\n",
    "\n"
   ]
  },
  {
   "cell_type": "markdown",
   "metadata": {
    "slideshow": {
     "slide_type": "slide"
    }
   },
   "source": [
    "<br>\n",
    "\n",
    "## Using the bare Python shell\n",
    "\n",
    "\n",
    "Interactive access to Python interpreter via the **`python`** command\n",
    "\n",
    "DOES THIS WORK on Windows?\n",
    "\n",
    "Type commands directly at the prompt, e.g.,\n",
    "```bash\n",
    "bash-3.2> python\n",
    "... some information on version etc ...\n",
    ">>> print(\"Hello World!\")\n",
    ">>> quit()\n",
    "```\n",
    "\n",
    "Use `CTRL-d` or `quit()` to exit\n",
    "\n",
    "* OK for testing simple operations\n",
    "\n",
    "#### Exercise\n",
    "* From the `File` menu on the top right select `File->New->Terminal`\n",
    "and try out the commands above. \n"
   ]
  },
  {
   "cell_type": "markdown",
   "metadata": {
    "slideshow": {
     "slide_type": "slide"
    }
   },
   "source": [
    "\n",
    "<br>\n",
    "\n",
    "## A Python script\n",
    "\n",
    "\n",
    "<br>\n",
    "\n",
    "We may place a series of python commands in a file.\n",
    "\n",
    "Use a text editor / IDE / whatever to edit a file **<code>hello.py</code>**\n",
    "```python\n",
    "# <- Comments are introduced via a hash\n",
    "print(\"Hello World!\")\n",
    "print(\"...from file\")\n",
    "```\n",
    "\n",
    "This may be executed from the shell command line:\n",
    "```bash\n",
    "bash-3.2$ python hello.py\n",
    "```\n",
    "\n",
    "\n",
    "* Ideal for persistent, reusable, large (complex) code\n",
    "\n",
    "#### Exercise\n",
    "\n",
    "1. From the `File` menu at the top right, select `File->New->Text File`.\n",
    "2. Enter a python command in the new window\n",
    "3. Save the file with a `.py` file extension via `File->Save File As...`\n",
    "4. From the terminal window, run the new script\n",
    "\n",
    "Note. You may need to change directory in the terminal, e.g.,:\n",
    "```bash\n",
    "bash-3.2$ cd lectures/user-intro\n",
    "```\n",
    "The present working directory can be identified via the command `pwd`."
   ]
  },
  {
   "cell_type": "markdown",
   "metadata": {},
   "source": [
    "<br>\n",
    "\n",
    "## Unix execution\n",
    "\n",
    "You may see, at the top of a script, something like\n",
    "```python\n",
    "#!/usr/bin/env python\n",
    "...\n",
    "```\n",
    "\n",
    "This is a \"shebang\", which is an instruction to the Unix program loader on how to execute the contents (here \"find python in the usual place in the current environment\"). Windows: this is a comment.\n",
    "\n",
    "#### Exercise\n",
    "1. Add the shebang to your python script `hello.py`\n",
    "2. From the terminal, set the script to executable mode, and run via\n",
    "```bash\n",
    "bash-3.2$ chmod +x hello.py\n",
    "bash-3.2$ ./hello.py\n",
    "```\n",
    "\n",
    "Note. You can check the mode of the file via, e.g.,\n",
    "```bash\n",
    "bash-3.2$ ls -l hello.py\n",
    "-rwxr-xr-x  1 kevin  staff  41 Oct 24 09:55 hello.py\n",
    "```\n",
    "You should see `x` for executable in the mode on the left.\n"
   ]
  },
  {
   "cell_type": "markdown",
   "metadata": {
    "slideshow": {
     "slide_type": "slide"
    }
   },
   "source": [
    "<br>\n",
    "\n",
    "## IPython shell\n",
    "\n",
    "An enhanced interactive python shell\n",
    "http://ipython.readthedocs.org/en/stable/overview.html\n",
    "\n",
    "\n",
    "Includes\n",
    "\n",
    "* Shell (or system) commands `ls`, `cd`, `pwd` etc\n",
    "* Tab completion\n",
    "\n",
    "* Getting help use <b>`'help'`</b>  or <b>`?`</b>, e.g.: `help(int)`, `?int` or `int?`\n",
    "\n",
    "* 'Magic' commands (commands to ipython itself rather than python):\n",
    "  * <code> %hist</code> (history of commands)\n",
    "  * <code> %save</code> (record state to return later)\n",
    "  * <code> %run</code> (run python script within shell)\n",
    "\n",
    "<b>quickref</b> command gives a summary of capabilities\n",
    "\n"
   ]
  },
  {
   "cell_type": "markdown",
   "metadata": {
    "slideshow": {
     "slide_type": "slide"
    }
   },
   "source": [
    "<br>\n",
    "\n",
    "## jupyter-notebook (`.ipynb` files)\n",
    "\n",
    "A browser interface to the iPython shell\n",
    "\n",
    "* Input is split into cells\n",
    "* So far we have seen \"Markdown\" cells\n",
    "* Enter python commands into \"code\" cells (click to focus)\n",
    "* Execute cells with SHIFT+ENTER\n",
    "* Can clear cell output : `Edit–>Clear Ouputs`\n",
    "\n",
    "<br>\n"
   ]
  },
  {
   "cell_type": "code",
   "execution_count": null,
   "metadata": {},
   "outputs": [],
   "source": [
    "\n",
    "print(\"Hello World\")\n"
   ]
  },
  {
   "cell_type": "markdown",
   "metadata": {},
   "source": [
    "\n",
    "<br>\n",
    "\n",
    "## jupyter-lab\n",
    "\n",
    "This combines notebooks with other useful facilities.\n",
    "\n",
    "COULD SPLIT INTO SEPARATE NOTEBOOK HERE??\n",
    "\n"
   ]
  },
  {
   "cell_type": "markdown",
   "metadata": {
    "slideshow": {
     "slide_type": "slide"
    }
   },
   "source": [
    "<br>\n",
    "\n",
    "## Python basics\n",
    "\n",
    "#### Assignment\n",
    "\n",
    "One can assign values to variables\n"
   ]
  },
  {
   "cell_type": "code",
   "execution_count": null,
   "metadata": {},
   "outputs": [],
   "source": [
    "\n",
    "# Integers, e.g.,\n",
    "nmax = 11\n",
    "\n",
    "# Floating point numbers, e.g.,\n",
    "pi = 3.14159\n",
    "\n",
    "# Strings, e.g, \n",
    "string1 = 'single quotes'\n",
    "string2 = \"or double quotes\"\n"
   ]
  },
  {
   "cell_type": "markdown",
   "metadata": {},
   "source": [
    "#### type\n",
    "\n",
    "\n",
    "Note. There are no variable 'declarations'. All python variables or objects have a type, and type is determined from context.\n",
    "\n",
    "In assignment, type is determined by what is on the right hand side.\n",
    "\n",
    "To determine the type of a variable, use the inbuilt `type()` function.\n"
   ]
  },
  {
   "cell_type": "code",
   "execution_count": null,
   "metadata": {},
   "outputs": [],
   "source": [
    "\n",
    "print(\"The type of nmax is:   \", type(nmax))\n",
    "print(\"The type of pi is:     \", type(pi))\n",
    "print(\"The type of string1:   \", type(string1))\n",
    "print(\"The type of type() is: \", type(type))\n"
   ]
  },
  {
   "cell_type": "markdown",
   "metadata": {
    "slideshow": {
     "slide_type": "slide"
    }
   },
   "source": [
    "<br>\n",
    "\n",
    "#### Operations\n",
    "\n",
    "Operations are again determined by context:\n",
    "\n",
    "\n"
   ]
  },
  {
   "cell_type": "code",
   "execution_count": null,
   "metadata": {},
   "outputs": [],
   "source": [
    "\n",
    "nmax = 11\n",
    "pi = 3.14159\n",
    "string1 = 'single quotes'\n",
    "string2 = 'or double quotes'\n",
    "\n",
    "print(\"Integer addition:        \", nmax + nmax)\n",
    "print(\"Floating point addition: \", pi + pi)\n",
    "print(\"String addition:         \", string1 + \" \" + string2)\n",
    "\n",
    "# The result of mixed operations...\n",
    "# ...is via \"promotion\"\n",
    "\n",
    "result = nmax + pi\n",
    "print(\"The result is: \", result, \" of type: \", type(result))\n"
   ]
  },
  {
   "cell_type": "markdown",
   "metadata": {},
   "source": [
    "EXERCISE ABOVE e.g., divisions / and //\n",
    "\n",
    "\n",
    "<br>\n",
    "\n",
    "## Lists\n",
    "\n",
    "Lists of objects are introduced by square brackets\n",
    "* A general container for \"things\"\n",
    "* Access via index **starting at zero**\n"
   ]
  },
  {
   "cell_type": "code",
   "execution_count": null,
   "metadata": {},
   "outputs": [],
   "source": [
    "\n",
    "mylist = [False, 1, 2.0, \"three\"]\n",
    "\n",
    "print(\"mylist is of type:         \", type(mylist))\n",
    "print(\"The first element is:      \", mylist[0])\n",
    "print(\"The length of the list is: \", len(mylist))\n"
   ]
  },
  {
   "cell_type": "code",
   "execution_count": null,
   "metadata": {},
   "outputs": [],
   "source": [
    "\n",
    "# Lists support operations\n",
    "\n",
    "mylist1 = [1, 2, 3, 4, 5]\n",
    "mylist2 = [6, 7, 8, 9, 10]\n",
    "\n",
    "mylist1 + mylist2\n"
   ]
  },
  {
   "cell_type": "code",
   "execution_count": null,
   "metadata": {},
   "outputs": [],
   "source": [
    "\n",
    "# Lists support many \"class\" methods or functions\n",
    "\n",
    "empty_list = []\n",
    "empty_list.append(1)\n",
    "\n",
    "print(\"No longer empty_list: \", empty_list)\n"
   ]
  },
  {
   "cell_type": "markdown",
   "metadata": {},
   "source": [
    "<br>\n",
    "\n",
    "## Tuples\n",
    "\n",
    "Essentially a list which does not support assignment of elements\n",
    "(it is _immutable_)\n",
    "\n",
    "* Introducted via parenthesis (usually)\n",
    "* Indexed via square brackets (like list)\n"
   ]
  },
  {
   "cell_type": "code",
   "execution_count": null,
   "metadata": {},
   "outputs": [],
   "source": [
    "\n",
    "mytuple1 = (0, 1, 2)\n",
    "mytuple2 = 1,\n",
    "\n",
    "print(\"The first element is: \", mytuple[0])\n",
    "print(\"Is mytuple2 a tuple?: \", type(mytuple) == tuple)\n"
   ]
  },
  {
   "cell_type": "code",
   "execution_count": null,
   "metadata": {},
   "outputs": [],
   "source": [
    "\n",
    "# Attempt at assignment will result in an error\n",
    "\n",
    "mytuple1 = (-1, 0, 1)\n",
    "mytuple1[0] = 1\n"
   ]
  },
  {
   "cell_type": "markdown",
   "metadata": {
    "slideshow": {
     "slide_type": "slide"
    }
   },
   "source": [
    "<br>\n",
    "\n",
    "## Iteration via `for`\n",
    "\n",
    "Many data types support **iteration**\n",
    "\n",
    "* A general mechanism to move through elements one-by-one\n",
    "* Note colon at end for `for` statement\n",
    "* Structured block identified by indentation\n"
   ]
  },
  {
   "cell_type": "code",
   "execution_count": null,
   "metadata": {},
   "outputs": [],
   "source": [
    "\n",
    "for c in \"Hello\":\n",
    "    print(\"Character:\", c)\n",
    "    \n",
    "print(\"World\")\n"
   ]
  },
  {
   "cell_type": "code",
   "execution_count": null,
   "metadata": {},
   "outputs": [],
   "source": [
    "\n",
    "alist = [4, 3, 2, 1]\n",
    "\n",
    "for value in alist:\n",
    "    print(\"Element has value \", value)\n"
   ]
  },
  {
   "cell_type": "markdown",
   "metadata": {},
   "source": [
    "\n",
    "<br>\n",
    "\n",
    "#### enumerate()\n",
    "\n",
    "The built-in function _`enumerate(list)`_ produces a counter:"
   ]
  },
  {
   "cell_type": "code",
   "execution_count": null,
   "metadata": {},
   "outputs": [],
   "source": [
    "\n",
    "blist = [\"Andy\", \"Arno\", \"Kevin\", \"Neelofer\"]\n",
    "\n",
    "for index, name in enumerate(blist):\n",
    "    print(\"Element\", index, \" has value \", name, blist[index])\n"
   ]
  },
  {
   "cell_type": "markdown",
   "metadata": {},
   "source": [
    "\n",
    "<br>\n",
    "\n",
    "#### Ranges\n",
    "\n",
    "Built-in function _`range(min, max[, step])`_ \n",
    "\n",
    "* produces a range of integers `[min, max-1]`\n",
    "* If `step` is omitted, it defaults to 1"
   ]
  },
  {
   "cell_type": "code",
   "execution_count": null,
   "metadata": {},
   "outputs": [],
   "source": [
    "\n",
    "for n in range(2, 10, 2):\n",
    "    print(\"Iteration\", n)\n",
    "\n",
    "print(\"End of iteration\")\n"
   ]
  },
  {
   "cell_type": "markdown",
   "metadata": {},
   "source": [
    "\n",
    "<br>\n",
    "\n",
    "## Logic and conditionals\n",
    "\n",
    "PENDING\n"
   ]
  },
  {
   "cell_type": "markdown",
   "metadata": {
    "slideshow": {
     "slide_type": "slide"
    }
   },
   "source": [
    "<br>\n",
    "\n",
    "## Functions\n",
    "\n",
    "\n",
    "Built-in functions, e.g., _`len()`_, `type()`, `range()`, `max()`\n",
    " https://docs.python.org/3/library/functions.html\n",
    "\n",
    "\n",
    "* Object methods are accessed with dot operator : `object.method()` e.g. `list.sort()`\n",
    "\n",
    "* Module functions also accessed with dot operator : `module.function()`\n",
    "  \n",
    "* Define your own function, e.g.:\n",
    "```python\n",
    "def my_square(x):\n",
    "        return x*x\n",
    "```\n"
   ]
  },
  {
   "cell_type": "code",
   "execution_count": 24,
   "metadata": {},
   "outputs": [],
   "source": [
    "\n",
    "# Call by reference or value?\n"
   ]
  },
  {
   "cell_type": "markdown",
   "metadata": {
    "slideshow": {
     "slide_type": "slide"
    }
   },
   "source": [
    "<br>\n",
    "\n",
    "## Importing standard libary modules\n",
    "\n",
    "https://docs.python.org/3/library/\n",
    "\n",
    "* There are a number of options:\n",
    "\n",
    "  * `import module`\n",
    "  * `from module import name`\n",
    "  * avoid universal imports (e.g., \"`from module import *`\")\n",
    "  \n"
   ]
  },
  {
   "cell_type": "markdown",
   "metadata": {},
   "source": [
    "For example, the standard library contains a module `random` for the generation of random numbers. The module contains a function `random()`, amongst others."
   ]
  },
  {
   "cell_type": "code",
   "execution_count": null,
   "metadata": {},
   "outputs": [],
   "source": [
    "import random\n",
    "\n",
    "print(random.random())\n",
    "print(random.choice([\"yes\", \"no\", \"maybe\"]))\n"
   ]
  },
  {
   "cell_type": "markdown",
   "metadata": {},
   "source": [
    "Imported module and function names get added to the global <b>namespace</b>. Can check which active functions and variables are in the global namespace with `who` and `whos`"
   ]
  },
  {
   "cell_type": "code",
   "execution_count": 1,
   "metadata": {},
   "outputs": [
    {
     "name": "stdout",
     "output_type": "stream",
     "text": [
      "Interactive namespace is empty.\n"
     ]
    }
   ],
   "source": [
    "%whos"
   ]
  },
  {
   "cell_type": "markdown",
   "metadata": {},
   "source": [
    "<br>\n",
    "\n",
    "## A Python module\n",
    "\n",
    "\n",
    "* A file with extension `.py` is a \"module\" i.e. a python script\n",
    "\n",
    "* At the top of such a file you may see something like:\n",
    "```python\n",
    "#!/usr/bin/env python\n",
    "```\n",
    "(Unix only) If the file is executable, locate interpreter from environment `$PATH`\n",
    "\n",
    "\n",
    "* At the bottom, you may see\n",
    "```python\n",
    "if __name__ == \"__main__\":\n",
    "    # execute commands in if-block only if code is run as a script\n",
    "    import sys\n",
    "    some_function_defined_above(sys.argv)\n",
    "```\n",
    "    \n",
    "* Allows code to be used as either a \"stand-alone\" script or as an imported module\n",
    "<br>\n",
    "<br>"
   ]
  },
  {
   "cell_type": "markdown",
   "metadata": {},
   "source": [
    "## Horrible Error! Help!\n",
    "\n",
    "\n",
    "\n",
    "\n",
    "\n",
    "\n",
    "### White space is significant (care!)\n",
    "\n",
    "* Code blocks are indented\n",
    "    * loops\n",
    "    * conditionals\n",
    "    * functions\n",
    "\n",
    "* Indent should be exactly 4 spaces\n",
    "    * not 3 spaces, not 5 spaces, ...\n",
    "    * Do not mix tabs and spaces"
   ]
  },
  {
   "cell_type": "code",
   "execution_count": null,
   "metadata": {},
   "outputs": [],
   "source": [
    "# Care with, e.g. \n",
    "long_variable_name = 1\n",
    "\n",
    "# spot the typo?\n",
    "if (True):\n",
    "    long_varaible_name = long_variable_name + 1\n",
    "    \n",
    "print(long_variable_name)\n",
    "\n",
    "# Care with, e.g,\n",
    "nmax = pi\n",
    "\n",
    "# ...you have just redefined nmax to be a float\n",
    "print(nmax, type(nmax))\n",
    "\n",
    "# So use an explicit cast if unsure, e.g.,\n",
    "\n",
    "nmax = int(pi)\n",
    "a = float(nmax)\n",
    "print(nmax, type(nmax), a, type(a))\n",
    "\n",
    "# Code quality"
   ]
  },
  {
   "cell_type": "markdown",
   "metadata": {},
   "source": [
    "<br>\n",
    "\n",
    "## Some other cautions \n",
    "\n",
    " \n",
    "* Some compatability issues between versions 2.x and 3.x\n",
    "\n",
    "  * E.g., `print` can behave differently\n",
    "  * Some older packages are python2\n",
    "  * See https://wiki.python.org/moin/Python2orPython3\n",
    "  \n",
    "  \n",
    "* Many packages can risk complex dependency problem\n",
    "\n",
    "    * Package A depends on specific version of package B depends on...\n",
    "    * Package managers such as anaconda are often used\n",
    "    \n",
    "\n",
    "* Python is \"interpreted\"; can be \"slow\"\n"
   ]
  },
  {
   "cell_type": "markdown",
   "metadata": {
    "slideshow": {
     "slide_type": "slide"
    }
   },
   "source": [
    "<br>\n",
    "\n",
    "## Exercise : Warm-up \n",
    "\n",
    "#### Median from a list\n",
    "\n",
    "Define a function <code>my_median()</code> that takes a list of years and computes the median based on the number of years elapsed since 1900, i.e. median age if born in 1900, for each entry in the list.\n",
    "\n",
    "The function should return the median <i>and</i> the value either side of the median as a list.\n",
    "\n",
    "If `years = [1989, 1955, 2011, 1943, 1975]`, then the result should be\n",
    "```python\n",
    "print(my_median(years))\n",
    "[55, 75, 89]\n",
    "```\n",
    "\n",
    "Assume the input list is not ordered and has an odd number of elements $N$, where $N >= 3$.\n",
    "\n",
    "\n",
    "\n",
    "1. Use the above list of numbers as input to check you get the right answer.\n",
    "\n",
    "2. You will need to sort the list. How?\n",
    "\n",
    "3. List indexing may help you to get the final result e.g. `list[3:5]`\n",
    "\n",
    "4. Try generating a random array for input using module random.\n",
    "\n",
    "<br>\n"
   ]
  },
  {
   "cell_type": "code",
   "execution_count": null,
   "metadata": {},
   "outputs": [],
   "source": [
    "# Type your solution in the notebook,\n",
    "# or use an editor to create a separate script in a file,\n",
    "# or use an IDE.\n",
    "# Use the approach you are most comfortable with...\n",
    "\n",
    "# Hint: you may want to use list.append()\n",
    "# Some care with integer division may be required.\n",
    "\n",
    "def my_median(years):\n",
    "    ages = []\n",
    "\n",
    "    return ages\n",
    "    \n",
    "    \n",
    "years = [1989, 1955, 2011, 1943, 1975]"
   ]
  },
  {
   "cell_type": "markdown",
   "metadata": {
    "slideshow": {
     "slide_type": "slide"
    }
   },
   "source": [
    "<br>\n",
    "\n",
    "## Solution : Warm-up\n"
   ]
  },
  {
   "cell_type": "code",
   "execution_count": null,
   "metadata": {},
   "outputs": [],
   "source": [
    "\n",
    "# Execute to see a solution\n",
    "\n",
    "%load warm-up1.py\n"
   ]
  },
  {
   "cell_type": "markdown",
   "metadata": {},
   "source": [
    " "
   ]
  },
  {
   "cell_type": "markdown",
   "metadata": {
    "slideshow": {
     "slide_type": "slide"
    }
   },
   "source": [
    "<br>\n",
    "\n",
    "## Exercise : Warm-up II (bonus)\n",
    "\n",
    "#### Using an external file\n",
    "\n",
    "Now read the list of years from a text file, <code>years.txt</code>, which should have the total number of years $N$ in the first line, followed by a numbered list of years:\n",
    "```\n",
    "total number of years\n",
    "1 year1\n",
    "2 year2\n",
    "...\n",
    "```\n",
    "\n",
    "To generate an input file '`years.txt`', you can try code of the form:\n",
    "\n",
    "```python\n",
    "import sys\n",
    "\n",
    "output = open(filename, 'w')\n",
    "...\n",
    "output.write(\"{0:2d} {1:2d}\\n\".format(1, years[0]))\n",
    "```\n",
    "\n",
    "To read an input file '`years.txt`', you may need code of the form:\n",
    "```python\n",
    "input = open(filename, 'r')\n",
    "line = input.readline()\n",
    "line.strip()\n",
    "tokens = line.split()\n",
    "```\n",
    "\n",
    "Check the in-built or web documentation for help with these standard library functions.\n",
    "\n",
    "Advanced: use `with` to open, read/write, close files and use list comprehension to read in years "
   ]
  },
  {
   "cell_type": "markdown",
   "metadata": {
    "slideshow": {
     "slide_type": "slide"
    }
   },
   "source": [
    "<br>\n",
    "\n",
    "## Solution : Warm-up II (bonus)\n"
   ]
  },
  {
   "cell_type": "code",
   "execution_count": null,
   "metadata": {},
   "outputs": [],
   "source": [
    "# Execute this cell to see a solution\n",
    "%load warm-up2.py\n"
   ]
  },
  {
   "cell_type": "code",
   "execution_count": null,
   "metadata": {
    "slideshow": {
     "slide_type": "slide"
    }
   },
   "outputs": [],
   "source": [
    "# Execute this cell to see an advanced solution\n",
    "%load warm-up2_advanced.py\n"
   ]
  },
  {
   "cell_type": "code",
   "execution_count": null,
   "metadata": {},
   "outputs": [],
   "source": [
    "\n",
    "\n",
    "# New exercise\n",
    "\n",
    "with open(\"dunkirk.dat\", \"r\") as handle:\n",
    "    data = handle.readlines()\n",
    "    \n",
    "print(repr(data[0]))\n"
   ]
  },
  {
   "cell_type": "markdown",
   "metadata": {
    "slideshow": {
     "slide_type": "slide"
    }
   },
   "source": [
    "<br>\n",
    "\n",
    "## Summary\n",
    "\n",
    "* We have reviewed some core Python basics\n",
    "\n",
    "* We have also been introduced to the IPython shell\n",
    "\n",
    "* We will now look the packages that form the backbone of scientific python\n",
    "\n",
    "  * NumPy (next)\n",
    "  * Matplotlib\n",
    "  * SciPy\n",
    "  * MPI4PY\n",
    "  \n",
    "<br>\n",
    "\n",
    "* Useful links\n",
    "\n",
    "  * https://docs.python.org/3/\n",
    "  * https://www.codecademy.com/learn/python\n",
    "\n",
    "\n"
   ]
  },
  {
   "cell_type": "markdown",
   "metadata": {},
   "source": [
    "<br>\n",
    "<hr class=\"top\">\n",
    "<hr class=\"bot\">\n",
    "<br>"
   ]
  }
 ],
 "metadata": {
  "anaconda-cloud": {},
  "celltoolbar": "Raw Cell Format",
  "kernelspec": {
   "display_name": "Python 3",
   "language": "python",
   "name": "python3"
  },
  "language_info": {
   "codemirror_mode": {
    "name": "ipython",
    "version": 3
   },
   "file_extension": ".py",
   "mimetype": "text/x-python",
   "name": "python",
   "nbconvert_exporter": "python",
   "pygments_lexer": "ipython3",
   "version": "3.7.0"
  }
 },
 "nbformat": 4,
 "nbformat_minor": 2
}
