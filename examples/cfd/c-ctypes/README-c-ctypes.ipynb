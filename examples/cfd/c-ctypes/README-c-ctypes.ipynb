{
 "cells": [
  {
   "cell_type": "markdown",
   "metadata": {},
   "source": [
    "### CFD Exercise: Using C and ctypes\n",
    "\n",
    "This example demostrates the use of C via the `ctypes` standard library module. An implementation of the Jacobi algorithm in C is provided in the file `jacobi.c`. The relevant function has the prototype\n",
    "```c\n",
    "int jacobi(int m, int n, int niter, double * psi);\n",
    "```\n",
    "\n",
    "If you want to try to write your own C code, you can delete or move the existing version. We suggest you use the same prototype."
   ]
  },
  {
   "cell_type": "code",
   "execution_count": null,
   "metadata": {},
   "outputs": [],
   "source": [
    "# Execute if you want to write your own `jacobi.c`\n",
    "! mv jacaobi.c jacobi_ref.c"
   ]
  },
  {
   "cell_type": "markdown",
   "metadata": {},
   "source": [
    "### Compile the shared library\n",
    "\n",
    "Using `gcc` as the comipiler, we may compile the `jacobi.c` to a shared library via\n",
    "```bash\n",
    "$ gcc -c -fPIC jacobi.c\n",
    "$ gcc -shared -o jacobi.so jacobi.o\n",
    "```\n",
    "The option `-fPIC` instructs the compiler to produce \"position independent code\"; this means that the object produced does not contain any absolute memory addresses. The associated shared library can then be loaded at runtime without the risk that it accesses memory asscoaited with any external code.\n",
    "\n",
    "The cell below will do this via the shell escape. The result should be the shared object `jacobi.so`:"
   ]
  },
  {
   "cell_type": "code",
   "execution_count": null,
   "metadata": {},
   "outputs": [],
   "source": [
    "! gcc -c -fPIC jacobi.c\n",
    "! gcc -shared -o jacobi.so jacobi.o\n",
    "! ls -l jacobi.so"
   ]
  },
  {
   "cell_type": "markdown",
   "metadata": {},
   "source": [
    "### Load and describe the shared library in python\n",
    "\n",
    "We now need to load the shared library, and describe the interface in the main python driver code `cfd.py`.\n",
    "\n",
    "The first stage is to load the library\n",
    "```python\n",
    "import ctypes\n",
    "\n",
    "lib = ctypes.cdll.LoadLibrary(\"jacobi.so\")\n",
    "```\n",
    "Here we assume the shared object is in the same directory as the `cfd.py`; a real application may need to search the appropriate path to locate the library. A real application would also include appropriate erro checking.\n",
    "\n",
    "Next, we need to describe the C prototype to python. This may be done via:\n",
    "```python\n",
    "# Return type\n",
    "lib.jacobi.restype = ctypes.c_int\n",
    "\n",
    "# Argument list\n",
    "lib.jacobi.argtypes = [ctypes.c_int,\n",
    "                       ctypes.c_int,\n",
    "                       ctypes.c_int,\n",
    "                       ctypes.POINTER(ctypes.c_double)]\n",
    "```\n",
    "The `ctypes.POINTER()` returns a `ctypes` pointer description corresponding to the C prototype. However, the `cfd.py` code operates on a `numpy.ndarray` object. A further stage is therefore required to achieve the correct result. This is\n",
    "performed in the wrapper function:\n",
    "```python\n",
    "def jacobi(niter, psi):\n",
    "    \n",
    "    m, n = psi.shape\n",
    "    data = psi.ctypes.data_as(ctypes.POINTER(ctypes.c_double))\n",
    "    lib.jacobi(m, n, niter, data)\n",
    "    \n",
    "    return\n",
    "```\n",
    "This uses utilities provided by `ndarray` specifically to allow idenitication of appropriate `ctypes` descriptions.\n",
    "\n",
    "It should now be possible to run and test the code."
   ]
  },
  {
   "cell_type": "code",
   "execution_count": null,
   "metadata": {},
   "outputs": [],
   "source": [
    "! ./cfd.py 1 1000\n",
    "! diff velocity.dat ../verify/cfd_velocity_1_1000.dat"
   ]
  }
 ],
 "metadata": {
  "kernelspec": {
   "display_name": "Python 3",
   "language": "python",
   "name": "python3"
  },
  "language_info": {
   "codemirror_mode": {
    "name": "ipython",
    "version": 3
   },
   "file_extension": ".py",
   "mimetype": "text/x-python",
   "name": "python",
   "nbconvert_exporter": "python",
   "pygments_lexer": "ipython3",
   "version": "3.7.0"
  }
 },
 "nbformat": 4,
 "nbformat_minor": 2
}
