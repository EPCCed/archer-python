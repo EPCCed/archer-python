{
 "cells": [
  {
   "cell_type": "markdown",
   "metadata": {},
   "source": [
    "### Using Fortran and f2py\n",
    "\n",
    "We will replace the `jacobi.py` implementation with an external\n",
    "Fortran subroutine that performs the same calculation.\n",
    "\n",
    "If you wish to try to write your own Fortran Jacobi code, ignore\n",
    "the accompanying `jacobi.f90` and edit new file; you will need to\n",
    "adjust the commands below.\n",
    "\n",
    "Otherwise, you should be able to locate `jacobi.f90` and the accompanying\n",
    "`Makefile` in the same directory that contains this notebook.\n",
    "Look at the Fortran source provided. The `Makefile` is there\n",
    "for convenience and contains relevant targets for the Fortran\n",
    "version. This notebook uses the commands explicitly.\n",
    "\n",
    "There are a number of things to note about `jacobi.f90`.\n",
    "\n",
    "The lines with `!f2py` are used to define the attributes of the\n",
    "argument variables to the `f2py` tool. `intent(in)` specifies that\n",
    "the variables are input variables only, `intent(inplace)` specifies\n",
    "that the variable is being passed by reference (so any changes to\n",
    "the variable in this routine will be reflected in the calling code).\n",
    "\n",
    "We now need to use the f2py tool to produce a signature of this Fortran subroutine that specifies how to construct the interface between Python and Fortran. You do this with the following shell command:\n",
    "```\n",
    "$ f2py jacobi.f90 -m jacobi -h jacobi.pyf\n",
    "```"
   ]
  },
  {
   "cell_type": "code",
   "execution_count": null,
   "metadata": {},
   "outputs": [],
   "source": [
    "# Or try it here via a shell-escape\n",
    "! f2py jacobi.f90 -m jacobi -h jacobi.pyf"
   ]
  },
  {
   "cell_type": "markdown",
   "metadata": {},
   "source": [
    "This should produce a text file called `jacobi.pyf` that contains\n",
    "the signature for the Fortran subroutine `jacobi()`. We now need\n",
    "to combine this signature with the actual Fortran code to produce\n",
    "a dynamic library that can be imported by Python. We use the `f2py`\n",
    "command again to do this (note that this stage requires a Fortran\n",
    "compiler to be available):\n",
    "```\n",
    "$ f2py -c jacobi.pyf jacobi.f90\n",
    "```"
   ]
  },
  {
   "cell_type": "code",
   "execution_count": null,
   "metadata": {},
   "outputs": [],
   "source": [
    "# Here via the shell escape (Can produce a lot of output...)\n",
    "! f2py -c jacobi.pyf jacobi.f90"
   ]
  },
  {
   "cell_type": "markdown",
   "metadata": {},
   "source": [
    "This should produce (after some output) a file with a `.so` extension\n",
    "(e.g., on MacOS with python3.7 the file is `jacobi.cpython-37m-darwin.so`).\n",
    "\n",
    "We can test it works via the following, which should produce the\n",
    "docstring for the Fortran function:\n"
   ]
  },
  {
   "cell_type": "code",
   "execution_count": null,
   "metadata": {},
   "outputs": [],
   "source": [
    "import jacobi\n",
    "print(jacobi.jacobi.__doc__)"
   ]
  },
  {
   "cell_type": "markdown",
   "metadata": {},
   "source": [
    "As you can see, the calling sequence from Python differs from the\n",
    "argument sequence specified in the Fortran code. The two arguments\n",
    "`m` and `n` are not required when calling from Python. f2py has\n",
    "realized that these variables are related to the dimensions of the\n",
    "`psi` array. The interface wrapper knows how to extract these values\n",
    "from the `numpy` array in Python so you can just call the function\n",
    "via:\n",
    "```python\n",
    "from jacobi import jacobi\n",
    "...\n",
    "jacobi(niter, psi)\n",
    "```\n",
    "\n",
    "You should now be able to verify the code works, and test the performance."
   ]
  },
  {
   "cell_type": "code",
   "execution_count": null,
   "metadata": {},
   "outputs": [],
   "source": [
    "# E.g., and compare velocity.dat with ../verify/cfd_velocity_1_1000dat\n",
    "! ./cfd.py 1 1000\n",
    "! diff velocity.dat ../verify/cfd_velocity_1_1000.dat"
   ]
  }
 ],
 "metadata": {
  "kernelspec": {
   "display_name": "Python 3",
   "language": "python",
   "name": "python3"
  },
  "language_info": {
   "codemirror_mode": {
    "name": "ipython",
    "version": 3
   },
   "file_extension": ".py",
   "mimetype": "text/x-python",
   "name": "python",
   "nbconvert_exporter": "python",
   "pygments_lexer": "ipython3",
   "version": "3.7.0"
  }
 },
 "nbformat": 4,
 "nbformat_minor": 2
}
